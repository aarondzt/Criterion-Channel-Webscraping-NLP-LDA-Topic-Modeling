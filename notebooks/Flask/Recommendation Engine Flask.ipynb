{
 "cells": [
  {
   "cell_type": "markdown",
   "id": "caroline-ministry",
   "metadata": {},
   "source": [
    "### To do:\n",
    "* Be able to search for film in dataset\n",
    "* Be able to add films to list of already watched films\n",
    "* Be able to add films to watchlist"
   ]
  },
  {
   "cell_type": "code",
   "execution_count": 130,
   "id": "serious-honor",
   "metadata": {},
   "outputs": [
    {
     "data": {
      "application/vnd.jupyter.widget-view+json": {
       "model_id": "649056d9622642d18f1dee87c3018269",
       "version_major": 2,
       "version_minor": 0
      },
      "text/plain": [
       "Output()"
      ]
     },
     "metadata": {},
     "output_type": "display_data"
    },
    {
     "data": {
      "application/vnd.jupyter.widget-view+json": {
       "model_id": "de8b38af8ad5436794ba69869c9f4fef",
       "version_major": 2,
       "version_minor": 0
      },
      "text/plain": [
       "VBox(children=(Text(value='', description='Enter film:'), Text(value='', description='Enter recommendation #:'…"
      ]
     },
     "metadata": {},
     "output_type": "display_data"
    }
   ],
   "source": [
    "from ipywidgets import *\n",
    "from IPython.display import *\n",
    "import requests\n",
    "from ipysheet import from_dataframe\n",
    "import pandas as pd\n",
    "import json\n",
    "\n",
    "film = Text(description = 'Enter film:')\n",
    "rec_no = Text(description = 'Enter recommendation #:')\n",
    "get_recs = Button(description = 'Get recommendations')\n",
    "out = Output()\n",
    "display(out)\n",
    "\n",
    "def GetRecs(btn):\n",
    "    r = requests.put('http://127.0.0.1:5000/get_recs', json = {'film': film.value, \n",
    "                                                             'number': rec_no.value})\n",
    "    with out:\n",
    "        clear_output()\n",
    "    with out:\n",
    "        print('Recommendation # ' + str(rec_no.value))\n",
    "        print('-' * 10)\n",
    "        print('Title: ' + json.loads(r.json())['Title'])\n",
    "        print('Year: ' + str(json.loads(r.json())['Year']))\n",
    "        print('Director: ' + json.loads(r.json())['Director'])\n",
    "        print('-' * 10)\n",
    "        print('Topic Description: ' + json.loads(r.json())['Topic Description'])\n",
    "        print('-' * 10)\n",
    "        print('Film Description: ' + json.loads(r.json())['Description'])\n",
    "        print('-' * 10)\n",
    "        print('IMDB Rating: ' + str(json.loads(r.json())['averageRating']))\n",
    "        print('URL: ' + json.loads(r.json())['Url'])\n",
    "        \n",
    "get_recs.on_click(GetRecs)\n",
    "\n",
    "VBox([film, rec_no, get_recs, label])"
   ]
  },
  {
   "cell_type": "markdown",
   "id": "dimensional-crossing",
   "metadata": {},
   "source": [
    "$env:FLASK_APP = \"server\"\n",
    "\n",
    "flask run"
   ]
  }
 ],
 "metadata": {
  "kernelspec": {
   "display_name": "Python 3",
   "language": "python",
   "name": "python3"
  },
  "language_info": {
   "codemirror_mode": {
    "name": "ipython",
    "version": 3
   },
   "file_extension": ".py",
   "mimetype": "text/x-python",
   "name": "python",
   "nbconvert_exporter": "python",
   "pygments_lexer": "ipython3",
   "version": "3.8.8"
  }
 },
 "nbformat": 4,
 "nbformat_minor": 5
}
