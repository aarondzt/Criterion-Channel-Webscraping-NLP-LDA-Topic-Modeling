{
 "cells": [
  {
   "cell_type": "markdown",
   "metadata": {},
   "source": [
    "### LDA Topic Modeling"
   ]
  },
  {
   "cell_type": "code",
   "execution_count": 11,
   "metadata": {},
   "outputs": [],
   "source": [
    "import pandas as pd\n",
    "data = pd.read_csv('data\\Merged.csv')"
   ]
  },
  {
   "cell_type": "code",
   "execution_count": 12,
   "metadata": {},
   "outputs": [],
   "source": [
    "corpus = data['Description']"
   ]
  },
  {
   "cell_type": "code",
   "execution_count": null,
   "metadata": {},
   "outputs": [],
   "source": [
    "len(corpus)"
   ]
  },
  {
   "cell_type": "code",
   "execution_count": null,
   "metadata": {},
   "outputs": [],
   "source": [
    "import re\n",
    "f = open('C:/Users/HP/Documents/NLP/MySQL_stopwords.txt', 'r', encoding = 'utf-8')\n",
    "stop_words = f.read()\n",
    "stop_words = re.split(' \\t|\\n', stop_words)"
   ]
  },
  {
   "cell_type": "code",
   "execution_count": null,
   "metadata": {},
   "outputs": [],
   "source": [
    "import nltk\n",
    "from nltk import TweetTokenizer\n",
    "# stop_words = nltk.corpus.stopwords.words('english')\n",
    "tokenizer = TweetTokenizer()\n",
    "lemmatizer = nltk.stem.wordnet.WordNetLemmatizer()\n",
    "def normalize_corpus(corpus):\n",
    "    normalized_corpus = []\n",
    "    for i, document in enumerate(corpus):\n",
    "        # Lowercase\n",
    "        document = document.lower()\n",
    "        # Replace \n",
    "        document = document.replace(\"/\", \" \")\n",
    "        document = document.replace(\"’\", \"'\")\n",
    "        document = document.replace(\"'s\", \"\")\n",
    "        # Remove numbers\n",
    "        document = re.sub('[^A-Za-z0-9\\']+', ' ', document)\n",
    "        # Strip spaces\n",
    "        document_tokens = tokenizer.tokenize(document)\n",
    "        # Remove stopwords\n",
    "        document_tokens = [token for token in document_tokens if token not in stop_words]\n",
    "        # Lemmatize\n",
    "        document_tokens = [lemmatizer.lemmatize(token) for token in document_tokens if not token.isnumeric()]\n",
    "        # Remove single characters\n",
    "        document_tokens = [token for token in document_tokens if len(token) > 1]\n",
    "        # Remove empty corpus\n",
    "        if document_tokens:\n",
    "            normalized_corpus.append(document_tokens)\n",
    "    return normalized_corpus\n",
    "normalized_corpus = normalize_corpus(corpus)"
   ]
  },
  {
   "cell_type": "code",
   "execution_count": null,
   "metadata": {},
   "outputs": [],
   "source": [
    "import gensim\n",
    "bigram = gensim.models.Phrases(normalized_corpus, min_count = 5, threshold = 5, delimiter = b'_')\n",
    "bigram_model = gensim.models.phrases.Phraser(bigram)"
   ]
  },
  {
   "cell_type": "code",
   "execution_count": null,
   "metadata": {},
   "outputs": [],
   "source": [
    "normalized_corpus_bigrams = [bigram_model[post] for post in normalized_corpus]\n",
    "# Create a dictionary representation of the documents.\n",
    "dictionary = gensim.corpora.Dictionary(normalized_corpus_bigrams)\n",
    "print('Total Vocabulary Size:', len(dictionary))"
   ]
  },
  {
   "cell_type": "code",
   "execution_count": null,
   "metadata": {},
   "outputs": [],
   "source": [
    "# Filter out words that occur less than 5 documents, or more than 50% of the documents.\n",
    "dictionary.filter_extremes(no_below = 5, no_above = 0.5)\n",
    "print('Total Vocabulary Size:', len(dictionary))"
   ]
  },
  {
   "cell_type": "code",
   "execution_count": null,
   "metadata": {},
   "outputs": [],
   "source": [
    "# Transforming corpus into bag of words vectors\n",
    "bow_corpus = [dictionary.doc2bow(text) for text in normalized_corpus_bigrams]\n",
    "import pickle\n",
    "pickle.dump(bow_corpus, open('bow_corpus.pkl', 'wb'))"
   ]
  },
  {
   "cell_type": "code",
   "execution_count": null,
   "metadata": {},
   "outputs": [],
   "source": [
    "MALLET_PATH = 'C:/mallet-2.0.8/bin/mallet'\n",
    "import os\n",
    "from gensim.models.wrappers import LdaMallet\n",
    "from tqdm import tqdm\n",
    "os.environ['MALLET_HOME'] = 'C:/mallet-2.0.8'\n",
    "\n",
    "def topic_model_coherence_generator(corpus, texts, dictionary, \n",
    "                                    start_topic_count = 1, end_topic_count = 10, step = 1,\n",
    "                                    cpus = 8):\n",
    "    models = []\n",
    "    coherence_scores = []\n",
    "    for topic_nums in tqdm(range(start_topic_count, end_topic_count + 1, step)):\n",
    "        mallet_lda_model = gensim.models.wrappers.LdaMallet(mallet_path = MALLET_PATH, corpus = corpus,\n",
    "                                                            num_topics = topic_nums, id2word = dictionary,\n",
    "                                                            iterations = 100, workers = cpus, random_seed = 20210224)\n",
    "        cv_coherence_model_mallet_lda = gensim.models.CoherenceModel(model = mallet_lda_model, corpus = corpus, \n",
    "                                                                     texts = texts, dictionary = dictionary, \n",
    "                                                                     coherence = 'c_v')\n",
    "        coherence_score = cv_coherence_model_mallet_lda.get_coherence()\n",
    "        coherence_scores.append(coherence_score)\n",
    "        models.append(mallet_lda_model)\n",
    "    return models, coherence_scores"
   ]
  },
  {
   "cell_type": "markdown",
   "metadata": {},
   "source": [
    "### 25 Topics"
   ]
  },
  {
   "cell_type": "code",
   "execution_count": null,
   "metadata": {},
   "outputs": [],
   "source": [
    "# start_topic_count = 1\n",
    "# end_topic_count = 25\n",
    "# lda_models, coherence_scores = topic_model_coherence_generator(corpus = bow_corpus, texts = normalized_corpus_bigrams,\n",
    "#                                                                dictionary = dictionary, start_topic_count = start_topic_count,\n",
    "#                                                                end_topic_count = end_topic_count, step = 1, cpus = 8)\n",
    "# import pickle\n",
    "# pickle.dump(lda_models, open('25_topics_lda_models.pkl', 'wb'))\n",
    "# pickle.dump(coherence_scores, open('25_topics_coherence_scores.pkl', 'wb'))"
   ]
  },
  {
   "cell_type": "code",
   "execution_count": null,
   "metadata": {},
   "outputs": [],
   "source": [
    "# lda_models = pickle.load(open('25_topics_lda_models.pkl','rb'))\n",
    "# coherence_scores = pickle.load(open('25_topics_coherence_scores.pkl','rb'))"
   ]
  },
  {
   "cell_type": "markdown",
   "metadata": {},
   "source": [
    "### 50 Topics"
   ]
  },
  {
   "cell_type": "code",
   "execution_count": null,
   "metadata": {},
   "outputs": [],
   "source": [
    "# start_topic_count = 1\n",
    "# end_topic_count = 50\n",
    "# lda_models, coherence_scores = topic_model_coherence_generator(corpus = bow_corpus, texts = normalized_corpus_bigrams,\n",
    "#                                                                dictionary = dictionary, start_topic_count = start_topic_count,\n",
    "#                                                                end_topic_count = end_topic_count, step = 1, cpus = 8)\n",
    "# pickle.dump(lda_models, open('50_topics_lda_models.pkl', 'wb'))\n",
    "# pickle.dump(coherence_scores, open('50_topics_coherence_scores.pkl', 'wb'))"
   ]
  },
  {
   "cell_type": "code",
   "execution_count": null,
   "metadata": {},
   "outputs": [],
   "source": [
    "# lda_models = pickle.load(open('50_topics_lda_models.pkl','rb'))\n",
    "# coherence_scores = pickle.load(open('50_topics_coherence_scores.pkl','rb'))"
   ]
  },
  {
   "cell_type": "markdown",
   "metadata": {},
   "source": [
    "### 100 Topics"
   ]
  },
  {
   "cell_type": "code",
   "execution_count": null,
   "metadata": {},
   "outputs": [],
   "source": [
    "# start_topic_count = 1\n",
    "# end_topic_count = 100\n",
    "# lda_models, coherence_scores = topic_model_coherence_generator(corpus = bow_corpus, texts = normalized_corpus_bigrams,\n",
    "#                                                                dictionary = dictionary, start_topic_count = start_topic_count,\n",
    "#                                                                end_topic_count = end_topic_count, step = 1, cpus = 8)\n",
    "# pickle.dump(lda_models, open('100_topics_lda_models.pkl', 'wb'))\n",
    "# pickle.dump(coherence_scores, open('100_topics_coherence_scores.pkl', 'wb'))"
   ]
  },
  {
   "cell_type": "code",
   "execution_count": 1,
   "metadata": {},
   "outputs": [],
   "source": [
    "import pickle\n",
    "lda_models = pickle.load(open('100_topics_lda_models.pkl','rb'))\n",
    "coherence_scores = pickle.load(open('100_topics_coherence_scores.pkl','rb'))"
   ]
  },
  {
   "cell_type": "markdown",
   "metadata": {},
   "source": [
    "### Analyze Model"
   ]
  },
  {
   "cell_type": "code",
   "execution_count": 2,
   "metadata": {},
   "outputs": [],
   "source": [
    "import numpy as np\n",
    "import pandas as pd\n",
    "end_topic_count = 100\n",
    "coherence_df = pd.DataFrame({'Number of Topics': range(1, end_topic_count + 1, 1),\n",
    "                             'Coherence Score': np.round(coherence_scores, 4)})\n",
    "coherence_df = coherence_df.sort_values(by = 'Coherence Score', ascending = False).head(10)"
   ]
  },
  {
   "cell_type": "code",
   "execution_count": 3,
   "metadata": {},
   "outputs": [
    {
     "data": {
      "image/png": "[encoded data removed]",
      "text/plain": [
       "<Figure size 864x432 with 1 Axes>"
      ]
     },
     "metadata": {
      "needs_background": "light"
     },
     "output_type": "display_data"
    }
   ],
   "source": [
    "import matplotlib.pyplot as plt\n",
    "plt.style.use('fivethirtyeight')\n",
    "%matplotlib inline\n",
    "\n",
    "x_ax = range(1, end_topic_count + 1, 1)\n",
    "y_ax = coherence_scores\n",
    "plt.figure(figsize=(12, 6))\n",
    "plt.plot(x_ax, y_ax, c = 'r')\n",
    "plt.rcParams['figure.facecolor'] = 'white'\n",
    "xl = plt.xlabel('Number of Topics')\n",
    "yl = plt.ylabel('Coherence Score')"
   ]
  },
  {
   "cell_type": "code",
   "execution_count": 4,
   "metadata": {},
   "outputs": [
    {
     "data": {
      "text/plain": [
       "100"
      ]
     },
     "execution_count": 4,
     "metadata": {},
     "output_type": "execute_result"
    }
   ],
   "source": [
    "best_model_idx = coherence_df['Number of Topics'].index[1]\n",
    "best_lda_model = lda_models[best_model_idx]\n",
    "best_lda_model.num_topics"
   ]
  },
  {
   "cell_type": "code",
   "execution_count": 5,
   "metadata": {},
   "outputs": [],
   "source": [
    "topics = [[(term, round(wt, 3)) \n",
    "               for term, wt in best_lda_model.show_topic(n, topn = 20)] \n",
    "                   for n in range(0, best_lda_model.num_topics)]"
   ]
  },
  {
   "cell_type": "code",
   "execution_count": 6,
   "metadata": {},
   "outputs": [
    {
     "data": {
      "text/html": [
       "<div>\n",
       "<style scoped>\n",
       "    .dataframe tbody tr th:only-of-type {\n",
       "        vertical-align: middle;\n",
       "    }\n",
       "\n",
       "    .dataframe tbody tr th {\n",
       "        vertical-align: top;\n",
       "    }\n",
       "\n",
       "    .dataframe thead th {\n",
       "        text-align: right;\n",
       "    }\n",
       "</style>\n",
       "<table border=\"1\" class=\"dataframe\">\n",
       "  <thead>\n",
       "    <tr style=\"text-align: right;\">\n",
       "      <th></th>\n",
       "      <th>Topic Desc</th>\n",
       "    </tr>\n",
       "  </thead>\n",
       "  <tbody>\n",
       "    <tr>\n",
       "      <th>1</th>\n",
       "      <td>image, feature, making, vision, create, groundbreaking, year, cinema, future, show, shadow, including, authority, empathetic, photograph, fact, citizen, alberto, smith, norman</td>\n",
       "    </tr>\n",
       "    <tr>\n",
       "      <th>2</th>\n",
       "      <td>played, close, young_man, life, live, real_life, startling, existence, debut, jealousy, american_independent, form, connection, emotion, sex, portrait_woman, back, visual, operatic, tower</td>\n",
       "    </tr>\n",
       "    <tr>\n",
       "      <th>3</th>\n",
       "      <td>epic, famous, action, decade, age, adventure, moral, modern, exploit, visual, middle, detail, striking, documentary, machine, stop, legendary, talking, viewer, universe</td>\n",
       "    </tr>\n",
       "    <tr>\n",
       "      <th>4</th>\n",
       "      <td>american, war, release, remains, state, featuring, directed, fight, crisis, sensation, gripping, ren, leading, texas, target, razor, perfect, suburban, uncovers, group</td>\n",
       "    </tr>\n",
       "    <tr>\n",
       "      <th>5</th>\n",
       "      <td>director, film, international, shot, world, dramatic, collaborator, heartbreaking, street, woman, winner, emotionally, screen, tragedy, film_festival, demon, frequent, movie, cemented, violence</td>\n",
       "    </tr>\n",
       "  </tbody>\n",
       "</table>\n",
       "</div>"
      ],
      "text/plain": [
       "                                                                                                                                                                                          Topic Desc\n",
       "1                    image, feature, making, vision, create, groundbreaking, year, cinema, future, show, shadow, including, authority, empathetic, photograph, fact, citizen, alberto, smith, norman\n",
       "2        played, close, young_man, life, live, real_life, startling, existence, debut, jealousy, american_independent, form, connection, emotion, sex, portrait_woman, back, visual, operatic, tower\n",
       "3                           epic, famous, action, decade, age, adventure, moral, modern, exploit, visual, middle, detail, striking, documentary, machine, stop, legendary, talking, viewer, universe\n",
       "4                            american, war, release, remains, state, featuring, directed, fight, crisis, sensation, gripping, ren, leading, texas, target, razor, perfect, suburban, uncovers, group\n",
       "5  director, film, international, shot, world, dramatic, collaborator, heartbreaking, street, woman, winner, emotionally, screen, tragedy, film_festival, demon, frequent, movie, cemented, violence"
      ]
     },
     "execution_count": 6,
     "metadata": {},
     "output_type": "execute_result"
    }
   ],
   "source": [
    "pd.set_option('display.max_colwidth', None)\n",
    "topics_df = pd.DataFrame([', '.join([term for term, wt in topic])  \n",
    "                              for topic in topics],\n",
    "                         columns = ['Topic Desc'],\n",
    "                         index = range(1, best_lda_model.num_topics + 1)\n",
    "                         )\n",
    "topics_df.head()"
   ]
  },
  {
   "cell_type": "code",
   "execution_count": 7,
   "metadata": {},
   "outputs": [],
   "source": [
    "bow_corpus = pickle.load(open('bow_corpus.pkl','rb'))"
   ]
  },
  {
   "cell_type": "code",
   "execution_count": 8,
   "metadata": {},
   "outputs": [],
   "source": [
    "tm_results = best_lda_model[bow_corpus]"
   ]
  },
  {
   "cell_type": "code",
   "execution_count": 9,
   "metadata": {},
   "outputs": [],
   "source": [
    "corpus_topics = [sorted(topics, key = lambda record: -record[1])[0] for topics in tm_results]"
   ]
  },
  {
   "cell_type": "code",
   "execution_count": 13,
   "metadata": {},
   "outputs": [
    {
     "data": {
      "text/html": [
       "<div>\n",
       "<style scoped>\n",
       "    .dataframe tbody tr th:only-of-type {\n",
       "        vertical-align: middle;\n",
       "    }\n",
       "\n",
       "    .dataframe tbody tr th {\n",
       "        vertical-align: top;\n",
       "    }\n",
       "\n",
       "    .dataframe thead th {\n",
       "        text-align: right;\n",
       "    }\n",
       "</style>\n",
       "<table border=\"1\" class=\"dataframe\">\n",
       "  <thead>\n",
       "    <tr style=\"text-align: right;\">\n",
       "      <th></th>\n",
       "      <th>Document</th>\n",
       "      <th>Dominant Topic</th>\n",
       "      <th>Contribution %</th>\n",
       "      <th>Topic Desc</th>\n",
       "      <th>Description</th>\n",
       "    </tr>\n",
       "  </thead>\n",
       "  <tbody>\n",
       "    <tr>\n",
       "      <th>0</th>\n",
       "      <td>0</td>\n",
       "      <td>88</td>\n",
       "      <td>9.55</td>\n",
       "      <td>godard, anna, marriage, star, iconic, french_wave, relationship, thing, medium, entertaining, landmark, jean_luc, fashion, actress, institution, witness, word, helped, collaboration, mental</td>\n",
       "      <td>In 2 OR 3 THINGS I KNOW ABOUT HER (2 OU 3 CHOSES QUE JE SAIS D’ELLE), Jean-Luc Godard beckons us ever closer, whispering in our ears as narrator. About what? Money, sex, fashion, the city, love, language, war: in a word, everything. Among the legendary French filmmaker’s finest achievements, the film takes as its ostensible subject the daily life of Juliette Janson (Marina Vlady), a housewife from the Paris suburbs who prostitutes herself for extra money. Yet this is only a template for Godard to spin off into provocative philosophical tangents and gorgeous images. 2 OR 3 THINGS I KNOW ABOUT HER is perhaps Godard’s most revelatory look at consumer culture, shot in ravishing widescreen color by Raoul Coutard.</td>\n",
       "    </tr>\n",
       "    <tr>\n",
       "      <th>1</th>\n",
       "      <td>1</td>\n",
       "      <td>90</td>\n",
       "      <td>4.48</td>\n",
       "      <td>day, long, narrative, school, 1950s, drive, modern, early, iranian, arrival, expression, plot, cold, revenge, humanity, shot, drawing, villager, act, grave</td>\n",
       "      <td>Iranian master Jafar Panahi’s fourth feature since he was officially banned from filmmaking is a courageous act of antipatriarchal defiance from an artist who has refused to be silenced. This playful docufiction road movie begins with a smartphone video sent to the director and real-life star actress Behnaz Jafari from a desperate young woman who, distraught at her family’s refusal to let her study drama, seemingly records her own suicide. Traveling to the woman’s rural hometown to investigate, Panahi and Jafari find themselves launched on a slyly comic, quietly revelatory journey that builds in narrative, thematic, and visual intricacy to put forth a grand expression of community and solidarity under the eye of oppression.</td>\n",
       "    </tr>\n",
       "    <tr>\n",
       "      <th>2</th>\n",
       "      <td>2</td>\n",
       "      <td>90</td>\n",
       "      <td>5.49</td>\n",
       "      <td>day, long, narrative, school, 1950s, drive, modern, early, iranian, arrival, expression, plot, cold, revenge, humanity, shot, drawing, villager, act, grave</td>\n",
       "      <td>Romanian filmmaker Cristian Mungiu shot to international prominence with this rigorously realistic Palme d’Or–winning second feature. In 1987, during the dictatorship of Nicolae Ceaușescu, college roommates Otilia (Anamaria Marinca) and Găbița (Laura Vasiliu) seek an illegal abortion for Găbița. In unflinching but empathetic detail, the film recounts the events of twenty-four perilous hours in their lives, culminating in their encounter with a manipulative and menacing abortionist (Vlad Ivanov). With powerful performances that accentuate the characters’ flawed humanity, 4 MONTHS, 3 WEEKS AND 2 DAYS is a gutting account of the impossible choices women face when taking control of their bodies means breaking the law.</td>\n",
       "    </tr>\n",
       "    <tr>\n",
       "      <th>3</th>\n",
       "      <td>3</td>\n",
       "      <td>71</td>\n",
       "      <td>6.88</td>\n",
       "      <td>game, film, search, individual, approach, figure, olympiad, olympic_winter, special, young_woman, medieval, strength, competition, bud_greenspan, meaning, eye, influential, exciting, intimacy, jury_prize</td>\n",
       "      <td>Director Tancred Ibsen's penchant for depicting rustic life shines through in the bucolic scenes at the start of THE VI OLYMPIC WINTER GAMES, OSLO 1952. In addition to the exciting scenes of competition (Winter sports are followed with almost rabid fervor in Scandinavia), Ibsen records a sense of community spirit shared among the competitors.</td>\n",
       "    </tr>\n",
       "    <tr>\n",
       "      <th>4</th>\n",
       "      <td>4</td>\n",
       "      <td>85</td>\n",
       "      <td>6.36</td>\n",
       "      <td>filmmaker, life, journey, acclaimed, footage, childhood, intimate, actor, project, dream, creates, follow, marcello_mastroianni, magic, longtime, nuanced, made, complex, autobiography, frame</td>\n",
       "      <td>Marcello Mastroianni plays Guido Anselmi, a director whose new project is collapsing around him, along with his life. One of the greatest films about film ever made, Federico Fellini’s 8½ (Otto e mezzo) turns one man’s artistic crisis into a grand epic of the cinema. An early working title for 8½ was THE BEAUTIFUL CONFUSION, and Fellini’s masterpiece is exactly that: a shimmering dream, a circus, and a magic act.</td>\n",
       "    </tr>\n",
       "  </tbody>\n",
       "</table>\n",
       "</div>"
      ],
      "text/plain": [
       "   Document  Dominant Topic  Contribution %  \\\n",
       "0         0              88            9.55   \n",
       "1         1              90            4.48   \n",
       "2         2              90            5.49   \n",
       "3         3              71            6.88   \n",
       "4         4              85            6.36   \n",
       "\n",
       "                                                                                                                                                                                                    Topic Desc  \\\n",
       "0                godard, anna, marriage, star, iconic, french_wave, relationship, thing, medium, entertaining, landmark, jean_luc, fashion, actress, institution, witness, word, helped, collaboration, mental   \n",
       "1                                                  day, long, narrative, school, 1950s, drive, modern, early, iranian, arrival, expression, plot, cold, revenge, humanity, shot, drawing, villager, act, grave   \n",
       "2                                                  day, long, narrative, school, 1950s, drive, modern, early, iranian, arrival, expression, plot, cold, revenge, humanity, shot, drawing, villager, act, grave   \n",
       "3  game, film, search, individual, approach, figure, olympiad, olympic_winter, special, young_woman, medieval, strength, competition, bud_greenspan, meaning, eye, influential, exciting, intimacy, jury_prize   \n",
       "4               filmmaker, life, journey, acclaimed, footage, childhood, intimate, actor, project, dream, creates, follow, marcello_mastroianni, magic, longtime, nuanced, made, complex, autobiography, frame   \n",
       "\n",
       "                                                                                                                                                                                                                                                                                                                                                                                                                                                                                                                                                                                                                                                                                                                                                     Description  \n",
       "0                  In 2 OR 3 THINGS I KNOW ABOUT HER (2 OU 3 CHOSES QUE JE SAIS D’ELLE), Jean-Luc Godard beckons us ever closer, whispering in our ears as narrator. About what? Money, sex, fashion, the city, love, language, war: in a word, everything. Among the legendary French filmmaker’s finest achievements, the film takes as its ostensible subject the daily life of Juliette Janson (Marina Vlady), a housewife from the Paris suburbs who prostitutes herself for extra money. Yet this is only a template for Godard to spin off into provocative philosophical tangents and gorgeous images. 2 OR 3 THINGS I KNOW ABOUT HER is perhaps Godard’s most revelatory look at consumer culture, shot in ravishing widescreen color by Raoul Coutard.  \n",
       "1  Iranian master Jafar Panahi’s fourth feature since he was officially banned from filmmaking is a courageous act of antipatriarchal defiance from an artist who has refused to be silenced. This playful docufiction road movie begins with a smartphone video sent to the director and real-life star actress Behnaz Jafari from a desperate young woman who, distraught at her family’s refusal to let her study drama, seemingly records her own suicide. Traveling to the woman’s rural hometown to investigate, Panahi and Jafari find themselves launched on a slyly comic, quietly revelatory journey that builds in narrative, thematic, and visual intricacy to put forth a grand expression of community and solidarity under the eye of oppression.  \n",
       "2            Romanian filmmaker Cristian Mungiu shot to international prominence with this rigorously realistic Palme d’Or–winning second feature. In 1987, during the dictatorship of Nicolae Ceaușescu, college roommates Otilia (Anamaria Marinca) and Găbița (Laura Vasiliu) seek an illegal abortion for Găbița. In unflinching but empathetic detail, the film recounts the events of twenty-four perilous hours in their lives, culminating in their encounter with a manipulative and menacing abortionist (Vlad Ivanov). With powerful performances that accentuate the characters’ flawed humanity, 4 MONTHS, 3 WEEKS AND 2 DAYS is a gutting account of the impossible choices women face when taking control of their bodies means breaking the law.  \n",
       "3                                                                                                                                                                                                                                                                                                                                                                                                       Director Tancred Ibsen's penchant for depicting rustic life shines through in the bucolic scenes at the start of THE VI OLYMPIC WINTER GAMES, OSLO 1952. In addition to the exciting scenes of competition (Winter sports are followed with almost rabid fervor in Scandinavia), Ibsen records a sense of community spirit shared among the competitors.  \n",
       "4                                                                                                                                                                                                                                                                                                                               Marcello Mastroianni plays Guido Anselmi, a director whose new project is collapsing around him, along with his life. One of the greatest films about film ever made, Federico Fellini’s 8½ (Otto e mezzo) turns one man’s artistic crisis into a grand epic of the cinema. An early working title for 8½ was THE BEAUTIFUL CONFUSION, and Fellini’s masterpiece is exactly that: a shimmering dream, a circus, and a magic act.  "
      ]
     },
     "execution_count": 13,
     "metadata": {},
     "output_type": "execute_result"
    }
   ],
   "source": [
    "corpus_topic_df = pd.DataFrame()\n",
    "corpus_topic_df['Document'] = range(0, len(corpus))\n",
    "corpus_topic_df['Dominant Topic'] = [item[0] + 1 for item in corpus_topics]\n",
    "corpus_topic_df['Contribution %'] = [round(item[1] * 100, 2) for item in corpus_topics]\n",
    "corpus_topic_df['Topic Desc'] = [topics_df.iloc[t[0]]['Topic Desc'] for t in corpus_topics]\n",
    "corpus_topic_df['Description'] = corpus\n",
    "corpus_topic_df.head()"
   ]
  },
  {
   "cell_type": "code",
   "execution_count": 14,
   "metadata": {},
   "outputs": [],
   "source": [
    "data['Topic'] = corpus_topic_df['Dominant Topic']\n",
    "data['Topic Description'] = corpus_topic_df['Topic Desc']"
   ]
  },
  {
   "cell_type": "code",
   "execution_count": 15,
   "metadata": {},
   "outputs": [],
   "source": [
    "data = data[['Title', 'Director', 'Country', 'Year', 'Decade', 'Duration',\n",
    "       'Description', 'Url', 'averageRating', 'numVotes', 'Topic',\n",
    "       'Topic Description']]"
   ]
  },
  {
   "cell_type": "code",
   "execution_count": 16,
   "metadata": {},
   "outputs": [],
   "source": [
    "data.to_csv('data\\Topics.csv', index = False)"
   ]
  },
  {
   "cell_type": "code",
   "execution_count": 17,
   "metadata": {},
   "outputs": [
    {
     "data": {
      "text/html": [
       "<div>\n",
       "<style scoped>\n",
       "    .dataframe tbody tr th:only-of-type {\n",
       "        vertical-align: middle;\n",
       "    }\n",
       "\n",
       "    .dataframe tbody tr th {\n",
       "        vertical-align: top;\n",
       "    }\n",
       "\n",
       "    .dataframe thead th {\n",
       "        text-align: right;\n",
       "    }\n",
       "</style>\n",
       "<table border=\"1\" class=\"dataframe\">\n",
       "  <thead>\n",
       "    <tr style=\"text-align: right;\">\n",
       "      <th></th>\n",
       "      <th># of Docs</th>\n",
       "      <th>% Total Docs</th>\n",
       "      <th>Topic Desc</th>\n",
       "    </tr>\n",
       "    <tr>\n",
       "      <th>Dominant Topic</th>\n",
       "      <th></th>\n",
       "      <th></th>\n",
       "      <th></th>\n",
       "    </tr>\n",
       "  </thead>\n",
       "  <tbody>\n",
       "    <tr>\n",
       "      <th>81</th>\n",
       "      <td>38</td>\n",
       "      <td>2.65</td>\n",
       "      <td>samurai, godzilla, monster, series, make, earth, action, clan, akira_kurosawa, toshiro_mifune, alien, kurosawa, return, sequel, japan, warrior, thrilling, planet, ghost, king</td>\n",
       "    </tr>\n",
       "    <tr>\n",
       "      <th>56</th>\n",
       "      <td>30</td>\n",
       "      <td>2.09</td>\n",
       "      <td>music, musical, score, cinematic, song, jazz, blue, composer, shadow, coming_age, studio, musician, bond, johnny, lone_wolf, kim, seller, ogami, female, hired</td>\n",
       "    </tr>\n",
       "    <tr>\n",
       "      <th>98</th>\n",
       "      <td>29</td>\n",
       "      <td>2.02</td>\n",
       "      <td>young, student, kinoshita, friend, directed_keisuke, visit, desert, member, caught, blind, decides, college, define, grow, friendship, andr, field, health, prove, life_death</td>\n",
       "    </tr>\n",
       "    <tr>\n",
       "      <th>12</th>\n",
       "      <td>25</td>\n",
       "      <td>1.74</td>\n",
       "      <td>comedy, star, silent, comic, legend, genius, chaplin, showcase, gag, stunt, set_piece, charlie_chaplin, kie_lowski, polish, ultimate, traveling, peak, protect, packed, tramp</td>\n",
       "    </tr>\n",
       "    <tr>\n",
       "      <th>84</th>\n",
       "      <td>23</td>\n",
       "      <td>1.60</td>\n",
       "      <td>work, film, ingmar_bergman, light, bergman, swedish, presented, making, major, experiment, astonishing, glass, trilogy, sj, winter, winner, spend, sven_nykvist, harriet_andersson, ingrid</td>\n",
       "    </tr>\n",
       "  </tbody>\n",
       "</table>\n",
       "</div>"
      ],
      "text/plain": [
       "                # of Docs  % Total Docs  \\\n",
       "Dominant Topic                            \n",
       "81                     38          2.65   \n",
       "56                     30          2.09   \n",
       "98                     29          2.02   \n",
       "12                     25          1.74   \n",
       "84                     23          1.60   \n",
       "\n",
       "                                                                                                                                                                                                Topic Desc  \n",
       "Dominant Topic                                                                                                                                                                                              \n",
       "81                          samurai, godzilla, monster, series, make, earth, action, clan, akira_kurosawa, toshiro_mifune, alien, kurosawa, return, sequel, japan, warrior, thrilling, planet, ghost, king  \n",
       "56                                          music, musical, score, cinematic, song, jazz, blue, composer, shadow, coming_age, studio, musician, bond, johnny, lone_wolf, kim, seller, ogami, female, hired  \n",
       "98                           young, student, kinoshita, friend, directed_keisuke, visit, desert, member, caught, blind, decides, college, define, grow, friendship, andr, field, health, prove, life_death  \n",
       "12                           comedy, star, silent, comic, legend, genius, chaplin, showcase, gag, stunt, set_piece, charlie_chaplin, kie_lowski, polish, ultimate, traveling, peak, protect, packed, tramp  \n",
       "84              work, film, ingmar_bergman, light, bergman, swedish, presented, making, major, experiment, astonishing, glass, trilogy, sj, winter, winner, spend, sven_nykvist, harriet_andersson, ingrid  "
      ]
     },
     "execution_count": 17,
     "metadata": {},
     "output_type": "execute_result"
    }
   ],
   "source": [
    "topic_stats_df = corpus_topic_df.groupby('Dominant Topic').count()\n",
    "topic_stats_df = topic_stats_df.drop(['Contribution %', 'Topic Desc', 'Description'], axis = 1)\n",
    "topic_stats_df.columns = ['# of Docs']\n",
    "topic_stats_df['% Total Docs'] = round(100 * topic_stats_df['# of Docs'] / sum(topic_stats_df['# of Docs']), 2)\n",
    "topic_stats_df['Topic Desc'] = topics_df['Topic Desc']\n",
    "topic_stats_df.sort_values('% Total Docs', ascending = False).head()"
   ]
  },
  {
   "cell_type": "code",
   "execution_count": 18,
   "metadata": {},
   "outputs": [
    {
     "data": {
      "text/html": [
       "<div>\n",
       "<style scoped>\n",
       "    .dataframe tbody tr th:only-of-type {\n",
       "        vertical-align: middle;\n",
       "    }\n",
       "\n",
       "    .dataframe tbody tr th {\n",
       "        vertical-align: top;\n",
       "    }\n",
       "\n",
       "    .dataframe thead th {\n",
       "        text-align: right;\n",
       "    }\n",
       "</style>\n",
       "<table border=\"1\" class=\"dataframe\">\n",
       "  <thead>\n",
       "    <tr style=\"text-align: right;\">\n",
       "      <th></th>\n",
       "      <th># of Docs</th>\n",
       "      <th>% Total Docs</th>\n",
       "      <th>Topic Desc</th>\n",
       "    </tr>\n",
       "    <tr>\n",
       "      <th>Dominant Topic</th>\n",
       "      <th></th>\n",
       "      <th></th>\n",
       "      <th></th>\n",
       "    </tr>\n",
       "  </thead>\n",
       "  <tbody>\n",
       "    <tr>\n",
       "      <th>3</th>\n",
       "      <td>6</td>\n",
       "      <td>0.42</td>\n",
       "      <td>epic, famous, action, decade, age, adventure, moral, modern, exploit, visual, middle, detail, striking, documentary, machine, stop, legendary, talking, viewer, universe</td>\n",
       "    </tr>\n",
       "    <tr>\n",
       "      <th>6</th>\n",
       "      <td>5</td>\n",
       "      <td>0.35</td>\n",
       "      <td>family, film, moving, exquisite, simple, debut_feature, japanese, photographed, written, feel, life, cutting, mm, revelation, refugee, insight, takashi, setup, view, italian_cinema</td>\n",
       "    </tr>\n",
       "    <tr>\n",
       "      <th>5</th>\n",
       "      <td>5</td>\n",
       "      <td>0.35</td>\n",
       "      <td>director, film, international, shot, world, dramatic, collaborator, heartbreaking, street, woman, winner, emotionally, screen, tragedy, film_festival, demon, frequent, movie, cemented, violence</td>\n",
       "    </tr>\n",
       "    <tr>\n",
       "      <th>60</th>\n",
       "      <td>5</td>\n",
       "      <td>0.35</td>\n",
       "      <td>cinema, shot, form, war, tender, german, homage, change, emotional, pioneer, sense, star, max, book, cinematography, ophuls, vivid, direction, pure, intimate</td>\n",
       "    </tr>\n",
       "    <tr>\n",
       "      <th>38</th>\n",
       "      <td>4</td>\n",
       "      <td>0.28</td>\n",
       "      <td>world, tale, set, time, human, cinematic, theme, final_film, rural, artistic, unforgettable, poor, protagonist, beautifully, creation, political, cinematic_experience, material, humanity, grim</td>\n",
       "    </tr>\n",
       "  </tbody>\n",
       "</table>\n",
       "</div>"
      ],
      "text/plain": [
       "                # of Docs  % Total Docs  \\\n",
       "Dominant Topic                            \n",
       "3                       6          0.42   \n",
       "6                       5          0.35   \n",
       "5                       5          0.35   \n",
       "60                      5          0.35   \n",
       "38                      4          0.28   \n",
       "\n",
       "                                                                                                                                                                                                       Topic Desc  \n",
       "Dominant Topic                                                                                                                                                                                                     \n",
       "3                                        epic, famous, action, decade, age, adventure, moral, modern, exploit, visual, middle, detail, striking, documentary, machine, stop, legendary, talking, viewer, universe  \n",
       "6                            family, film, moving, exquisite, simple, debut_feature, japanese, photographed, written, feel, life, cutting, mm, revelation, refugee, insight, takashi, setup, view, italian_cinema  \n",
       "5               director, film, international, shot, world, dramatic, collaborator, heartbreaking, street, woman, winner, emotionally, screen, tragedy, film_festival, demon, frequent, movie, cemented, violence  \n",
       "60                                                  cinema, shot, form, war, tender, german, homage, change, emotional, pioneer, sense, star, max, book, cinematography, ophuls, vivid, direction, pure, intimate  \n",
       "38               world, tale, set, time, human, cinematic, theme, final_film, rural, artistic, unforgettable, poor, protagonist, beautifully, creation, political, cinematic_experience, material, humanity, grim  "
      ]
     },
     "execution_count": 18,
     "metadata": {},
     "output_type": "execute_result"
    }
   ],
   "source": [
    "topic_stats_df.sort_values('% Total Docs', ascending = False).tail()"
   ]
  },
  {
   "cell_type": "code",
   "execution_count": 19,
   "metadata": {},
   "outputs": [
    {
     "data": {
      "text/html": [
       "<div>\n",
       "<style scoped>\n",
       "    .dataframe tbody tr th:only-of-type {\n",
       "        vertical-align: middle;\n",
       "    }\n",
       "\n",
       "    .dataframe tbody tr th {\n",
       "        vertical-align: top;\n",
       "    }\n",
       "\n",
       "    .dataframe thead th {\n",
       "        text-align: right;\n",
       "    }\n",
       "</style>\n",
       "<table border=\"1\" class=\"dataframe\">\n",
       "  <thead>\n",
       "    <tr style=\"text-align: right;\">\n",
       "      <th></th>\n",
       "      <th>Document</th>\n",
       "      <th>Dominant Topic</th>\n",
       "      <th>Contribution %</th>\n",
       "      <th>Topic Desc</th>\n",
       "      <th>Description</th>\n",
       "    </tr>\n",
       "    <tr>\n",
       "      <th>Dominant Topic</th>\n",
       "      <th></th>\n",
       "      <th></th>\n",
       "      <th></th>\n",
       "      <th></th>\n",
       "      <th></th>\n",
       "    </tr>\n",
       "  </thead>\n",
       "  <tbody>\n",
       "    <tr>\n",
       "      <th>12</th>\n",
       "      <td>228</td>\n",
       "      <td>12</td>\n",
       "      <td>26.20</td>\n",
       "      <td>comedy, star, silent, comic, legend, genius, chaplin, showcase, gag, stunt, set_piece, charlie_chaplin, kie_lowski, polish, ultimate, traveling, peak, protect, packed, tramp</td>\n",
       "      <td>In the last film he made during the silent era, Charlie Chaplin revels in the art of the circus, paying tribute to the acrobats and pantomimists who inspired his virtuoso pratfalls. After being mistaken for a pickpocket, Chaplin’s Tramp flees into the ring of a traveling circus and soon becomes the star of the show, falling for the troupe’s bareback rider along the way. Despite its famously troubled production, this gag-packed comedy ranks among Chaplin’s finest, thanks to some of the most audacious set pieces of the director-performer’s career, including a close brush with a lion and a climactic tightrope walk with a barrelful of monkeys. THE CIRCUS, which was rereleased in 1969 with a new score by Chaplin, is an uproarious high-wire act that showcases silent cinema’s most popular entertainer at the peak of his comic powers.</td>\n",
       "    </tr>\n",
       "    <tr>\n",
       "      <th>64</th>\n",
       "      <td>906</td>\n",
       "      <td>64</td>\n",
       "      <td>25.76</td>\n",
       "      <td>hope, friend, parent, return, accident, leave, von, thief, make, finding, car, marry, eva, married, travel, tradition, scottish, fair, physical, dream</td>\n",
       "      <td>When Valdemar Moreaux a carousel operator in a travelling fun-fair owned by his girl friend, learns that he is the bastard son of an aristocrat, he moves into his father's manor to be made over into aristocrat himself. It is he the hope of Colonel von Brede, the father, that Valdemar will be made worthy of carrying on the von Brede name and inherit his property. Von Brede is also the guardian of the beautiful and highly intelligent Eva Beckman (Ingrid Bergman). His other hope is that Valdemar and Eva will fall in love and get married. The initial coolness between this young couple gradually disappears and they agree to marry. But all hopes are dashed when Eva is confronted with the physical side of love, which she finds disgusting. Valdemar then realizes that he cannot be made over into another person and he returns to the fair and the honest simplicity of his former girl friend, Helga Mårtensson.</td>\n",
       "    </tr>\n",
       "    <tr>\n",
       "      <th>76</th>\n",
       "      <td>1185</td>\n",
       "      <td>76</td>\n",
       "      <td>23.63</td>\n",
       "      <td>lover, cinematographer, unique, run, style, capture, result, master, young, depth, offer, celebrated, reveals, glimpse, wide, simple, ray, romance, pedro, evolution</td>\n",
       "      <td>In 1959, Yasujiro Ozu remade his 1934 silent classic A STORY OF FLOATING WEEDS in color with the celebrated cinematographer Kazuo Miyagawa (RASHOMON, UGETSU). Setting his later version in a seaside location, Ozu otherwise preserves the details of his elegantly simple plot wherein an aging actor returns to a small town with his troupe and reunites with his former lover and illegitimate son, a scenario that enrages his current mistress and results in heartbreak for all. Together, the films offer a unique glimpse into the evolution of one of cinema’s greatest directors. A STORY OF FLOATING WEEDS reveals Ozu in the midst of developing his mode of expression; FLOATING WEEDS reveals his distinct style at its pinnacle. In each, the director captures the joy and sadness in everyday life.</td>\n",
       "    </tr>\n",
       "    <tr>\n",
       "      <th>14</th>\n",
       "      <td>1239</td>\n",
       "      <td>14</td>\n",
       "      <td>22.93</td>\n",
       "      <td>theater, nazi, thriller, criminal, noir, case, suspense, mystery, feature, filmmaking, version, career, opera, underworld, dr, britain, inspector, landmark, lang, complete</td>\n",
       "      <td>Locked away in an asylum for a decade and teetering between life and death, the criminal mastermind Doctor Mabuse (Rudolf Klein-Rogge) has scribbled his last will and testament: a manifesto establishing a future empire of crime. When the document’s nefarious writings start leading to terrifying parallels in reality, it’s up to Berlin’s star detective, Inspector Lohmann (Otto Wernicke, reprising his role from M) to connect the most fragmented, maddening clues in a case unlike any other. A sequel to his enormously successful silent film DR. MABUSE: THE GAMBLER, Fritz Lang’s THE TESTAMENT OF DR. MABUSE reunites the director with the character that had effectively launched his career. Lang put slogans and ideas expounded by the Nazis into the mouth of a madman, warning his audience of an imminent menace, which was soon to become a reality. Nazi Minister of Information Joseph Goebbels saw the film as an instruction manual for terrorist action against the government and banned it for “endangering public order and security.” A landmark of mystery and suspense for countless espionage and noir thrillers to come, this is the complete, uncut original director’s version in a stunning new transfer.</td>\n",
       "    </tr>\n",
       "    <tr>\n",
       "      <th>47</th>\n",
       "      <td>121</td>\n",
       "      <td>47</td>\n",
       "      <td>21.44</td>\n",
       "      <td>black, american, band, african_american, icon, race, documentary, society, western, racism, essential, national, explosive, scene, cultural, cowboy, harlem, extreme, army, offer</td>\n",
       "      <td>In 1971, a parade of African American cowboys rode into Harlem for a one-of-a-kind event: New York City’s first-ever Black rodeo. This remarkable, rarely-seen documentary offers a vivid, firsthand look at this unique cultural moment, which, for many of its enthralled spectators, redefined what a cowboy could look like. Among the luminaries on hand are Muhammad Ali—who rides a horse up 125th Street—and western icon Woody Strode, who speaks to the unsung history of Black cowboys in America.</td>\n",
       "    </tr>\n",
       "  </tbody>\n",
       "</table>\n",
       "</div>"
      ],
      "text/plain": [
       "                Document  Dominant Topic  Contribution %  \\\n",
       "Dominant Topic                                             \n",
       "12                   228              12           26.20   \n",
       "64                   906              64           25.76   \n",
       "76                  1185              76           23.63   \n",
       "14                  1239              14           22.93   \n",
       "47                   121              47           21.44   \n",
       "\n",
       "                                                                                                                                                                                       Topic Desc  \\\n",
       "Dominant Topic                                                                                                                                                                                      \n",
       "12                  comedy, star, silent, comic, legend, genius, chaplin, showcase, gag, stunt, set_piece, charlie_chaplin, kie_lowski, polish, ultimate, traveling, peak, protect, packed, tramp   \n",
       "64                                         hope, friend, parent, return, accident, leave, von, thief, make, finding, car, marry, eva, married, travel, tradition, scottish, fair, physical, dream   \n",
       "76                           lover, cinematographer, unique, run, style, capture, result, master, young, depth, offer, celebrated, reveals, glimpse, wide, simple, ray, romance, pedro, evolution   \n",
       "14                    theater, nazi, thriller, criminal, noir, case, suspense, mystery, feature, filmmaking, version, career, opera, underworld, dr, britain, inspector, landmark, lang, complete   \n",
       "47              black, american, band, african_american, icon, race, documentary, society, western, racism, essential, national, explosive, scene, cultural, cowboy, harlem, extreme, army, offer   \n",
       "\n",
       "                                                                                                                                                                                                                                                                                                                                                                                                                                                                                                                                                                                                                                                                                                                                                                                                                                                                                                                                                                                                                                                                                                                                                                                                                                                         Description  \n",
       "Dominant Topic                                                                                                                                                                                                                                                                                                                                                                                                                                                                                                                                                                                                                                                                                                                                                                                                                                                                                                                                                                                                                                                                                                                                                                                                                                                        \n",
       "12                                                                                                                                                                                                                                                                                                                                                                                             In the last film he made during the silent era, Charlie Chaplin revels in the art of the circus, paying tribute to the acrobats and pantomimists who inspired his virtuoso pratfalls. After being mistaken for a pickpocket, Chaplin’s Tramp flees into the ring of a traveling circus and soon becomes the star of the show, falling for the troupe’s bareback rider along the way. Despite its famously troubled production, this gag-packed comedy ranks among Chaplin’s finest, thanks to some of the most audacious set pieces of the director-performer’s career, including a close brush with a lion and a climactic tightrope walk with a barrelful of monkeys. THE CIRCUS, which was rereleased in 1969 with a new score by Chaplin, is an uproarious high-wire act that showcases silent cinema’s most popular entertainer at the peak of his comic powers.  \n",
       "64                                                                                                                                                                                                                                                                                                                    When Valdemar Moreaux a carousel operator in a travelling fun-fair owned by his girl friend, learns that he is the bastard son of an aristocrat, he moves into his father's manor to be made over into aristocrat himself. It is he the hope of Colonel von Brede, the father, that Valdemar will be made worthy of carrying on the von Brede name and inherit his property. Von Brede is also the guardian of the beautiful and highly intelligent Eva Beckman (Ingrid Bergman). His other hope is that Valdemar and Eva will fall in love and get married. The initial coolness between this young couple gradually disappears and they agree to marry. But all hopes are dashed when Eva is confronted with the physical side of love, which she finds disgusting. Valdemar then realizes that he cannot be made over into another person and he returns to the fair and the honest simplicity of his former girl friend, Helga Mårtensson.  \n",
       "76                                                                                                                                                                                                                                                                                                                                                                                                                                            In 1959, Yasujiro Ozu remade his 1934 silent classic A STORY OF FLOATING WEEDS in color with the celebrated cinematographer Kazuo Miyagawa (RASHOMON, UGETSU). Setting his later version in a seaside location, Ozu otherwise preserves the details of his elegantly simple plot wherein an aging actor returns to a small town with his troupe and reunites with his former lover and illegitimate son, a scenario that enrages his current mistress and results in heartbreak for all. Together, the films offer a unique glimpse into the evolution of one of cinema’s greatest directors. A STORY OF FLOATING WEEDS reveals Ozu in the midst of developing his mode of expression; FLOATING WEEDS reveals his distinct style at its pinnacle. In each, the director captures the joy and sadness in everyday life.  \n",
       "14              Locked away in an asylum for a decade and teetering between life and death, the criminal mastermind Doctor Mabuse (Rudolf Klein-Rogge) has scribbled his last will and testament: a manifesto establishing a future empire of crime. When the document’s nefarious writings start leading to terrifying parallels in reality, it’s up to Berlin’s star detective, Inspector Lohmann (Otto Wernicke, reprising his role from M) to connect the most fragmented, maddening clues in a case unlike any other. A sequel to his enormously successful silent film DR. MABUSE: THE GAMBLER, Fritz Lang’s THE TESTAMENT OF DR. MABUSE reunites the director with the character that had effectively launched his career. Lang put slogans and ideas expounded by the Nazis into the mouth of a madman, warning his audience of an imminent menace, which was soon to become a reality. Nazi Minister of Information Joseph Goebbels saw the film as an instruction manual for terrorist action against the government and banned it for “endangering public order and security.” A landmark of mystery and suspense for countless espionage and noir thrillers to come, this is the complete, uncut original director’s version in a stunning new transfer.  \n",
       "47                                                                                                                                                                                                                                                                                                                                                                                                                                                                                                                                                                                                                                                                                                                                                     In 1971, a parade of African American cowboys rode into Harlem for a one-of-a-kind event: New York City’s first-ever Black rodeo. This remarkable, rarely-seen documentary offers a vivid, firsthand look at this unique cultural moment, which, for many of its enthralled spectators, redefined what a cowboy could look like. Among the luminaries on hand are Muhammad Ali—who rides a horse up 125th Street—and western icon Woody Strode, who speaks to the unsung history of Black cowboys in America.  "
      ]
     },
     "execution_count": 19,
     "metadata": {},
     "output_type": "execute_result"
    }
   ],
   "source": [
    "relevant_posts = corpus_topic_df.groupby('Dominant Topic') \\\n",
    ".apply(lambda topic_set: (topic_set.sort_values(by=['Contribution %'], ascending=False).iloc[0]))\n",
    "relevant_posts.sort_values('Contribution %', ascending = False).head()"
   ]
  }
 ],
 "metadata": {
  "kernelspec": {
   "display_name": "Python 3",
   "language": "python",
   "name": "python3"
  },
  "language_info": {
   "codemirror_mode": {
    "name": "ipython",
    "version": 3
   },
   "file_extension": ".py",
   "mimetype": "text/x-python",
   "name": "python",
   "nbconvert_exporter": "python",
   "pygments_lexer": "ipython3",
   "version": "3.8.8"
  }
 },
 "nbformat": 4,
 "nbformat_minor": 4
}
