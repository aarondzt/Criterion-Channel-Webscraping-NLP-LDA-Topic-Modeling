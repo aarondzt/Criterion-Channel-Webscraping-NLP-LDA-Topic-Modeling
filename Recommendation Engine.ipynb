{
 "cells": [
  {
   "cell_type": "code",
   "execution_count": 231,
   "id": "instructional-reminder",
   "metadata": {},
   "outputs": [],
   "source": [
    "import pandas as pd\n",
    "data = pd.read_csv('data\\Topics.csv')"
   ]
  },
  {
   "cell_type": "code",
   "execution_count": 232,
   "id": "powerful-sherman",
   "metadata": {},
   "outputs": [],
   "source": [
    "data['Title'] = data['Title'].str.normalize('NFKD').str.encode('ascii', errors = 'ignore').str.decode('utf-8')"
   ]
  },
  {
   "cell_type": "code",
   "execution_count": 233,
   "id": "canadian-arbitration",
   "metadata": {},
   "outputs": [],
   "source": [
    "def recommend(film, number):\n",
    "    if film == 'Pick a film':\n",
    "        pass\n",
    "    elif film == '':\n",
    "        pass\n",
    "    elif data['Title'].str.match(film, case = False).any():\n",
    "        topic = int(data[data['Title'].str.match(film, case = False)]['Topic'].iloc[0])\n",
    "        film_title = data[data['Title'].str.match(film, case = False)]['Title'].iloc[0]\n",
    "        top_recommendations = data[data['Topic'] == topic].sort_values('averageRating', ascending = False)\n",
    "        try: \n",
    "            top_recommendations = top_recommendations[~top_recommendations.Title.str.contains(film, case = False)][:number]\n",
    "            print('Your film: ' + film_title)\n",
    "            print('-' * 10)\n",
    "            print('#' + str(number) + ' recommendation:')\n",
    "            print('Title: ' + top_recommendations.iloc[number -1]['Title'])\n",
    "            print('Director: ' + top_recommendations.iloc[number -1]['Director'])\n",
    "            print('Country: ' + top_recommendations.iloc[number -1]['Country'])\n",
    "            print('Duration: ' + top_recommendations.iloc[number -1]['Duration'])\n",
    "            print('Description: ' + top_recommendations.iloc[number -1]['Description'])\n",
    "            print('IMDB average rating: ' + str(top_recommendations.iloc[number -1]['averageRating']))\n",
    "            print('IMDB number of votes: ' + str(top_recommendations.iloc[number -1]['numVotes']))\n",
    "            print('Url: ' + top_recommendations.iloc[number -1]['Url'])\n",
    "        except: \n",
    "            print('No more recommendations are available')\n",
    "    else:\n",
    "        print('Film not found')"
   ]
  },
  {
   "cell_type": "code",
   "execution_count": 235,
   "id": "exotic-acoustic",
   "metadata": {},
   "outputs": [
    {
     "data": {
      "application/vnd.jupyter.widget-view+json": {
       "model_id": "a0c0b9178a3f482eb33b6ec83d87b9d8",
       "version_major": 2,
       "version_minor": 0
      },
      "text/plain": [
       "interactive(children=(Text(value='Pick a film', description='Film'), BoundedIntText(value=1, description='Rec …"
      ]
     },
     "metadata": {},
     "output_type": "display_data"
    }
   ],
   "source": [
    "from ipywidgets import interact, interactive\n",
    "import ipywidgets as widgets\n",
    "interactive(recommend,\n",
    "           film = widgets.Text(description = 'Film', value = 'Pick a film'),\n",
    "           number = widgets.BoundedIntText(description = 'Rec #', min = 1)\n",
    "           )"
   ]
  }
 ],
 "metadata": {
  "kernelspec": {
   "display_name": "Python 3",
   "language": "python",
   "name": "python3"
  },
  "language_info": {
   "codemirror_mode": {
    "name": "ipython",
    "version": 3
   },
   "file_extension": ".py",
   "mimetype": "text/x-python",
   "name": "python",
   "nbconvert_exporter": "python",
   "pygments_lexer": "ipython3",
   "version": "3.8.8"
  }
 },
 "nbformat": 4,
 "nbformat_minor": 5
}
