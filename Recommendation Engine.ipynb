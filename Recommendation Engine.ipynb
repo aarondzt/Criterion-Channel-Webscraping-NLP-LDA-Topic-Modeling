{
 "cells": [
  {
   "cell_type": "code",
   "execution_count": 1,
   "id": "instructional-reminder",
   "metadata": {},
   "outputs": [],
   "source": [
    "import pandas as pd\n",
    "data = pd.read_csv('data\\Topics.csv')"
   ]
  },
  {
   "cell_type": "code",
   "execution_count": 2,
   "id": "powerful-sherman",
   "metadata": {},
   "outputs": [],
   "source": [
    "data['Title'] = data['Title'].str.normalize('NFKD').str.encode('ascii', errors = 'ignore').str.decode('utf-8')"
   ]
  },
  {
   "cell_type": "code",
   "execution_count": 3,
   "id": "canadian-arbitration",
   "metadata": {},
   "outputs": [],
   "source": [
    "def recommend_topic(film, number):\n",
    "    if film == 'Pick a film':\n",
    "        pass\n",
    "    elif film == '':\n",
    "        pass\n",
    "    elif data['Title'].str.match(film, case = False).any():\n",
    "        topic = int(data[data['Title'].str.match(film, case = False)]['Topic'].iloc[0])\n",
    "        film_title = data[data['Title'].str.match(film, case = False)]['Title'].iloc[0]\n",
    "        top_recommendations = data[data['Topic'] == topic].sort_values('averageRating', ascending = False)\n",
    "        try: \n",
    "            top_recommendations = top_recommendations[~top_recommendations.Title.str.contains(film, case = False)][:number]\n",
    "            print('Your film: ' + film_title)\n",
    "            print('-' * 10)\n",
    "            print('#' + str(number) + ' recommendation:')\n",
    "            print('Title: ' + top_recommendations.iloc[number -1]['Title'])\n",
    "            print('Director: ' + top_recommendations.iloc[number -1]['Director'])\n",
    "            print('Country: ' + top_recommendations.iloc[number -1]['Country'])\n",
    "            print('Year: ' + str(top_recommendations.iloc[number -1]['Year']))\n",
    "            print('Duration: ' + top_recommendations.iloc[number -1]['Duration'])\n",
    "            print('Film description: ' + top_recommendations.iloc[number -1]['Description'])\n",
    "            print('Topic description: '+ top_recommendations.iloc[number -1]['Topic Description'])\n",
    "            print('IMDB average rating: ' + str(top_recommendations.iloc[number -1]['averageRating']))\n",
    "            print('IMDB number of votes: ' + str(top_recommendations.iloc[number -1]['numVotes']))\n",
    "            print('Url: ' + top_recommendations.iloc[number -1]['Url'])\n",
    "        except: \n",
    "            print('No more recommendations are available')\n",
    "    else:\n",
    "        print('Film not found')"
   ]
  },
  {
   "cell_type": "markdown",
   "id": "actual-reset",
   "metadata": {},
   "source": [
    "### Recommendations based on the highest rated films within target film's topic"
   ]
  },
  {
   "cell_type": "code",
   "execution_count": 4,
   "id": "exotic-acoustic",
   "metadata": {},
   "outputs": [
    {
     "data": {
      "application/vnd.jupyter.widget-view+json": {
       "model_id": "cba27eab257040e09cf34e333fa2403b",
       "version_major": 2,
       "version_minor": 0
      },
      "text/plain": [
       "interactive(children=(Text(value='Pick a film', description='Film'), BoundedIntText(value=1, description='Rec …"
      ]
     },
     "metadata": {},
     "output_type": "display_data"
    }
   ],
   "source": [
    "from ipywidgets import interactive\n",
    "import ipywidgets as widgets\n",
    "interactive(recommend_topic,\n",
    "           film = widgets.Text(description = 'Film', value = 'Pick a film'),\n",
    "           number = widgets.BoundedIntText(description = 'Rec #', min = 1)\n",
    "           )"
   ]
  },
  {
   "cell_type": "code",
   "execution_count": 5,
   "id": "first-junior",
   "metadata": {},
   "outputs": [],
   "source": [
    "from sklearn.feature_extraction.text import TfidfVectorizer\n",
    "tfidf = TfidfVectorizer(stop_words = 'english' )\n",
    "tfidf_matrix = tfidf.fit_transform(data['Description'])\n",
    "from sklearn.metrics.pairwise import linear_kernel\n",
    "cosine_sim = linear_kernel(tfidf_matrix, tfidf_matrix)\n",
    "indices = pd.Series(data.index, index = data['Title']).drop_duplicates()"
   ]
  },
  {
   "cell_type": "code",
   "execution_count": 6,
   "id": "proprietary-chick",
   "metadata": {},
   "outputs": [],
   "source": [
    "def recommend_cosine_sim(film, number):\n",
    "    if film == 'Pick a film':\n",
    "        pass\n",
    "    elif film == '':\n",
    "        pass\n",
    "    elif data['Title'].str.match(film, case = False).any():\n",
    "        film_title = data[data['Title'].str.match(film, case = False)]['Title'].iloc[0]\n",
    "        idx = indices[film_title]\n",
    "        sim_scores = list(enumerate(cosine_sim[idx]))\n",
    "        sim_scores = sorted(sim_scores, key=lambda x: x[1], reverse=True)\n",
    "        sim_scores = sim_scores[1:11]\n",
    "        movie_indices = [i[0] for i in sim_scores]\n",
    "        print('Your film: ' + film_title)\n",
    "        print('-' * 10)\n",
    "        print('#' + str(number) + ' recommendation:')\n",
    "        print('Title: ' + data.loc[movie_indices[number - 1]]['Title'])\n",
    "        print('Director: ' + data.loc[movie_indices[number - 1]]['Director'])\n",
    "        print('Country: ' + data.loc[movie_indices[number - 1]]['Country'])\n",
    "        print('Year: ' + str(data.iloc[number -1]['Year']))\n",
    "        print('Duration: ' + data.loc[movie_indices[number - 1]]['Duration'])\n",
    "        print('Description: ' + data.loc[movie_indices[number - 1]]['Description'])\n",
    "        print('IMDB average rating: ' + str(data.loc[movie_indices[number - 1]]['averageRating']))\n",
    "        print('IMDB number of votes: ' + str(data.loc[movie_indices[number - 1]]['numVotes']))\n",
    "        print('Url: ' + data.loc[movie_indices[number - 1]]['Url'])\n",
    "    else:\n",
    "        print('Film not found')"
   ]
  },
  {
   "cell_type": "markdown",
   "id": "configured-proportion",
   "metadata": {},
   "source": [
    "### Recommendations based on highest cosine similarity to target film"
   ]
  },
  {
   "cell_type": "code",
   "execution_count": 7,
   "id": "reliable-bankruptcy",
   "metadata": {},
   "outputs": [
    {
     "data": {
      "application/vnd.jupyter.widget-view+json": {
       "model_id": "a7c476957c3e4351b6039143631c5fb5",
       "version_major": 2,
       "version_minor": 0
      },
      "text/plain": [
       "interactive(children=(Text(value='Pick a film', description='Film'), BoundedIntText(value=1, description='Rec …"
      ]
     },
     "metadata": {},
     "output_type": "display_data"
    }
   ],
   "source": [
    "from ipywidgets import interactive\n",
    "import ipywidgets as widgets\n",
    "interactive(recommend_cosine_sim,\n",
    "           film = widgets.Text(description = 'Film', value = 'Pick a film'),\n",
    "           number = widgets.BoundedIntText(description = 'Rec #', min = 1, max = 10)\n",
    "           )"
   ]
  }
 ],
 "metadata": {
  "kernelspec": {
   "display_name": "Python 3",
   "language": "python",
   "name": "python3"
  },
  "language_info": {
   "codemirror_mode": {
    "name": "ipython",
    "version": 3
   },
   "file_extension": ".py",
   "mimetype": "text/x-python",
   "name": "python",
   "nbconvert_exporter": "python",
   "pygments_lexer": "ipython3",
   "version": "3.8.8"
  }
 },
 "nbformat": 4,
 "nbformat_minor": 5
}
