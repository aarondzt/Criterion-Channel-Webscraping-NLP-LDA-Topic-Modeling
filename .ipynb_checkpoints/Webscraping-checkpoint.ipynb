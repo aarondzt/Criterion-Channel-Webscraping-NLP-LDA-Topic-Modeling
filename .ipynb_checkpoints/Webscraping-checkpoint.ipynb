{
 "cells": [
  {
   "cell_type": "code",
   "execution_count": 1,
   "metadata": {},
   "outputs": [],
   "source": [
    "# Make soup\n",
    "import requests\n",
    "from bs4 import BeautifulSoup\n",
    "request = requests.get('https://films.criterionchannel.com/')\n",
    "soup = BeautifulSoup(request.content, 'html.parser')"
   ]
  },
  {
   "cell_type": "code",
   "execution_count": 2,
   "metadata": {},
   "outputs": [
    {
     "name": "stdout",
     "output_type": "stream",
     "text": [
      "2196\n",
      "Zorns Lemma\n"
     ]
    }
   ],
   "source": [
    "# Scrape titles\n",
    "titles = []\n",
    "for title in soup.findAll(class_ = \"criterion-channel__td criterion-channel__td--title\"):\n",
    "    nt = title.get_text()\n",
    "    no_t = nt.replace('\\t', '')\n",
    "    no_nt = no_t.replace('\\n', '')\n",
    "    titles.append(no_nt)\n",
    "print(len(titles))\n",
    "print(titles[-1])"
   ]
  },
  {
   "cell_type": "code",
   "execution_count": 3,
   "metadata": {},
   "outputs": [
    {
     "name": "stdout",
     "output_type": "stream",
     "text": [
      "2196\n",
      "https://www.criterionchannel.com/zorns-lemma\n"
     ]
    }
   ],
   "source": [
    "# Scrape urls\n",
    "urls = []\n",
    "for url in soup.findAll('a', href = True):\n",
    "    urls.append(url.get('href'))\n",
    "urls = urls[3:]\n",
    "urls = urls[1:2197]\n",
    "print(len(urls))\n",
    "print(urls[-1])"
   ]
  },
  {
   "cell_type": "code",
   "execution_count": 4,
   "metadata": {},
   "outputs": [
    {
     "name": "stdout",
     "output_type": "stream",
     "text": [
      "2196\n",
      "Hollis Frampton\n"
     ]
    }
   ],
   "source": [
    "# Scrape directors\n",
    "directors = []\n",
    "for director in soup.findAll(class_ = 'criterion-channel__td criterion-channel__td--director'):\n",
    "    nt = director.get_text()\n",
    "    no_t = nt.replace('\\t', '')\n",
    "    no_nt = no_t.replace('\\n', '')\n",
    "    directors.append(no_nt)\n",
    "print(len(directors))\n",
    "print(directors[-1])"
   ]
  },
  {
   "cell_type": "code",
   "execution_count": 5,
   "metadata": {},
   "outputs": [
    {
     "name": "stdout",
     "output_type": "stream",
     "text": [
      "2196\n",
      "United States\n"
     ]
    }
   ],
   "source": [
    "# Scrape countries\n",
    "countries = []\n",
    "for country in soup.findAll(class_ = 'criterion-channel__td criterion-channel__td--country'):\n",
    "    nt = country.get_text()\n",
    "    no_t = nt.replace('\\t', '')\n",
    "    no_nt = no_t.replace('\\n', '')\n",
    "    no_comma = no_nt[:-1]\n",
    "    countries.append(no_comma)\n",
    "print(len(countries))\n",
    "print(countries[-1])"
   ]
  },
  {
   "cell_type": "code",
   "execution_count": 6,
   "metadata": {},
   "outputs": [
    {
     "name": "stdout",
     "output_type": "stream",
     "text": [
      "2196\n",
      "1970\n"
     ]
    }
   ],
   "source": [
    "# Scrape years\n",
    "years = []\n",
    "for year in soup.findAll(class_ = 'criterion-channel__td criterion-channel__td--year'):\n",
    "    nt = year.get_text()\n",
    "    no_t = nt.replace('\\t', '')\n",
    "    no_nt = no_t.replace('\\n', '')\n",
    "    years.append(no_nt)\n",
    "print(len(years))\n",
    "print(years[-1])"
   ]
  },
  {
   "cell_type": "code",
   "execution_count": 7,
   "metadata": {},
   "outputs": [
    {
     "name": "stdout",
     "output_type": "stream",
     "text": [
      "2067\n"
     ]
    }
   ],
   "source": [
    "# Create dataframe\n",
    "import pandas as pd\n",
    "data = pd.DataFrame({'Title': titles, 'Director': directors, 'Country': countries, 'Year': years, 'Url': urls})\n",
    "# Remove rows without durations (parts > 1 of a film)\n",
    "data = data[~data['Url'].str.contains('/videos/')]\n",
    "# Remove two rows with urls that don't work\n",
    "data = data[~data['Url'].str.contains('https://www.criterionchannel.com/yotsuya-kaidan-part-one')]\n",
    "data = data[~data['Url'].str.contains('https://www.criterionchannel.com/yotsuya-kaidan-part-two')]\n",
    "data = data.reset_index(drop = True)\n",
    "print(len(data))"
   ]
  },
  {
   "cell_type": "code",
   "execution_count": 8,
   "metadata": {
    "scrolled": true
   },
   "outputs": [],
   "source": [
    "# # Scrape durations, do not run this, it takes a long time\n",
    "# durations = []\n",
    "# for url in data['Url']:\n",
    "#     request = requests.get(url)\n",
    "#     soup = BeautifulSoup(request.content, 'html.parser')\n",
    "#     for duration in soup.findAll(class_ = 'duration-container')[:1]:\n",
    "#         durations.append(duration.get_text())\n",
    "#     print(url)\n",
    "# # Save as text file (Excel often incorrectly reformats csv files upon opening)\n",
    "# ! mkdir data\n",
    "# with open('data/Durations.txt', 'w') as file:\n",
    "#     for line in durations:\n",
    "#         file.write(\"%s\\n\" % line)"
   ]
  },
  {
   "cell_type": "code",
   "execution_count": 9,
   "metadata": {},
   "outputs": [],
   "source": [
    "# Open pre-scraped duration file\n",
    "with open('Webscraping-the-Criterion-Channel-Collection\\data\\Durations.txt') as file:\n",
    "    durations = file.read().splitlines()"
   ]
  },
  {
   "cell_type": "code",
   "execution_count": 10,
   "metadata": {},
   "outputs": [],
   "source": [
    "# Insert duration column\n",
    "data.insert(4, 'Duration', durations)"
   ]
  },
  {
   "cell_type": "code",
   "execution_count": 11,
   "metadata": {},
   "outputs": [],
   "source": [
    "# Remove whitespace\n",
    "data['Duration'] = data['Duration'].replace(' ', '', regex = True)"
   ]
  },
  {
   "cell_type": "code",
   "execution_count": 12,
   "metadata": {},
   "outputs": [],
   "source": [
    "# Remove seconds\n",
    "data['Duration'] = data['Duration'].str[:-3]"
   ]
  },
  {
   "cell_type": "code",
   "execution_count": 13,
   "metadata": {},
   "outputs": [],
   "source": [
    "# Add '0:' to indicate 0 hours for all films < 1 hour\n",
    "for i, duration in enumerate(data['Duration']):\n",
    "    if ':' not in duration:\n",
    "        data.loc[i, 'Duration'] = '0:' + duration"
   ]
  },
  {
   "cell_type": "code",
   "execution_count": 14,
   "metadata": {},
   "outputs": [],
   "source": [
    "# Split duration by colon\n",
    "hours_minutes = data['Duration'].str.split(':', expand = True)"
   ]
  },
  {
   "cell_type": "code",
   "execution_count": 15,
   "metadata": {},
   "outputs": [],
   "source": [
    "# Insert hours and minutes columns\n",
    "data.insert(5, 'Hours', hours_minutes[0])\n",
    "data['Hours'] = data['Hours'].astype(int)\n",
    "data.insert(6, 'Minutes', hours_minutes[1])\n",
    "data['Minutes'] = data['Minutes'].astype(int)"
   ]
  },
  {
   "cell_type": "code",
   "execution_count": 16,
   "metadata": {},
   "outputs": [],
   "source": [
    "# Calculate and insert total hours\n",
    "total_hours = []\n",
    "for i in range(len(data)):\n",
    "    hours = (data.loc[i]['Hours'].astype(int) + data.loc[i]['Minutes'].astype(int)/60).round(2)\n",
    "    total_hours.append(hours)\n",
    "data.insert(7, 'Total Hours', total_hours)\n",
    "# Drop old columns\n",
    "data = data.drop(['Duration', 'Minutes', 'Hours'], axis = 1)"
   ]
  },
  {
   "cell_type": "code",
   "execution_count": 17,
   "metadata": {
    "scrolled": true
   },
   "outputs": [],
   "source": [
    "# # Scrape descriptions, do not run this, it takes a long time\n",
    "# descriptions = []\n",
    "# for url in data['Url']:\n",
    "#     request = requests.get(url)\n",
    "#     soup = BeautifulSoup(request.content, 'html.parser')\n",
    "#     paragraphs = soup.findAll('p')\n",
    "#     paragraphs = paragraphs[1]\n",
    "#     string = []\n",
    "#     for x in paragraphs:\n",
    "#         string.append(str(x))\n",
    "#     descriptions.append(string[0])\n",
    "#     print(url)\n",
    "# # Save to csv (list is incorrectly loaded as text file)\n",
    "# descriptions = pd.DataFrame({'Description': descriptions})\n",
    "# descriptions.to_csv('data/Descriptions.csv', index = False)"
   ]
  },
  {
   "cell_type": "code",
   "execution_count": 18,
   "metadata": {},
   "outputs": [],
   "source": [
    "# Open pre-scraped description file\n",
    "descriptions = pd.read_csv('Webscraping-the-Criterion-Channel-Collection\\data\\Descriptions.csv')"
   ]
  },
  {
   "cell_type": "code",
   "execution_count": 19,
   "metadata": {},
   "outputs": [],
   "source": [
    "# Insert description column\n",
    "data.insert(5, 'Description', descriptions)"
   ]
  },
  {
   "cell_type": "code",
   "execution_count": 20,
   "metadata": {},
   "outputs": [],
   "source": [
    "# Remove films < 1 hour\n",
    "data = data[data['Total Hours'] > 1]"
   ]
  },
  {
   "cell_type": "code",
   "execution_count": 21,
   "metadata": {},
   "outputs": [],
   "source": [
    "# Save to csv\n",
    "data.to_csv('Webscraping-the-Criterion-Channel-Collection\\data\\Criterion.csv', index = False)"
   ]
  },
  {
   "cell_type": "code",
   "execution_count": 22,
   "metadata": {},
   "outputs": [
    {
     "data": {
      "image/png": "[encoded data removed]",
      "text/plain": [
       "<Figure size 1440x360 with 1 Axes>"
      ]
     },
     "metadata": {
      "needs_background": "light"
     },
     "output_type": "display_data"
    }
   ],
   "source": [
    "# Director figure\n",
    "from matplotlib import pyplot\n",
    "import seaborn\n",
    "dim = (20, 5)\n",
    "fig, ax = pyplot.subplots(figsize = dim)\n",
    "ax.set_xticklabels(ax.get_xticklabels(), rotation = 22.5)\n",
    "ax = seaborn.countplot(x = data.Director, order = data.Director.value_counts().iloc[:10].index) # Sort by value_count"
   ]
  },
  {
   "cell_type": "code",
   "execution_count": 23,
   "metadata": {},
   "outputs": [
    {
     "data": {
      "image/png": "[encoded data removed]",
      "text/plain": [
       "<Figure size 1440x360 with 1 Axes>"
      ]
     },
     "metadata": {
      "needs_background": "light"
     },
     "output_type": "display_data"
    }
   ],
   "source": [
    "# Country figure\n",
    "dim = (20, 5)\n",
    "fig, ax = pyplot.subplots(figsize = dim)\n",
    "ax.set_xticklabels(ax.get_xticklabels(), rotation = 22.5)\n",
    "ax = seaborn.countplot(x = data.Country, order = data.Country.value_counts().iloc[:10].index) # Sort by value_count"
   ]
  },
  {
   "cell_type": "code",
   "execution_count": 24,
   "metadata": {},
   "outputs": [],
   "source": [
    "# Create decade column\n",
    "import numpy as np\n",
    "data.insert(4, 'Decade', (data['Year'].astype(int)/10).apply(np.floor))"
   ]
  },
  {
   "cell_type": "code",
   "execution_count": 25,
   "metadata": {},
   "outputs": [
    {
     "data": {
      "image/png": "[encoded data removed]",
      "text/plain": [
       "<Figure size 1440x360 with 1 Axes>"
      ]
     },
     "metadata": {
      "needs_background": "light"
     },
     "output_type": "display_data"
    }
   ],
   "source": [
    "# Decade figure\n",
    "dim = (20, 5)\n",
    "fig, ax = pyplot.subplots(figsize = dim)\n",
    "ax.set_xticklabels(ax.get_xticklabels(), rotation = 22.5)\n",
    "ax = seaborn.countplot(x = data.Decade, order = data.Decade.value_counts().iloc[:10].index) # Sort by value_count"
   ]
  }
 ],
 "metadata": {
  "kernelspec": {
   "display_name": "Python 3",
   "language": "python",
   "name": "python3"
  },
  "language_info": {
   "codemirror_mode": {
    "name": "ipython",
    "version": 3
   },
   "file_extension": ".py",
   "mimetype": "text/x-python",
   "name": "python",
   "nbconvert_exporter": "python",
   "pygments_lexer": "ipython3",
   "version": "3.8.3"
  }
 },
 "nbformat": 4,
 "nbformat_minor": 4
}
