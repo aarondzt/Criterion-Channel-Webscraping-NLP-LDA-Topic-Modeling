{
 "cells": [
  {
   "cell_type": "markdown",
   "metadata": {},
   "source": [
    "### Webscraping"
   ]
  },
  {
   "cell_type": "code",
   "execution_count": null,
   "metadata": {},
   "outputs": [],
   "source": [
    "# Make soup\n",
    "import requests\n",
    "from bs4 import BeautifulSoup\n",
    "request = requests.get('https://films.criterionchannel.com/')\n",
    "soup = BeautifulSoup(request.content, 'html.parser')"
   ]
  },
  {
   "cell_type": "code",
   "execution_count": null,
   "metadata": {},
   "outputs": [],
   "source": [
    "# Scrape titles, get rid of tabs and new lines\n",
    "titles = []\n",
    "for title in soup.findAll(class_ = \"criterion-channel__td criterion-channel__td--title\"):\n",
    "    nt = title.get_text()\n",
    "    no_t = nt.replace('\\t', '')\n",
    "    no_nt = no_t.replace('\\n', '')\n",
    "    titles.append(no_nt)\n",
    "print(len(titles))"
   ]
  },
  {
   "cell_type": "code",
   "execution_count": null,
   "metadata": {},
   "outputs": [],
   "source": [
    "# Scrape urls\n",
    "urls = []\n",
    "for url in soup.findAll('a', href = True):\n",
    "    urls.append(url.get('href'))\n",
    "# Only keep urls that correspond to films\n",
    "urls = urls[3:]\n",
    "urls = urls[1:-21]\n",
    "print(len(urls))"
   ]
  },
  {
   "cell_type": "code",
   "execution_count": null,
   "metadata": {},
   "outputs": [],
   "source": [
    "# Scrape directors\n",
    "directors = []\n",
    "for director in soup.findAll(class_ = 'criterion-channel__td criterion-channel__td--director'):\n",
    "    nt = director.get_text()\n",
    "    no_t = nt.replace('\\t', '')\n",
    "    no_nt = no_t.replace('\\n', '')\n",
    "    directors.append(no_nt)\n",
    "print(len(directors))"
   ]
  },
  {
   "cell_type": "code",
   "execution_count": null,
   "metadata": {},
   "outputs": [],
   "source": [
    "# Scrape countries\n",
    "countries = []\n",
    "for country in soup.findAll(class_ = 'criterion-channel__td criterion-channel__td--country'):\n",
    "    nt = country.get_text()\n",
    "    no_t = nt.replace('\\t', '')\n",
    "    no_nt = no_t.replace('\\n', '')\n",
    "    no_comma = no_nt[:-1]\n",
    "    countries.append(no_comma)\n",
    "print(len(countries))"
   ]
  },
  {
   "cell_type": "code",
   "execution_count": null,
   "metadata": {},
   "outputs": [],
   "source": [
    "# Scrape years\n",
    "years = []\n",
    "for year in soup.findAll(class_ = 'criterion-channel__td criterion-channel__td--year'):\n",
    "    nt = year.get_text()\n",
    "    no_t = nt.replace('\\t', '')\n",
    "    no_nt = no_t.replace('\\n', '')\n",
    "    years.append(no_nt)\n",
    "print(len(years))"
   ]
  },
  {
   "cell_type": "code",
   "execution_count": null,
   "metadata": {},
   "outputs": [],
   "source": [
    "# Create dataframe\n",
    "import pandas as pd\n",
    "data = pd.DataFrame({'Title': titles, 'Director': directors, 'Country': countries, 'Year': years, 'Url': urls})\n",
    "# Remove rows without durations (parts > 1 of a film)\n",
    "data = data[~data['Url'].str.contains('/videos/')]\n",
    "# Remove two rows with urls that don't work\n",
    "# ....\n",
    "data = data.reset_index(drop = True)\n",
    "print(len(data))"
   ]
  },
  {
   "cell_type": "code",
   "execution_count": null,
   "metadata": {
    "scrolled": true
   },
   "outputs": [],
   "source": [
    "# # Check for broken links, do not run this, it takes a long time\n",
    "# fourohfour = []\n",
    "# for url in data['Url']:\n",
    "#     # 200 = working, 404 = broken\n",
    "#     fourohfour.append(requests.get(url))\n",
    "#     print(url)\n",
    "# print(len(fourohfour))\n",
    "# # Save as text file (Excel often incorrectly reformats csv files upon opening)\n",
    "# with open('data/Fourohfour.txt', 'w') as file:\n",
    "#     for line in fourohfour:\n",
    "#         file.write(\"%s\\n\" % line)\n",
    "# print(len(fourohfour))"
   ]
  },
  {
   "cell_type": "code",
   "execution_count": null,
   "metadata": {},
   "outputs": [],
   "source": [
    "# Open pre-scraped 404 file\n",
    "with open('data\\Fourohfour.txt') as file:\n",
    "    fourohfour = file.read().splitlines()\n",
    "# Insert 404 column\n",
    "data.insert(5, '404', fourohfour)\n",
    "# Convert from BeautifulSoup type to string\n",
    "data['404'] = data['404'].astype(str)\n",
    "# Remove 404 rows from data\n",
    "data = data[~data['404'].str.contains('404')]\n",
    "print(len(data)) # Removed 52 broken links"
   ]
  },
  {
   "cell_type": "code",
   "execution_count": null,
   "metadata": {},
   "outputs": [],
   "source": [
    "# Reset index after filtering out rows\n",
    "data = data.reset_index(drop = True)"
   ]
  },
  {
   "cell_type": "code",
   "execution_count": null,
   "metadata": {},
   "outputs": [],
   "source": [
    "data.head()"
   ]
  },
  {
   "cell_type": "code",
   "execution_count": null,
   "metadata": {
    "scrolled": true
   },
   "outputs": [],
   "source": [
    "# # Scrape durations, do not run this, it takes a long time\n",
    "# durations = []\n",
    "# for url in data['Url']:\n",
    "#     request = requests.get(url)\n",
    "#     soup = BeautifulSoup(request.content, 'html.parser')\n",
    "#     for duration in soup.findAll(class_ = 'duration-container')[:1]:\n",
    "#         durations.append(duration.get_text())\n",
    "#     print(url)\n",
    "# # Save as text file\n",
    "# with open('data/Durations.txt', 'w') as file:\n",
    "#     for line in durations:\n",
    "#         file.write(\"%s\\n\" % line)\n",
    "# print(len(durations))"
   ]
  },
  {
   "cell_type": "code",
   "execution_count": null,
   "metadata": {},
   "outputs": [],
   "source": [
    "# Open pre-scraped duration file\n",
    "with open('data\\Durations.txt') as file:\n",
    "    durations = file.read().splitlines()"
   ]
  },
  {
   "cell_type": "code",
   "execution_count": null,
   "metadata": {},
   "outputs": [],
   "source": [
    "# Clean durations\n",
    "durations = durations[1:]\n",
    "durations = durations[::3]\n",
    "durations = [x.strip(' ') for x in durations]"
   ]
  },
  {
   "cell_type": "code",
   "execution_count": null,
   "metadata": {},
   "outputs": [],
   "source": [
    "# Insert duration column\n",
    "try:\n",
    "    data.insert(4, 'Duration', durations)\n",
    "except:\n",
    "    pass"
   ]
  },
  {
   "cell_type": "code",
   "execution_count": null,
   "metadata": {},
   "outputs": [],
   "source": [
    "# Remove seconds, keep only hours and minutes\n",
    "data['Duration'] = data['Duration'].str[:-3]"
   ]
  },
  {
   "cell_type": "code",
   "execution_count": null,
   "metadata": {},
   "outputs": [],
   "source": [
    "# Append '0:' to beginning of duration to indicate 0 hours for all films < 1 hour\n",
    "# that are not formatted consistently with the rest of the data\n",
    "for i, duration in enumerate(data['Duration']):\n",
    "    if ':' not in duration:\n",
    "        data.loc[i, 'Duration'] = '0:' + duration"
   ]
  },
  {
   "cell_type": "code",
   "execution_count": null,
   "metadata": {},
   "outputs": [],
   "source": [
    "# Split duration by colon\n",
    "hours_minutes = data['Duration'].str.split(':', expand = True)"
   ]
  },
  {
   "cell_type": "code",
   "execution_count": null,
   "metadata": {},
   "outputs": [],
   "source": [
    "# Insert hours and minutes columns\n",
    "data.insert(5, 'Hours', hours_minutes[0])\n",
    "data['Hours'] = data['Hours'].astype(int)\n",
    "data.insert(6, 'Minutes', hours_minutes[1])\n",
    "data['Minutes'] = data['Minutes'].astype(int)"
   ]
  },
  {
   "cell_type": "code",
   "execution_count": null,
   "metadata": {},
   "outputs": [],
   "source": [
    "# Calculate and insert total hours\n",
    "total_hours = []\n",
    "for i in range(len(data)):\n",
    "    hours = (data.loc[i]['Hours'].astype(int) + data.loc[i]['Minutes'].astype(int)/60).round(2)\n",
    "    total_hours.append(hours)\n",
    "try:\n",
    "    data.insert(7, 'Total Hours', total_hours)\n",
    "except:\n",
    "    pass\n",
    "# Drop old columns\n",
    "try:\n",
    "    data = data.drop(['Minutes', 'Hours', '404'], axis = 1)\n",
    "except:\n",
    "    pass"
   ]
  },
  {
   "cell_type": "code",
   "execution_count": null,
   "metadata": {
    "scrolled": true
   },
   "outputs": [],
   "source": [
    "# # Scrape descriptions, do not run this, it takes a long time\n",
    "# descriptions = []\n",
    "# for url in data['Url']:\n",
    "#     request = requests.get(url)\n",
    "#     soup = BeautifulSoup(request.content, 'html.parser')\n",
    "#     paragraphs = soup.findAll('p')\n",
    "#     # Select paragraph containing the description\n",
    "#     paragraphs = paragraphs[1]\n",
    "#     string = []\n",
    "#     for x in paragraphs:\n",
    "#         string.append(str(x))\n",
    "#     descriptions.append(string[0])\n",
    "#     print(url)\n",
    "# # Save to csv (list is incorrectly loaded as text file)\n",
    "# descriptions = pd.DataFrame({'Description': descriptions})\n",
    "# descriptions.to_csv('data/Descriptions.csv', index = False)"
   ]
  },
  {
   "cell_type": "code",
   "execution_count": null,
   "metadata": {},
   "outputs": [],
   "source": [
    "# Open pre-scraped description file\n",
    "descriptions = pd.read_csv('data\\Descriptions.csv')"
   ]
  },
  {
   "cell_type": "code",
   "execution_count": null,
   "metadata": {},
   "outputs": [],
   "source": [
    "# Insert description column\n",
    "data.insert(5, 'Description', descriptions)"
   ]
  },
  {
   "cell_type": "code",
   "execution_count": null,
   "metadata": {},
   "outputs": [],
   "source": [
    "# Remove films < 1 hour, as these are mostly shorts, not films\n",
    "data = data[data['Total Hours'] > 1]"
   ]
  },
  {
   "cell_type": "code",
   "execution_count": null,
   "metadata": {},
   "outputs": [],
   "source": [
    "# Create decade column\n",
    "import numpy as np\n",
    "try:\n",
    "    data.insert(4, 'Decade', (data['Year'].astype(int)/10).apply(np.floor))\n",
    "except:\n",
    "    pass\n",
    "data['Decade'] = data['Decade'].astype(str)\n",
    "data['Decade'] = data['Decade'].str.replace('.', '')\n",
    "data['Decade'] = data['Decade'].astype(str) + 's'"
   ]
  },
  {
   "cell_type": "code",
   "execution_count": null,
   "metadata": {},
   "outputs": [],
   "source": [
    "# Replace NaN with 'None'\n",
    "data = data.replace(np.nan, 'None', regex = True)"
   ]
  },
  {
   "cell_type": "code",
   "execution_count": null,
   "metadata": {},
   "outputs": [],
   "source": [
    "# Save to csv\n",
    "data.to_csv('data\\Criterion.csv', index = False)"
   ]
  },
  {
   "cell_type": "markdown",
   "metadata": {},
   "source": [
    "### Merge with IMDB ratings dataset"
   ]
  },
  {
   "cell_type": "code",
   "execution_count": 1,
   "metadata": {},
   "outputs": [],
   "source": [
    "# Read csv\n",
    "import pandas as pd\n",
    "data = pd.read_csv('data\\Criterion.csv')"
   ]
  },
  {
   "cell_type": "code",
   "execution_count": 2,
   "metadata": {},
   "outputs": [],
   "source": [
    "data['Year'] = data['Year'].astype(str)"
   ]
  },
  {
   "cell_type": "code",
   "execution_count": 3,
   "metadata": {},
   "outputs": [],
   "source": [
    "data['titleYear'] = data['Title'] + ' ' + data['Year']"
   ]
  },
  {
   "cell_type": "code",
   "execution_count": 4,
   "metadata": {},
   "outputs": [
    {
     "data": {
      "text/plain": [
       "1620"
      ]
     },
     "execution_count": 4,
     "metadata": {},
     "output_type": "execute_result"
    }
   ],
   "source": [
    "len(data)"
   ]
  },
  {
   "cell_type": "code",
   "execution_count": 5,
   "metadata": {},
   "outputs": [
    {
     "data": {
      "text/html": [
       "<div>\n",
       "<style scoped>\n",
       "    .dataframe tbody tr th:only-of-type {\n",
       "        vertical-align: middle;\n",
       "    }\n",
       "\n",
       "    .dataframe tbody tr th {\n",
       "        vertical-align: top;\n",
       "    }\n",
       "\n",
       "    .dataframe thead th {\n",
       "        text-align: right;\n",
       "    }\n",
       "</style>\n",
       "<table border=\"1\" class=\"dataframe\">\n",
       "  <thead>\n",
       "    <tr style=\"text-align: right;\">\n",
       "      <th></th>\n",
       "      <th>Title</th>\n",
       "      <th>Director</th>\n",
       "      <th>Country</th>\n",
       "      <th>Year</th>\n",
       "      <th>Decade</th>\n",
       "      <th>Duration</th>\n",
       "      <th>Description</th>\n",
       "      <th>Total Hours</th>\n",
       "      <th>Url</th>\n",
       "      <th>titleYear</th>\n",
       "    </tr>\n",
       "  </thead>\n",
       "  <tbody>\n",
       "    <tr>\n",
       "      <th>0</th>\n",
       "      <td>2 or 3 Things I Know About Her</td>\n",
       "      <td>Jean-Luc Godard</td>\n",
       "      <td>France</td>\n",
       "      <td>1967</td>\n",
       "      <td>1960s</td>\n",
       "      <td>1:27</td>\n",
       "      <td>In 2 OR 3 THINGS I KNOW ABOUT HER (2 OU 3 CHOS...</td>\n",
       "      <td>1.45</td>\n",
       "      <td>https://www.criterionchannel.com/2-or-3-things...</td>\n",
       "      <td>2 or 3 Things I Know About Her 1967</td>\n",
       "    </tr>\n",
       "    <tr>\n",
       "      <th>1</th>\n",
       "      <td>3 Faces</td>\n",
       "      <td>Jafar Panahi</td>\n",
       "      <td>Iran</td>\n",
       "      <td>2018</td>\n",
       "      <td>2010s</td>\n",
       "      <td>1:40</td>\n",
       "      <td>Iranian master Jafar Panahi’s fourth feature s...</td>\n",
       "      <td>1.67</td>\n",
       "      <td>https://www.criterionchannel.com/3-faces</td>\n",
       "      <td>3 Faces 2018</td>\n",
       "    </tr>\n",
       "    <tr>\n",
       "      <th>2</th>\n",
       "      <td>4 Months, 3 Weeks and 2 Days</td>\n",
       "      <td>Cristian Mungiu</td>\n",
       "      <td>Romania</td>\n",
       "      <td>2007</td>\n",
       "      <td>2000s</td>\n",
       "      <td>1:53</td>\n",
       "      <td>Romanian filmmaker Cristian Mungiu shot to int...</td>\n",
       "      <td>1.88</td>\n",
       "      <td>https://www.criterionchannel.com/4-months-3-we...</td>\n",
       "      <td>4 Months, 3 Weeks and 2 Days 2007</td>\n",
       "    </tr>\n",
       "    <tr>\n",
       "      <th>3</th>\n",
       "      <td>The VI Olympic Winter Games, Oslo 1952</td>\n",
       "      <td>Tankred Ibsen</td>\n",
       "      <td>Norway</td>\n",
       "      <td>1952</td>\n",
       "      <td>1950s</td>\n",
       "      <td>1:43</td>\n",
       "      <td>Director Tancred Ibsen's penchant for depictin...</td>\n",
       "      <td>1.72</td>\n",
       "      <td>https://www.criterionchannel.com/the-vi-olympi...</td>\n",
       "      <td>The VI Olympic Winter Games, Oslo 1952 1952</td>\n",
       "    </tr>\n",
       "    <tr>\n",
       "      <th>4</th>\n",
       "      <td>8½</td>\n",
       "      <td>Federico Fellini</td>\n",
       "      <td>Italy</td>\n",
       "      <td>1963</td>\n",
       "      <td>1960s</td>\n",
       "      <td>2:19</td>\n",
       "      <td>Marcello Mastroianni plays Guido Anselmi, a di...</td>\n",
       "      <td>2.32</td>\n",
       "      <td>https://www.criterionchannel.com/81-2</td>\n",
       "      <td>8½ 1963</td>\n",
       "    </tr>\n",
       "  </tbody>\n",
       "</table>\n",
       "</div>"
      ],
      "text/plain": [
       "                                    Title          Director  Country  Year  \\\n",
       "0          2 or 3 Things I Know About Her   Jean-Luc Godard   France  1967   \n",
       "1                                 3 Faces      Jafar Panahi     Iran  2018   \n",
       "2            4 Months, 3 Weeks and 2 Days   Cristian Mungiu  Romania  2007   \n",
       "3  The VI Olympic Winter Games, Oslo 1952     Tankred Ibsen   Norway  1952   \n",
       "4                                      8½  Federico Fellini    Italy  1963   \n",
       "\n",
       "  Decade Duration                                        Description  \\\n",
       "0  1960s     1:27  In 2 OR 3 THINGS I KNOW ABOUT HER (2 OU 3 CHOS...   \n",
       "1  2010s     1:40  Iranian master Jafar Panahi’s fourth feature s...   \n",
       "2  2000s     1:53  Romanian filmmaker Cristian Mungiu shot to int...   \n",
       "3  1950s     1:43  Director Tancred Ibsen's penchant for depictin...   \n",
       "4  1960s     2:19  Marcello Mastroianni plays Guido Anselmi, a di...   \n",
       "\n",
       "   Total Hours                                                Url  \\\n",
       "0         1.45  https://www.criterionchannel.com/2-or-3-things...   \n",
       "1         1.67           https://www.criterionchannel.com/3-faces   \n",
       "2         1.88  https://www.criterionchannel.com/4-months-3-we...   \n",
       "3         1.72  https://www.criterionchannel.com/the-vi-olympi...   \n",
       "4         2.32              https://www.criterionchannel.com/81-2   \n",
       "\n",
       "                                     titleYear  \n",
       "0          2 or 3 Things I Know About Her 1967  \n",
       "1                                 3 Faces 2018  \n",
       "2            4 Months, 3 Weeks and 2 Days 2007  \n",
       "3  The VI Olympic Winter Games, Oslo 1952 1952  \n",
       "4                                      8½ 1963  "
      ]
     },
     "execution_count": 5,
     "metadata": {},
     "output_type": "execute_result"
    }
   ],
   "source": [
    "data.head()"
   ]
  },
  {
   "cell_type": "code",
   "execution_count": 6,
   "metadata": {},
   "outputs": [],
   "source": [
    "ratings = pd.read_csv('title.ratings.tsv', sep = '\\t')"
   ]
  },
  {
   "cell_type": "code",
   "execution_count": 7,
   "metadata": {},
   "outputs": [],
   "source": [
    "basics = pd.read_csv('title.basics.tsv', sep = '\\t', low_memory = False)"
   ]
  },
  {
   "cell_type": "code",
   "execution_count": 8,
   "metadata": {},
   "outputs": [],
   "source": [
    "basics = basics.drop(['titleType', 'isAdult', 'endYear', 'runtimeMinutes', 'genres'], axis = 1)"
   ]
  },
  {
   "cell_type": "code",
   "execution_count": 9,
   "metadata": {},
   "outputs": [],
   "source": [
    "imdb_merged = ratings.merge(basics, left_on = 'tconst', right_on = 'tconst')"
   ]
  },
  {
   "cell_type": "code",
   "execution_count": 10,
   "metadata": {},
   "outputs": [],
   "source": [
    "imdb_merged['titleYear'] = imdb_merged['primaryTitle'] + ' ' + imdb_merged['startYear']"
   ]
  },
  {
   "cell_type": "code",
   "execution_count": 11,
   "metadata": {},
   "outputs": [
    {
     "data": {
      "text/plain": [
       "1134796"
      ]
     },
     "execution_count": 11,
     "metadata": {},
     "output_type": "execute_result"
    }
   ],
   "source": [
    "len(imdb_merged)"
   ]
  },
  {
   "cell_type": "code",
   "execution_count": 12,
   "metadata": {},
   "outputs": [],
   "source": [
    "imdb_merged = imdb_merged.sort_values(['titleYear', 'numVotes'], ascending = False)"
   ]
  },
  {
   "cell_type": "code",
   "execution_count": 14,
   "metadata": {},
   "outputs": [],
   "source": [
    "imdb_merged['isDuplicated'] = imdb_merged.duplicated('titleYear', keep = 'first')"
   ]
  },
  {
   "cell_type": "code",
   "execution_count": 15,
   "metadata": {},
   "outputs": [],
   "source": [
    "# With duplicate titleYear, keep the one with the most numVotes\n",
    "imdb_merged = imdb_merged[imdb_merged['isDuplicated'] == False]"
   ]
  },
  {
   "cell_type": "code",
   "execution_count": 16,
   "metadata": {},
   "outputs": [
    {
     "data": {
      "text/plain": [
       "1061173"
      ]
     },
     "execution_count": 16,
     "metadata": {},
     "output_type": "execute_result"
    }
   ],
   "source": [
    "len(imdb_merged)"
   ]
  },
  {
   "cell_type": "code",
   "execution_count": 17,
   "metadata": {},
   "outputs": [
    {
     "data": {
      "text/html": [
       "<div>\n",
       "<style scoped>\n",
       "    .dataframe tbody tr th:only-of-type {\n",
       "        vertical-align: middle;\n",
       "    }\n",
       "\n",
       "    .dataframe tbody tr th {\n",
       "        vertical-align: top;\n",
       "    }\n",
       "\n",
       "    .dataframe thead th {\n",
       "        text-align: right;\n",
       "    }\n",
       "</style>\n",
       "<table border=\"1\" class=\"dataframe\">\n",
       "  <thead>\n",
       "    <tr style=\"text-align: right;\">\n",
       "      <th></th>\n",
       "      <th>tconst</th>\n",
       "      <th>averageRating</th>\n",
       "      <th>numVotes</th>\n",
       "      <th>primaryTitle</th>\n",
       "      <th>originalTitle</th>\n",
       "      <th>startYear</th>\n",
       "      <th>titleYear</th>\n",
       "      <th>isDuplicated</th>\n",
       "    </tr>\n",
       "  </thead>\n",
       "  <tbody>\n",
       "    <tr>\n",
       "      <th>596512</th>\n",
       "      <td>tt1381887</td>\n",
       "      <td>7.1</td>\n",
       "      <td>83</td>\n",
       "      <td>Солодкі мрії</td>\n",
       "      <td>Sweet Dreams</td>\n",
       "      <td>2008</td>\n",
       "      <td>Солодкі мрії 2008</td>\n",
       "      <td>False</td>\n",
       "    </tr>\n",
       "    <tr>\n",
       "      <th>735985</th>\n",
       "      <td>tt2234575</td>\n",
       "      <td>6.8</td>\n",
       "      <td>32</td>\n",
       "      <td>ö</td>\n",
       "      <td>ö</td>\n",
       "      <td>2012</td>\n",
       "      <td>ö 2012</td>\n",
       "      <td>False</td>\n",
       "    </tr>\n",
       "    <tr>\n",
       "      <th>577900</th>\n",
       "      <td>tt13273532</td>\n",
       "      <td>8.2</td>\n",
       "      <td>8</td>\n",
       "      <td>êmîcêtôcêt: Many Bloodlines</td>\n",
       "      <td>êmîcêtôcêt: Many Bloodlines</td>\n",
       "      <td>2020</td>\n",
       "      <td>êmîcêtôcêt: Many Bloodlines 2020</td>\n",
       "      <td>False</td>\n",
       "    </tr>\n",
       "    <tr>\n",
       "      <th>184529</th>\n",
       "      <td>tt0317414</td>\n",
       "      <td>5.6</td>\n",
       "      <td>15</td>\n",
       "      <td>él</td>\n",
       "      <td>él</td>\n",
       "      <td>2001</td>\n",
       "      <td>él 2001</td>\n",
       "      <td>False</td>\n",
       "    </tr>\n",
       "    <tr>\n",
       "      <th>809206</th>\n",
       "      <td>tt3207532</td>\n",
       "      <td>5.7</td>\n",
       "      <td>17</td>\n",
       "      <td>éX-Driver the Movie</td>\n",
       "      <td>éX-Driver the Movie</td>\n",
       "      <td>2002</td>\n",
       "      <td>éX-Driver the Movie 2002</td>\n",
       "      <td>False</td>\n",
       "    </tr>\n",
       "  </tbody>\n",
       "</table>\n",
       "</div>"
      ],
      "text/plain": [
       "            tconst  averageRating  numVotes                 primaryTitle  \\\n",
       "596512   tt1381887            7.1        83                 Солодкі мрії   \n",
       "735985   tt2234575            6.8        32                            ö   \n",
       "577900  tt13273532            8.2         8  êmîcêtôcêt: Many Bloodlines   \n",
       "184529   tt0317414            5.6        15                           él   \n",
       "809206   tt3207532            5.7        17          éX-Driver the Movie   \n",
       "\n",
       "                      originalTitle startYear  \\\n",
       "596512                 Sweet Dreams      2008   \n",
       "735985                            ö      2012   \n",
       "577900  êmîcêtôcêt: Many Bloodlines      2020   \n",
       "184529                           él      2001   \n",
       "809206          éX-Driver the Movie      2002   \n",
       "\n",
       "                               titleYear  isDuplicated  \n",
       "596512                 Солодкі мрії 2008         False  \n",
       "735985                            ö 2012         False  \n",
       "577900  êmîcêtôcêt: Many Bloodlines 2020         False  \n",
       "184529                           él 2001         False  \n",
       "809206          éX-Driver the Movie 2002         False  "
      ]
     },
     "execution_count": 17,
     "metadata": {},
     "output_type": "execute_result"
    }
   ],
   "source": [
    "imdb_merged.head()"
   ]
  },
  {
   "cell_type": "code",
   "execution_count": 18,
   "metadata": {},
   "outputs": [
    {
     "data": {
      "text/html": [
       "<div>\n",
       "<style scoped>\n",
       "    .dataframe tbody tr th:only-of-type {\n",
       "        vertical-align: middle;\n",
       "    }\n",
       "\n",
       "    .dataframe tbody tr th {\n",
       "        vertical-align: top;\n",
       "    }\n",
       "\n",
       "    .dataframe thead th {\n",
       "        text-align: right;\n",
       "    }\n",
       "</style>\n",
       "<table border=\"1\" class=\"dataframe\">\n",
       "  <thead>\n",
       "    <tr style=\"text-align: right;\">\n",
       "      <th></th>\n",
       "      <th>tconst</th>\n",
       "      <th>averageRating</th>\n",
       "      <th>numVotes</th>\n",
       "      <th>primaryTitle</th>\n",
       "      <th>originalTitle</th>\n",
       "      <th>startYear</th>\n",
       "      <th>titleYear</th>\n",
       "      <th>isDuplicated</th>\n",
       "    </tr>\n",
       "  </thead>\n",
       "  <tbody>\n",
       "    <tr>\n",
       "      <th>660678</th>\n",
       "      <td>tt1714210</td>\n",
       "      <td>7.6</td>\n",
       "      <td>28314</td>\n",
       "      <td>Weekend</td>\n",
       "      <td>Weekend</td>\n",
       "      <td>2011</td>\n",
       "      <td>Weekend 2011</td>\n",
       "      <td>False</td>\n",
       "    </tr>\n",
       "  </tbody>\n",
       "</table>\n",
       "</div>"
      ],
      "text/plain": [
       "           tconst  averageRating  numVotes primaryTitle originalTitle  \\\n",
       "660678  tt1714210            7.6     28314      Weekend       Weekend   \n",
       "\n",
       "       startYear     titleYear  isDuplicated  \n",
       "660678      2011  Weekend 2011         False  "
      ]
     },
     "execution_count": 18,
     "metadata": {},
     "output_type": "execute_result"
    }
   ],
   "source": [
    "imdb_merged[imdb_merged['titleYear'] == 'Weekend 2011']"
   ]
  },
  {
   "cell_type": "markdown",
   "metadata": {},
   "source": [
    "### TD-IDF String Matching\n",
    "https://github.com/Bergvca/string_grouper"
   ]
  },
  {
   "cell_type": "code",
   "execution_count": 19,
   "metadata": {},
   "outputs": [],
   "source": [
    "from string_grouper import match_strings, \\\n",
    "match_most_similar, group_similar_strings, \\\n",
    "compute_pairwise_similarities, StringGrouper"
   ]
  },
  {
   "cell_type": "markdown",
   "metadata": {},
   "source": [
    "To do: Find a way to match on both primaryTitle and originalTitle"
   ]
  },
  {
   "cell_type": "code",
   "execution_count": 20,
   "metadata": {},
   "outputs": [],
   "source": [
    "matches = match_most_similar(imdb_merged['titleYear'], data['titleYear'])"
   ]
  },
  {
   "cell_type": "code",
   "execution_count": 21,
   "metadata": {},
   "outputs": [
    {
     "data": {
      "text/html": [
       "<div>\n",
       "<style scoped>\n",
       "    .dataframe tbody tr th:only-of-type {\n",
       "        vertical-align: middle;\n",
       "    }\n",
       "\n",
       "    .dataframe tbody tr th {\n",
       "        vertical-align: top;\n",
       "    }\n",
       "\n",
       "    .dataframe thead th {\n",
       "        text-align: right;\n",
       "    }\n",
       "</style>\n",
       "<table border=\"1\" class=\"dataframe\">\n",
       "  <thead>\n",
       "    <tr style=\"text-align: right;\">\n",
       "      <th></th>\n",
       "      <th>most_similar_index</th>\n",
       "      <th>most_similar_titleYear</th>\n",
       "    </tr>\n",
       "  </thead>\n",
       "  <tbody>\n",
       "    <tr>\n",
       "      <th>0</th>\n",
       "      <td>38571.0</td>\n",
       "      <td>2 or 3 Things I Know About Her 1967</td>\n",
       "    </tr>\n",
       "    <tr>\n",
       "      <th>1</th>\n",
       "      <td>1079513.0</td>\n",
       "      <td>3 Faces 2018</td>\n",
       "    </tr>\n",
       "    <tr>\n",
       "      <th>2</th>\n",
       "      <td>454250.0</td>\n",
       "      <td>4 Months, 3 Weeks and 2 Days 2007</td>\n",
       "    </tr>\n",
       "    <tr>\n",
       "      <th>3</th>\n",
       "      <td>137372.0</td>\n",
       "      <td>The VI Olympic Winter Games, Oslo 1952 1952</td>\n",
       "    </tr>\n",
       "    <tr>\n",
       "      <th>4</th>\n",
       "      <td>35517.0</td>\n",
       "      <td>8½ 1963</td>\n",
       "    </tr>\n",
       "    <tr>\n",
       "      <th>...</th>\n",
       "      <td>...</td>\n",
       "      <td>...</td>\n",
       "    </tr>\n",
       "    <tr>\n",
       "      <th>1615</th>\n",
       "      <td>149722.0</td>\n",
       "      <td>Y Tu Mamá También 2001</td>\n",
       "    </tr>\n",
       "    <tr>\n",
       "      <th>1616</th>\n",
       "      <td>42766.0</td>\n",
       "      <td>Z 1969</td>\n",
       "    </tr>\n",
       "    <tr>\n",
       "      <th>1617</th>\n",
       "      <td>33489.0</td>\n",
       "      <td>Zazie dans le Métro 1960</td>\n",
       "    </tr>\n",
       "    <tr>\n",
       "      <th>1618</th>\n",
       "      <td>141852.0</td>\n",
       "      <td>Zero Focus 1961</td>\n",
       "    </tr>\n",
       "    <tr>\n",
       "      <th>1619</th>\n",
       "      <td>1108377.0</td>\n",
       "      <td>Zombi Child 2019</td>\n",
       "    </tr>\n",
       "  </tbody>\n",
       "</table>\n",
       "<p>1620 rows × 2 columns</p>\n",
       "</div>"
      ],
      "text/plain": [
       "      most_similar_index                       most_similar_titleYear\n",
       "0                38571.0          2 or 3 Things I Know About Her 1967\n",
       "1              1079513.0                                 3 Faces 2018\n",
       "2               454250.0            4 Months, 3 Weeks and 2 Days 2007\n",
       "3               137372.0  The VI Olympic Winter Games, Oslo 1952 1952\n",
       "4                35517.0                                      8½ 1963\n",
       "...                  ...                                          ...\n",
       "1615            149722.0                       Y Tu Mamá También 2001\n",
       "1616             42766.0                                       Z 1969\n",
       "1617             33489.0                     Zazie dans le Métro 1960\n",
       "1618            141852.0                              Zero Focus 1961\n",
       "1619           1108377.0                             Zombi Child 2019\n",
       "\n",
       "[1620 rows x 2 columns]"
      ]
     },
     "execution_count": 21,
     "metadata": {},
     "output_type": "execute_result"
    }
   ],
   "source": [
    "matches"
   ]
  },
  {
   "cell_type": "code",
   "execution_count": 22,
   "metadata": {},
   "outputs": [],
   "source": [
    "nas = matches[matches['most_similar_index'].isna()]"
   ]
  },
  {
   "cell_type": "code",
   "execution_count": 23,
   "metadata": {},
   "outputs": [],
   "source": [
    "nas = nas['most_similar_titleYear']"
   ]
  },
  {
   "cell_type": "code",
   "execution_count": 24,
   "metadata": {},
   "outputs": [
    {
     "data": {
      "text/plain": [
       "10                                 21 Days 1940\n",
       "15                    THE 47 RONIN: Part 1 1941\n",
       "19                                  Abouna 2002\n",
       "22                      An Actor’s Revenge 1963\n",
       "24                 Adventures of a Dentist 1965\n",
       "                         ...                   \n",
       "1593               WORLD ON A WIRE: Part 1 1973\n",
       "1598                               Xiao Wu 1997\n",
       "1600                                Yeelen 1987\n",
       "1611                         Youth in Fury 1960\n",
       "1613    You Were Like a Wild Chrysanthemum 1955\n",
       "Name: most_similar_titleYear, Length: 186, dtype: object"
      ]
     },
     "execution_count": 24,
     "metadata": {},
     "output_type": "execute_result"
    }
   ],
   "source": [
    "nas"
   ]
  },
  {
   "cell_type": "code",
   "execution_count": 25,
   "metadata": {},
   "outputs": [],
   "source": [
    "matches = matches.dropna(axis = 0)"
   ]
  },
  {
   "cell_type": "code",
   "execution_count": 26,
   "metadata": {},
   "outputs": [
    {
     "data": {
      "text/plain": [
       "1434"
      ]
     },
     "execution_count": 26,
     "metadata": {},
     "output_type": "execute_result"
    }
   ],
   "source": [
    "len(matches)"
   ]
  },
  {
   "cell_type": "code",
   "execution_count": 27,
   "metadata": {},
   "outputs": [
    {
     "data": {
      "text/html": [
       "<div>\n",
       "<style scoped>\n",
       "    .dataframe tbody tr th:only-of-type {\n",
       "        vertical-align: middle;\n",
       "    }\n",
       "\n",
       "    .dataframe tbody tr th {\n",
       "        vertical-align: top;\n",
       "    }\n",
       "\n",
       "    .dataframe thead th {\n",
       "        text-align: right;\n",
       "    }\n",
       "</style>\n",
       "<table border=\"1\" class=\"dataframe\">\n",
       "  <thead>\n",
       "    <tr style=\"text-align: right;\">\n",
       "      <th></th>\n",
       "      <th>most_similar_index</th>\n",
       "      <th>most_similar_titleYear</th>\n",
       "    </tr>\n",
       "  </thead>\n",
       "  <tbody>\n",
       "    <tr>\n",
       "      <th>0</th>\n",
       "      <td>38571.0</td>\n",
       "      <td>2 or 3 Things I Know About Her 1967</td>\n",
       "    </tr>\n",
       "    <tr>\n",
       "      <th>1</th>\n",
       "      <td>1079513.0</td>\n",
       "      <td>3 Faces 2018</td>\n",
       "    </tr>\n",
       "    <tr>\n",
       "      <th>2</th>\n",
       "      <td>454250.0</td>\n",
       "      <td>4 Months, 3 Weeks and 2 Days 2007</td>\n",
       "    </tr>\n",
       "    <tr>\n",
       "      <th>3</th>\n",
       "      <td>137372.0</td>\n",
       "      <td>The VI Olympic Winter Games, Oslo 1952 1952</td>\n",
       "    </tr>\n",
       "    <tr>\n",
       "      <th>4</th>\n",
       "      <td>35517.0</td>\n",
       "      <td>8½ 1963</td>\n",
       "    </tr>\n",
       "    <tr>\n",
       "      <th>...</th>\n",
       "      <td>...</td>\n",
       "      <td>...</td>\n",
       "    </tr>\n",
       "    <tr>\n",
       "      <th>1615</th>\n",
       "      <td>149722.0</td>\n",
       "      <td>Y Tu Mamá También 2001</td>\n",
       "    </tr>\n",
       "    <tr>\n",
       "      <th>1616</th>\n",
       "      <td>42766.0</td>\n",
       "      <td>Z 1969</td>\n",
       "    </tr>\n",
       "    <tr>\n",
       "      <th>1617</th>\n",
       "      <td>33489.0</td>\n",
       "      <td>Zazie dans le Métro 1960</td>\n",
       "    </tr>\n",
       "    <tr>\n",
       "      <th>1618</th>\n",
       "      <td>141852.0</td>\n",
       "      <td>Zero Focus 1961</td>\n",
       "    </tr>\n",
       "    <tr>\n",
       "      <th>1619</th>\n",
       "      <td>1108377.0</td>\n",
       "      <td>Zombi Child 2019</td>\n",
       "    </tr>\n",
       "  </tbody>\n",
       "</table>\n",
       "<p>1434 rows × 2 columns</p>\n",
       "</div>"
      ],
      "text/plain": [
       "      most_similar_index                       most_similar_titleYear\n",
       "0                38571.0          2 or 3 Things I Know About Her 1967\n",
       "1              1079513.0                                 3 Faces 2018\n",
       "2               454250.0            4 Months, 3 Weeks and 2 Days 2007\n",
       "3               137372.0  The VI Olympic Winter Games, Oslo 1952 1952\n",
       "4                35517.0                                      8½ 1963\n",
       "...                  ...                                          ...\n",
       "1615            149722.0                       Y Tu Mamá También 2001\n",
       "1616             42766.0                                       Z 1969\n",
       "1617             33489.0                     Zazie dans le Métro 1960\n",
       "1618            141852.0                              Zero Focus 1961\n",
       "1619           1108377.0                             Zombi Child 2019\n",
       "\n",
       "[1434 rows x 2 columns]"
      ]
     },
     "execution_count": 27,
     "metadata": {},
     "output_type": "execute_result"
    }
   ],
   "source": [
    "matches"
   ]
  },
  {
   "cell_type": "code",
   "execution_count": 28,
   "metadata": {},
   "outputs": [],
   "source": [
    "data['newTitleYear'] = ''"
   ]
  },
  {
   "cell_type": "code",
   "execution_count": 29,
   "metadata": {},
   "outputs": [],
   "source": [
    "import warnings\n",
    "warnings.filterwarnings(\"ignore\", 'This pattern has match groups')\n",
    "data = data[~data['titleYear'].str.contains('|'.join(nas))]"
   ]
  },
  {
   "cell_type": "code",
   "execution_count": 30,
   "metadata": {},
   "outputs": [
    {
     "data": {
      "text/plain": [
       "1437"
      ]
     },
     "execution_count": 30,
     "metadata": {},
     "output_type": "execute_result"
    }
   ],
   "source": [
    "len(data)"
   ]
  },
  {
   "cell_type": "code",
   "execution_count": 31,
   "metadata": {},
   "outputs": [],
   "source": [
    "pd.options.mode.chained_assignment = None\n",
    "for i in range(0, data.index[-1] + 1):\n",
    "    try:\n",
    "        index = int(matches.loc[i, 'most_similar_index'])\n",
    "    except:\n",
    "        pass\n",
    "    data.loc[i, 'newTitleYear'] = imdb_merged.loc[index, 'titleYear']"
   ]
  },
  {
   "cell_type": "code",
   "execution_count": 32,
   "metadata": {},
   "outputs": [],
   "source": [
    "data = data.dropna(axis = 0)"
   ]
  },
  {
   "cell_type": "code",
   "execution_count": 33,
   "metadata": {},
   "outputs": [
    {
     "data": {
      "text/plain": [
       "1436"
      ]
     },
     "execution_count": 33,
     "metadata": {},
     "output_type": "execute_result"
    }
   ],
   "source": [
    "len(data)"
   ]
  },
  {
   "cell_type": "code",
   "execution_count": 34,
   "metadata": {},
   "outputs": [
    {
     "data": {
      "text/html": [
       "<div>\n",
       "<style scoped>\n",
       "    .dataframe tbody tr th:only-of-type {\n",
       "        vertical-align: middle;\n",
       "    }\n",
       "\n",
       "    .dataframe tbody tr th {\n",
       "        vertical-align: top;\n",
       "    }\n",
       "\n",
       "    .dataframe thead th {\n",
       "        text-align: right;\n",
       "    }\n",
       "</style>\n",
       "<table border=\"1\" class=\"dataframe\">\n",
       "  <thead>\n",
       "    <tr style=\"text-align: right;\">\n",
       "      <th></th>\n",
       "      <th>Title</th>\n",
       "      <th>Director</th>\n",
       "      <th>Country</th>\n",
       "      <th>Year</th>\n",
       "      <th>Decade</th>\n",
       "      <th>Duration</th>\n",
       "      <th>Description</th>\n",
       "      <th>Total Hours</th>\n",
       "      <th>Url</th>\n",
       "      <th>titleYear</th>\n",
       "      <th>newTitleYear</th>\n",
       "    </tr>\n",
       "  </thead>\n",
       "  <tbody>\n",
       "    <tr>\n",
       "      <th>0</th>\n",
       "      <td>2 or 3 Things I Know About Her</td>\n",
       "      <td>Jean-Luc Godard</td>\n",
       "      <td>France</td>\n",
       "      <td>1967</td>\n",
       "      <td>1960s</td>\n",
       "      <td>1:27</td>\n",
       "      <td>In 2 OR 3 THINGS I KNOW ABOUT HER (2 OU 3 CHOS...</td>\n",
       "      <td>1.45</td>\n",
       "      <td>https://www.criterionchannel.com/2-or-3-things...</td>\n",
       "      <td>2 or 3 Things I Know About Her 1967</td>\n",
       "      <td>2 or 3 Things I Know About Her 1967</td>\n",
       "    </tr>\n",
       "    <tr>\n",
       "      <th>1</th>\n",
       "      <td>3 Faces</td>\n",
       "      <td>Jafar Panahi</td>\n",
       "      <td>Iran</td>\n",
       "      <td>2018</td>\n",
       "      <td>2010s</td>\n",
       "      <td>1:40</td>\n",
       "      <td>Iranian master Jafar Panahi’s fourth feature s...</td>\n",
       "      <td>1.67</td>\n",
       "      <td>https://www.criterionchannel.com/3-faces</td>\n",
       "      <td>3 Faces 2018</td>\n",
       "      <td>3 Faces 2018</td>\n",
       "    </tr>\n",
       "    <tr>\n",
       "      <th>2</th>\n",
       "      <td>4 Months, 3 Weeks and 2 Days</td>\n",
       "      <td>Cristian Mungiu</td>\n",
       "      <td>Romania</td>\n",
       "      <td>2007</td>\n",
       "      <td>2000s</td>\n",
       "      <td>1:53</td>\n",
       "      <td>Romanian filmmaker Cristian Mungiu shot to int...</td>\n",
       "      <td>1.88</td>\n",
       "      <td>https://www.criterionchannel.com/4-months-3-we...</td>\n",
       "      <td>4 Months, 3 Weeks and 2 Days 2007</td>\n",
       "      <td>4 Months, 3 Weeks and 2 Days 2007</td>\n",
       "    </tr>\n",
       "    <tr>\n",
       "      <th>3</th>\n",
       "      <td>The VI Olympic Winter Games, Oslo 1952</td>\n",
       "      <td>Tankred Ibsen</td>\n",
       "      <td>Norway</td>\n",
       "      <td>1952</td>\n",
       "      <td>1950s</td>\n",
       "      <td>1:43</td>\n",
       "      <td>Director Tancred Ibsen's penchant for depictin...</td>\n",
       "      <td>1.72</td>\n",
       "      <td>https://www.criterionchannel.com/the-vi-olympi...</td>\n",
       "      <td>The VI Olympic Winter Games, Oslo 1952 1952</td>\n",
       "      <td>The VI Olympic Winter Games, Oslo 1952 1952</td>\n",
       "    </tr>\n",
       "    <tr>\n",
       "      <th>4</th>\n",
       "      <td>8½</td>\n",
       "      <td>Federico Fellini</td>\n",
       "      <td>Italy</td>\n",
       "      <td>1963</td>\n",
       "      <td>1960s</td>\n",
       "      <td>2:19</td>\n",
       "      <td>Marcello Mastroianni plays Guido Anselmi, a di...</td>\n",
       "      <td>2.32</td>\n",
       "      <td>https://www.criterionchannel.com/81-2</td>\n",
       "      <td>8½ 1963</td>\n",
       "      <td>8½ 1963</td>\n",
       "    </tr>\n",
       "    <tr>\n",
       "      <th>...</th>\n",
       "      <td>...</td>\n",
       "      <td>...</td>\n",
       "      <td>...</td>\n",
       "      <td>...</td>\n",
       "      <td>...</td>\n",
       "      <td>...</td>\n",
       "      <td>...</td>\n",
       "      <td>...</td>\n",
       "      <td>...</td>\n",
       "      <td>...</td>\n",
       "      <td>...</td>\n",
       "    </tr>\n",
       "    <tr>\n",
       "      <th>1615</th>\n",
       "      <td>Y tu mamá también</td>\n",
       "      <td>Alfonso Cuarón</td>\n",
       "      <td>Mexico</td>\n",
       "      <td>2001</td>\n",
       "      <td>2000s</td>\n",
       "      <td>1:45</td>\n",
       "      <td>This smash road comedy from Oscar-winning dire...</td>\n",
       "      <td>1.75</td>\n",
       "      <td>https://www.criterionchannel.com/y-tu-mama-tam...</td>\n",
       "      <td>Y tu mamá también  2001</td>\n",
       "      <td>Y Tu Mamá También 2001</td>\n",
       "    </tr>\n",
       "    <tr>\n",
       "      <th>1616</th>\n",
       "      <td>Z</td>\n",
       "      <td>Costa-Gavras</td>\n",
       "      <td>Greece</td>\n",
       "      <td>1969</td>\n",
       "      <td>1960s</td>\n",
       "      <td>2:07</td>\n",
       "      <td>A pulse-pounding political thriller, Greek exp...</td>\n",
       "      <td>2.12</td>\n",
       "      <td>https://www.criterionchannel.com/z-1</td>\n",
       "      <td>Z 1969</td>\n",
       "      <td>Z 1969</td>\n",
       "    </tr>\n",
       "    <tr>\n",
       "      <th>1617</th>\n",
       "      <td>Zazie dans le métro</td>\n",
       "      <td>Louis Malle</td>\n",
       "      <td>France</td>\n",
       "      <td>1960</td>\n",
       "      <td>1960s</td>\n",
       "      <td>1:32</td>\n",
       "      <td>A brash and precocious ten-year-old (Catherine...</td>\n",
       "      <td>1.53</td>\n",
       "      <td>https://www.criterionchannel.com/zazie-dans-le...</td>\n",
       "      <td>Zazie dans le métro 1960</td>\n",
       "      <td>Zazie dans le Métro 1960</td>\n",
       "    </tr>\n",
       "    <tr>\n",
       "      <th>1618</th>\n",
       "      <td>Zero Focus</td>\n",
       "      <td>Yoshitaro Nomura</td>\n",
       "      <td>Japan</td>\n",
       "      <td>1961</td>\n",
       "      <td>1960s</td>\n",
       "      <td>1:35</td>\n",
       "      <td>After her husband disappears on a business tri...</td>\n",
       "      <td>1.58</td>\n",
       "      <td>https://www.criterionchannel.com/zero-focus</td>\n",
       "      <td>Zero Focus 1961</td>\n",
       "      <td>Zero Focus 1961</td>\n",
       "    </tr>\n",
       "    <tr>\n",
       "      <th>1619</th>\n",
       "      <td>Zombi Child</td>\n",
       "      <td>Bertrand Bonello</td>\n",
       "      <td>France</td>\n",
       "      <td>2019</td>\n",
       "      <td>2010s</td>\n",
       "      <td>1:43</td>\n",
       "      <td>Iconoclastic auteur Bertrand Bonello blends vo...</td>\n",
       "      <td>1.72</td>\n",
       "      <td>https://www.criterionchannel.com/zombi-child</td>\n",
       "      <td>Zombi Child 2019</td>\n",
       "      <td>Zombi Child 2019</td>\n",
       "    </tr>\n",
       "  </tbody>\n",
       "</table>\n",
       "<p>1436 rows × 11 columns</p>\n",
       "</div>"
      ],
      "text/plain": [
       "                                       Title          Director  Country  Year  \\\n",
       "0             2 or 3 Things I Know About Her   Jean-Luc Godard   France  1967   \n",
       "1                                    3 Faces      Jafar Panahi     Iran  2018   \n",
       "2               4 Months, 3 Weeks and 2 Days   Cristian Mungiu  Romania  2007   \n",
       "3     The VI Olympic Winter Games, Oslo 1952     Tankred Ibsen   Norway  1952   \n",
       "4                                         8½  Federico Fellini    Italy  1963   \n",
       "...                                      ...               ...      ...   ...   \n",
       "1615                      Y tu mamá también     Alfonso Cuarón   Mexico  2001   \n",
       "1616                                       Z      Costa-Gavras   Greece  1969   \n",
       "1617                     Zazie dans le métro       Louis Malle   France  1960   \n",
       "1618                              Zero Focus  Yoshitaro Nomura    Japan  1961   \n",
       "1619                             Zombi Child  Bertrand Bonello   France  2019   \n",
       "\n",
       "     Decade Duration                                        Description  \\\n",
       "0     1960s     1:27  In 2 OR 3 THINGS I KNOW ABOUT HER (2 OU 3 CHOS...   \n",
       "1     2010s     1:40  Iranian master Jafar Panahi’s fourth feature s...   \n",
       "2     2000s     1:53  Romanian filmmaker Cristian Mungiu shot to int...   \n",
       "3     1950s     1:43  Director Tancred Ibsen's penchant for depictin...   \n",
       "4     1960s     2:19  Marcello Mastroianni plays Guido Anselmi, a di...   \n",
       "...     ...      ...                                                ...   \n",
       "1615  2000s     1:45  This smash road comedy from Oscar-winning dire...   \n",
       "1616  1960s     2:07  A pulse-pounding political thriller, Greek exp...   \n",
       "1617  1960s     1:32  A brash and precocious ten-year-old (Catherine...   \n",
       "1618  1960s     1:35  After her husband disappears on a business tri...   \n",
       "1619  2010s     1:43  Iconoclastic auteur Bertrand Bonello blends vo...   \n",
       "\n",
       "      Total Hours                                                Url  \\\n",
       "0            1.45  https://www.criterionchannel.com/2-or-3-things...   \n",
       "1            1.67           https://www.criterionchannel.com/3-faces   \n",
       "2            1.88  https://www.criterionchannel.com/4-months-3-we...   \n",
       "3            1.72  https://www.criterionchannel.com/the-vi-olympi...   \n",
       "4            2.32              https://www.criterionchannel.com/81-2   \n",
       "...           ...                                                ...   \n",
       "1615         1.75  https://www.criterionchannel.com/y-tu-mama-tam...   \n",
       "1616         2.12               https://www.criterionchannel.com/z-1   \n",
       "1617         1.53  https://www.criterionchannel.com/zazie-dans-le...   \n",
       "1618         1.58        https://www.criterionchannel.com/zero-focus   \n",
       "1619         1.72       https://www.criterionchannel.com/zombi-child   \n",
       "\n",
       "                                        titleYear  \\\n",
       "0             2 or 3 Things I Know About Her 1967   \n",
       "1                                    3 Faces 2018   \n",
       "2               4 Months, 3 Weeks and 2 Days 2007   \n",
       "3     The VI Olympic Winter Games, Oslo 1952 1952   \n",
       "4                                         8½ 1963   \n",
       "...                                           ...   \n",
       "1615                      Y tu mamá también  2001   \n",
       "1616                                       Z 1969   \n",
       "1617                     Zazie dans le métro 1960   \n",
       "1618                              Zero Focus 1961   \n",
       "1619                             Zombi Child 2019   \n",
       "\n",
       "                                     newTitleYear  \n",
       "0             2 or 3 Things I Know About Her 1967  \n",
       "1                                    3 Faces 2018  \n",
       "2               4 Months, 3 Weeks and 2 Days 2007  \n",
       "3     The VI Olympic Winter Games, Oslo 1952 1952  \n",
       "4                                         8½ 1963  \n",
       "...                                           ...  \n",
       "1615                       Y Tu Mamá También 2001  \n",
       "1616                                       Z 1969  \n",
       "1617                     Zazie dans le Métro 1960  \n",
       "1618                              Zero Focus 1961  \n",
       "1619                             Zombi Child 2019  \n",
       "\n",
       "[1436 rows x 11 columns]"
      ]
     },
     "execution_count": 34,
     "metadata": {},
     "output_type": "execute_result"
    }
   ],
   "source": [
    "data"
   ]
  },
  {
   "cell_type": "code",
   "execution_count": 35,
   "metadata": {},
   "outputs": [],
   "source": [
    "criterion_merged = data.merge(imdb_merged, left_on = 'newTitleYear', right_on = 'titleYear')"
   ]
  },
  {
   "cell_type": "code",
   "execution_count": 38,
   "metadata": {},
   "outputs": [
    {
     "data": {
      "text/plain": [
       "1436"
      ]
     },
     "execution_count": 38,
     "metadata": {},
     "output_type": "execute_result"
    }
   ],
   "source": [
    "len(criterion_merged)"
   ]
  },
  {
   "cell_type": "code",
   "execution_count": 36,
   "metadata": {},
   "outputs": [
    {
     "data": {
      "text/html": [
       "<div>\n",
       "<style scoped>\n",
       "    .dataframe tbody tr th:only-of-type {\n",
       "        vertical-align: middle;\n",
       "    }\n",
       "\n",
       "    .dataframe tbody tr th {\n",
       "        vertical-align: top;\n",
       "    }\n",
       "\n",
       "    .dataframe thead th {\n",
       "        text-align: right;\n",
       "    }\n",
       "</style>\n",
       "<table border=\"1\" class=\"dataframe\">\n",
       "  <thead>\n",
       "    <tr style=\"text-align: right;\">\n",
       "      <th></th>\n",
       "      <th>Title</th>\n",
       "      <th>Director</th>\n",
       "      <th>Country</th>\n",
       "      <th>Year</th>\n",
       "      <th>Decade</th>\n",
       "      <th>Duration</th>\n",
       "      <th>Description</th>\n",
       "      <th>Total Hours</th>\n",
       "      <th>Url</th>\n",
       "      <th>titleYear_x</th>\n",
       "      <th>newTitleYear</th>\n",
       "      <th>tconst</th>\n",
       "      <th>averageRating</th>\n",
       "      <th>numVotes</th>\n",
       "      <th>primaryTitle</th>\n",
       "      <th>originalTitle</th>\n",
       "      <th>startYear</th>\n",
       "      <th>titleYear_y</th>\n",
       "      <th>isDuplicated</th>\n",
       "    </tr>\n",
       "  </thead>\n",
       "  <tbody>\n",
       "    <tr>\n",
       "      <th>722</th>\n",
       "      <td>Look Back in Anger</td>\n",
       "      <td>Tony Richardson</td>\n",
       "      <td>United Kingdom</td>\n",
       "      <td>1958</td>\n",
       "      <td>1950s</td>\n",
       "      <td>1:40</td>\n",
       "      <td>Jimmy Porter (Richard Burton) is a university ...</td>\n",
       "      <td>1.67</td>\n",
       "      <td>https://www.criterionchannel.com/look-back-in-...</td>\n",
       "      <td>Look Back in Anger 1958</td>\n",
       "      <td>Look Back in Anger 1958</td>\n",
       "      <td>tt0272009</td>\n",
       "      <td>9.5</td>\n",
       "      <td>8</td>\n",
       "      <td>Look Back in Anger</td>\n",
       "      <td>Blick zurück im Zorn</td>\n",
       "      <td>1958</td>\n",
       "      <td>Look Back in Anger 1958</td>\n",
       "      <td>False</td>\n",
       "    </tr>\n",
       "    <tr>\n",
       "      <th>942</th>\n",
       "      <td>Pather Panchali</td>\n",
       "      <td>Satyajit Ray</td>\n",
       "      <td>India</td>\n",
       "      <td>1955</td>\n",
       "      <td>1950s</td>\n",
       "      <td>2:05</td>\n",
       "      <td>With the release in 1955 of Satyajit Ray’s deb...</td>\n",
       "      <td>2.08</td>\n",
       "      <td>https://www.criterionchannel.com/pather-panchali</td>\n",
       "      <td>Pather Panchali 1955</td>\n",
       "      <td>Pather Panchali 1955</td>\n",
       "      <td>tt0048473</td>\n",
       "      <td>8.6</td>\n",
       "      <td>23962</td>\n",
       "      <td>Pather Panchali</td>\n",
       "      <td>Pather Panchali</td>\n",
       "      <td>1955</td>\n",
       "      <td>Pather Panchali 1955</td>\n",
       "      <td>False</td>\n",
       "    </tr>\n",
       "    <tr>\n",
       "      <th>520</th>\n",
       "      <td>Harakiri</td>\n",
       "      <td>Masaki Kobayashi</td>\n",
       "      <td>Japan</td>\n",
       "      <td>1962</td>\n",
       "      <td>1960s</td>\n",
       "      <td>2:12</td>\n",
       "      <td>Following the collapse of his clan, an unemplo...</td>\n",
       "      <td>2.20</td>\n",
       "      <td>https://www.criterionchannel.com/harakiri</td>\n",
       "      <td>Harakiri 1962</td>\n",
       "      <td>Hara-Kiri 1962</td>\n",
       "      <td>tt0056058</td>\n",
       "      <td>8.6</td>\n",
       "      <td>43601</td>\n",
       "      <td>Hara-Kiri</td>\n",
       "      <td>Seppuku</td>\n",
       "      <td>1962</td>\n",
       "      <td>Hara-Kiri 1962</td>\n",
       "      <td>False</td>\n",
       "    </tr>\n",
       "    <tr>\n",
       "      <th>1110</th>\n",
       "      <td>Seven Samurai</td>\n",
       "      <td>Akira Kurosawa</td>\n",
       "      <td>Japan</td>\n",
       "      <td>1954</td>\n",
       "      <td>1950s</td>\n",
       "      <td>3:27</td>\n",
       "      <td>One of the most thrilling movie epics of all t...</td>\n",
       "      <td>3.45</td>\n",
       "      <td>https://www.criterionchannel.com/seven-samurai</td>\n",
       "      <td>Seven Samurai 1954</td>\n",
       "      <td>Seven Samurai 1954</td>\n",
       "      <td>tt0047478</td>\n",
       "      <td>8.6</td>\n",
       "      <td>318830</td>\n",
       "      <td>Seven Samurai</td>\n",
       "      <td>Shichinin no samurai</td>\n",
       "      <td>1954</td>\n",
       "      <td>Seven Samurai 1954</td>\n",
       "      <td>False</td>\n",
       "    </tr>\n",
       "    <tr>\n",
       "      <th>1304</th>\n",
       "      <td>Le trou</td>\n",
       "      <td>Jacques Becker</td>\n",
       "      <td>France</td>\n",
       "      <td>1960</td>\n",
       "      <td>1960s</td>\n",
       "      <td>2:11</td>\n",
       "      <td>In a Paris prison cell, five inmates use every...</td>\n",
       "      <td>2.18</td>\n",
       "      <td>https://www.criterionchannel.com/le-trou-1</td>\n",
       "      <td>Le trou 1960</td>\n",
       "      <td>Le Trou 1960</td>\n",
       "      <td>tt0054407</td>\n",
       "      <td>8.5</td>\n",
       "      <td>15675</td>\n",
       "      <td>Le Trou</td>\n",
       "      <td>Le trou</td>\n",
       "      <td>1960</td>\n",
       "      <td>Le Trou 1960</td>\n",
       "      <td>False</td>\n",
       "    </tr>\n",
       "    <tr>\n",
       "      <th>...</th>\n",
       "      <td>...</td>\n",
       "      <td>...</td>\n",
       "      <td>...</td>\n",
       "      <td>...</td>\n",
       "      <td>...</td>\n",
       "      <td>...</td>\n",
       "      <td>...</td>\n",
       "      <td>...</td>\n",
       "      <td>...</td>\n",
       "      <td>...</td>\n",
       "      <td>...</td>\n",
       "      <td>...</td>\n",
       "      <td>...</td>\n",
       "      <td>...</td>\n",
       "      <td>...</td>\n",
       "      <td>...</td>\n",
       "      <td>...</td>\n",
       "      <td>...</td>\n",
       "      <td>...</td>\n",
       "    </tr>\n",
       "    <tr>\n",
       "      <th>611</th>\n",
       "      <td>I Was a Teenage Zombie</td>\n",
       "      <td>John Elias Michalakis</td>\n",
       "      <td>United States</td>\n",
       "      <td>1987</td>\n",
       "      <td>1980s</td>\n",
       "      <td>1:31</td>\n",
       "      <td>A group of teens looking to score some weed un...</td>\n",
       "      <td>1.52</td>\n",
       "      <td>https://www.criterionchannel.com/i-was-a-teena...</td>\n",
       "      <td>I Was a Teenage Zombie 1987</td>\n",
       "      <td>I Was a Teenage Zombie 1987</td>\n",
       "      <td>tt0093238</td>\n",
       "      <td>4.5</td>\n",
       "      <td>729</td>\n",
       "      <td>I Was a Teenage Zombie</td>\n",
       "      <td>I Was a Teenage Zombie</td>\n",
       "      <td>1987</td>\n",
       "      <td>I Was a Teenage Zombie 1987</td>\n",
       "      <td>False</td>\n",
       "    </tr>\n",
       "    <tr>\n",
       "      <th>333</th>\n",
       "      <td>Dont Look Back</td>\n",
       "      <td>D. A. Pennebaker</td>\n",
       "      <td>United States</td>\n",
       "      <td>1967</td>\n",
       "      <td>1960s</td>\n",
       "      <td>1:36</td>\n",
       "      <td>Bob Dylan is captured on-screen as he never wo...</td>\n",
       "      <td>1.60</td>\n",
       "      <td>https://www.criterionchannel.com/dont-look-back</td>\n",
       "      <td>Dont Look Back 1967</td>\n",
       "      <td>Dont Look Back 2018</td>\n",
       "      <td>tt9095892</td>\n",
       "      <td>4.2</td>\n",
       "      <td>24</td>\n",
       "      <td>Dont Look Back</td>\n",
       "      <td>Dont Look Back</td>\n",
       "      <td>2018</td>\n",
       "      <td>Dont Look Back 2018</td>\n",
       "      <td>False</td>\n",
       "    </tr>\n",
       "    <tr>\n",
       "      <th>98</th>\n",
       "      <td>Beware! The Blob</td>\n",
       "      <td>Larry Hagman</td>\n",
       "      <td>United States</td>\n",
       "      <td>1972</td>\n",
       "      <td>1970s</td>\n",
       "      <td>1:27</td>\n",
       "      <td>The Blob returns—and is more outrageous than e...</td>\n",
       "      <td>1.45</td>\n",
       "      <td>https://www.criterionchannel.com/beware-the-blob</td>\n",
       "      <td>Beware! The Blob 1972</td>\n",
       "      <td>Beware! The Blob 1972</td>\n",
       "      <td>tt0068271</td>\n",
       "      <td>4.1</td>\n",
       "      <td>1841</td>\n",
       "      <td>Beware! The Blob</td>\n",
       "      <td>Beware! The Blob</td>\n",
       "      <td>1972</td>\n",
       "      <td>Beware! The Blob 1972</td>\n",
       "      <td>False</td>\n",
       "    </tr>\n",
       "    <tr>\n",
       "      <th>25</th>\n",
       "      <td>All Monsters Attack</td>\n",
       "      <td>Ishiro Honda</td>\n",
       "      <td>Japan</td>\n",
       "      <td>1969</td>\n",
       "      <td>1960s</td>\n",
       "      <td>1:09</td>\n",
       "      <td>Director Ishiro Honda returned again for the f...</td>\n",
       "      <td>1.15</td>\n",
       "      <td>https://www.criterionchannel.com/all-monsters-...</td>\n",
       "      <td>All Monsters Attack 1969</td>\n",
       "      <td>All Monsters Attack 1969</td>\n",
       "      <td>tt0064373</td>\n",
       "      <td>3.9</td>\n",
       "      <td>4047</td>\n",
       "      <td>All Monsters Attack</td>\n",
       "      <td>Gojira-Minira-Gabara: Oru kaijû daishingeki</td>\n",
       "      <td>1969</td>\n",
       "      <td>All Monsters Attack 1969</td>\n",
       "      <td>False</td>\n",
       "    </tr>\n",
       "    <tr>\n",
       "      <th>1398</th>\n",
       "      <td>Wild 90</td>\n",
       "      <td>Norman Mailer</td>\n",
       "      <td>United States</td>\n",
       "      <td>1968</td>\n",
       "      <td>1960s</td>\n",
       "      <td>1:21</td>\n",
       "      <td>Norman Mailer's first feature filmmaking effor...</td>\n",
       "      <td>1.35</td>\n",
       "      <td>https://www.criterionchannel.com/wild-90</td>\n",
       "      <td>Wild 90 1968</td>\n",
       "      <td>Wild 90 1968</td>\n",
       "      <td>tt0062492</td>\n",
       "      <td>3.8</td>\n",
       "      <td>98</td>\n",
       "      <td>Wild 90</td>\n",
       "      <td>Wild 90</td>\n",
       "      <td>1968</td>\n",
       "      <td>Wild 90 1968</td>\n",
       "      <td>False</td>\n",
       "    </tr>\n",
       "  </tbody>\n",
       "</table>\n",
       "<p>1436 rows × 19 columns</p>\n",
       "</div>"
      ],
      "text/plain": [
       "                       Title               Director         Country  Year  \\\n",
       "722       Look Back in Anger        Tony Richardson  United Kingdom  1958   \n",
       "942          Pather Panchali           Satyajit Ray           India  1955   \n",
       "520                 Harakiri       Masaki Kobayashi           Japan  1962   \n",
       "1110           Seven Samurai         Akira Kurosawa           Japan  1954   \n",
       "1304                 Le trou         Jacques Becker          France  1960   \n",
       "...                      ...                    ...             ...   ...   \n",
       "611   I Was a Teenage Zombie  John Elias Michalakis   United States  1987   \n",
       "333           Dont Look Back       D. A. Pennebaker   United States  1967   \n",
       "98          Beware! The Blob           Larry Hagman   United States  1972   \n",
       "25       All Monsters Attack           Ishiro Honda           Japan  1969   \n",
       "1398                 Wild 90          Norman Mailer   United States  1968   \n",
       "\n",
       "     Decade Duration                                        Description  \\\n",
       "722   1950s     1:40  Jimmy Porter (Richard Burton) is a university ...   \n",
       "942   1950s     2:05  With the release in 1955 of Satyajit Ray’s deb...   \n",
       "520   1960s     2:12  Following the collapse of his clan, an unemplo...   \n",
       "1110  1950s     3:27  One of the most thrilling movie epics of all t...   \n",
       "1304  1960s     2:11  In a Paris prison cell, five inmates use every...   \n",
       "...     ...      ...                                                ...   \n",
       "611   1980s     1:31  A group of teens looking to score some weed un...   \n",
       "333   1960s     1:36  Bob Dylan is captured on-screen as he never wo...   \n",
       "98    1970s     1:27  The Blob returns—and is more outrageous than e...   \n",
       "25    1960s     1:09  Director Ishiro Honda returned again for the f...   \n",
       "1398  1960s     1:21  Norman Mailer's first feature filmmaking effor...   \n",
       "\n",
       "      Total Hours                                                Url  \\\n",
       "722          1.67  https://www.criterionchannel.com/look-back-in-...   \n",
       "942          2.08   https://www.criterionchannel.com/pather-panchali   \n",
       "520          2.20          https://www.criterionchannel.com/harakiri   \n",
       "1110         3.45     https://www.criterionchannel.com/seven-samurai   \n",
       "1304         2.18         https://www.criterionchannel.com/le-trou-1   \n",
       "...           ...                                                ...   \n",
       "611          1.52  https://www.criterionchannel.com/i-was-a-teena...   \n",
       "333          1.60    https://www.criterionchannel.com/dont-look-back   \n",
       "98           1.45   https://www.criterionchannel.com/beware-the-blob   \n",
       "25           1.15  https://www.criterionchannel.com/all-monsters-...   \n",
       "1398         1.35           https://www.criterionchannel.com/wild-90   \n",
       "\n",
       "                      titleYear_x                 newTitleYear     tconst  \\\n",
       "722       Look Back in Anger 1958      Look Back in Anger 1958  tt0272009   \n",
       "942          Pather Panchali 1955         Pather Panchali 1955  tt0048473   \n",
       "520                 Harakiri 1962               Hara-Kiri 1962  tt0056058   \n",
       "1110           Seven Samurai 1954           Seven Samurai 1954  tt0047478   \n",
       "1304                 Le trou 1960                 Le Trou 1960  tt0054407   \n",
       "...                           ...                          ...        ...   \n",
       "611   I Was a Teenage Zombie 1987  I Was a Teenage Zombie 1987  tt0093238   \n",
       "333           Dont Look Back 1967          Dont Look Back 2018  tt9095892   \n",
       "98          Beware! The Blob 1972        Beware! The Blob 1972  tt0068271   \n",
       "25       All Monsters Attack 1969     All Monsters Attack 1969  tt0064373   \n",
       "1398                 Wild 90 1968                 Wild 90 1968  tt0062492   \n",
       "\n",
       "      averageRating  numVotes            primaryTitle  \\\n",
       "722             9.5         8      Look Back in Anger   \n",
       "942             8.6     23962         Pather Panchali   \n",
       "520             8.6     43601               Hara-Kiri   \n",
       "1110            8.6    318830           Seven Samurai   \n",
       "1304            8.5     15675                 Le Trou   \n",
       "...             ...       ...                     ...   \n",
       "611             4.5       729  I Was a Teenage Zombie   \n",
       "333             4.2        24          Dont Look Back   \n",
       "98              4.1      1841        Beware! The Blob   \n",
       "25              3.9      4047     All Monsters Attack   \n",
       "1398            3.8        98                 Wild 90   \n",
       "\n",
       "                                    originalTitle startYear  \\\n",
       "722                          Blick zurück im Zorn      1958   \n",
       "942                               Pather Panchali      1955   \n",
       "520                                       Seppuku      1962   \n",
       "1110                         Shichinin no samurai      1954   \n",
       "1304                                      Le trou      1960   \n",
       "...                                           ...       ...   \n",
       "611                        I Was a Teenage Zombie      1987   \n",
       "333                                Dont Look Back      2018   \n",
       "98                               Beware! The Blob      1972   \n",
       "25    Gojira-Minira-Gabara: Oru kaijû daishingeki      1969   \n",
       "1398                                      Wild 90      1968   \n",
       "\n",
       "                      titleYear_y  isDuplicated  \n",
       "722       Look Back in Anger 1958         False  \n",
       "942          Pather Panchali 1955         False  \n",
       "520                Hara-Kiri 1962         False  \n",
       "1110           Seven Samurai 1954         False  \n",
       "1304                 Le Trou 1960         False  \n",
       "...                           ...           ...  \n",
       "611   I Was a Teenage Zombie 1987         False  \n",
       "333           Dont Look Back 2018         False  \n",
       "98          Beware! The Blob 1972         False  \n",
       "25       All Monsters Attack 1969         False  \n",
       "1398                 Wild 90 1968         False  \n",
       "\n",
       "[1436 rows x 19 columns]"
      ]
     },
     "execution_count": 36,
     "metadata": {},
     "output_type": "execute_result"
    }
   ],
   "source": [
    "criterion_merged.sort_values('averageRating', ascending = False)"
   ]
  },
  {
   "cell_type": "code",
   "execution_count": 37,
   "metadata": {},
   "outputs": [],
   "source": [
    "# Save to csv\n",
    "criterion_merged.to_csv('data\\Merged.csv', index = False)"
   ]
  },
  {
   "cell_type": "markdown",
   "metadata": {},
   "source": [
    "### LDA Topic Modeling"
   ]
  },
  {
   "cell_type": "code",
   "execution_count": null,
   "metadata": {},
   "outputs": [],
   "source": [
    "corpus = data['Description']"
   ]
  },
  {
   "cell_type": "code",
   "execution_count": null,
   "metadata": {},
   "outputs": [],
   "source": [
    "len(corpus)"
   ]
  },
  {
   "cell_type": "code",
   "execution_count": null,
   "metadata": {},
   "outputs": [],
   "source": [
    "import re\n",
    "f = open('C:/Users/HP/Documents/NLP/MySQL_stopwords.txt', 'r', encoding = 'utf-8')\n",
    "stop_words = f.read()\n",
    "stop_words = re.split(' \\t|\\n', stop_words)"
   ]
  },
  {
   "cell_type": "code",
   "execution_count": null,
   "metadata": {},
   "outputs": [],
   "source": [
    "import nltk\n",
    "from nltk import TweetTokenizer\n",
    "# stop_words = nltk.corpus.stopwords.words('english')\n",
    "tokenizer = TweetTokenizer()\n",
    "lemmatizer = nltk.stem.wordnet.WordNetLemmatizer()\n",
    "def normalize_corpus(corpus):\n",
    "    normalized_corpus = []\n",
    "    for i, document in enumerate(corpus):\n",
    "        # Lowercase\n",
    "        document = document.lower()\n",
    "        # Replace \n",
    "        document = document.replace(\"/\", \" \")\n",
    "        document = document.replace(\"’\", \"'\")\n",
    "        document = document.replace(\"'s\", \"\")\n",
    "        # Remove numbers\n",
    "        document = re.sub('[^A-Za-z0-9\\']+', ' ', document)\n",
    "        # Strip spaces\n",
    "        document_tokens = tokenizer.tokenize(document)\n",
    "        # Remove stopwords\n",
    "        document_tokens = [token for token in document_tokens if token not in stop_words]\n",
    "        # Lemmatize\n",
    "        document_tokens = [lemmatizer.lemmatize(token) for token in document_tokens if not token.isnumeric()]\n",
    "        # Remove single characters\n",
    "        document_tokens = [token for token in document_tokens if len(token) > 1]\n",
    "        # Remove empty corpus\n",
    "        if document_tokens:\n",
    "            normalized_corpus.append(document_tokens)\n",
    "    return normalized_corpus\n",
    "normalized_corpus = normalize_corpus(corpus)"
   ]
  },
  {
   "cell_type": "code",
   "execution_count": null,
   "metadata": {},
   "outputs": [],
   "source": [
    "import gensim\n",
    "bigram = gensim.models.Phrases(normalized_corpus, min_count = 5, threshold = 5, delimiter = b'_')\n",
    "bigram_model = gensim.models.phrases.Phraser(bigram)"
   ]
  },
  {
   "cell_type": "code",
   "execution_count": null,
   "metadata": {},
   "outputs": [],
   "source": [
    "normalized_corpus_bigrams = [bigram_model[post] for post in normalized_corpus]\n",
    "# Create a dictionary representation of the documents.\n",
    "dictionary = gensim.corpora.Dictionary(normalized_corpus_bigrams)\n",
    "print('Total Vocabulary Size:', len(dictionary))"
   ]
  },
  {
   "cell_type": "code",
   "execution_count": null,
   "metadata": {},
   "outputs": [],
   "source": [
    "# Filter out words that occur less than 20 documents, or more than 50% of the documents.\n",
    "dictionary.filter_extremes(no_below = 5, no_above = 0.5)\n",
    "print('Total Vocabulary Size:', len(dictionary))"
   ]
  },
  {
   "cell_type": "code",
   "execution_count": null,
   "metadata": {},
   "outputs": [],
   "source": [
    "# Transforming corpus into bag of words vectors\n",
    "bow_corpus = [dictionary.doc2bow(text) for text in normalized_corpus_bigrams]"
   ]
  },
  {
   "cell_type": "code",
   "execution_count": null,
   "metadata": {},
   "outputs": [],
   "source": [
    "MALLET_PATH = 'C:/mallet-2.0.8/bin/mallet'\n",
    "import os\n",
    "from gensim.models.wrappers import LdaMallet\n",
    "from tqdm import tqdm\n",
    "os.environ['MALLET_HOME'] = 'C:/mallet-2.0.8'\n",
    "\n",
    "def topic_model_coherence_generator(corpus, texts, dictionary, \n",
    "                                    start_topic_count = 1, end_topic_count = 10, step = 1,\n",
    "                                    cpus = 8):\n",
    "    models = []\n",
    "    coherence_scores = []\n",
    "    for topic_nums in tqdm(range(start_topic_count, end_topic_count + 1, step)):\n",
    "        mallet_lda_model = gensim.models.wrappers.LdaMallet(mallet_path = MALLET_PATH, corpus = corpus,\n",
    "                                                            num_topics = topic_nums, id2word = dictionary,\n",
    "                                                            iterations = 100, workers = cpus, random_seed = 20210224)\n",
    "        cv_coherence_model_mallet_lda = gensim.models.CoherenceModel(model = mallet_lda_model, corpus = corpus, \n",
    "                                                                     texts = texts, dictionary = dictionary, \n",
    "                                                                     coherence = 'c_v')\n",
    "        coherence_score = cv_coherence_model_mallet_lda.get_coherence()\n",
    "        coherence_scores.append(coherence_score)\n",
    "        models.append(mallet_lda_model)\n",
    "    return models, coherence_scores"
   ]
  },
  {
   "cell_type": "markdown",
   "metadata": {},
   "source": [
    "### 40 Topics"
   ]
  },
  {
   "cell_type": "code",
   "execution_count": null,
   "metadata": {},
   "outputs": [],
   "source": [
    "end_topic_count = 40\n",
    "lda_models, coherence_scores = topic_model_coherence_generator(corpus = bow_corpus, texts = normalized_corpus_bigrams,\n",
    "                                                               dictionary = dictionary, start_topic_count = 1,\n",
    "                                                               end_topic_count = end_topic_count, step = 1, cpus = 8)"
   ]
  },
  {
   "cell_type": "code",
   "execution_count": null,
   "metadata": {},
   "outputs": [],
   "source": [
    "import pickle\n",
    "pickle.dump(lda_models, open('40_topics_lda_models.pkl', 'wb'))\n",
    "pickle.dump(coherence_scores, open('40_topics_coherence_scores.pkl', 'wb'))"
   ]
  },
  {
   "cell_type": "code",
   "execution_count": null,
   "metadata": {},
   "outputs": [],
   "source": [
    "import pickle\n",
    "lda_models = pickle.load(open('40_topics_lda_models.pkl','rb'))\n",
    "coherence_scores = pickle.load(open('40_topics_coherence_scores.pkl','rb'))"
   ]
  },
  {
   "cell_type": "markdown",
   "metadata": {},
   "source": [
    "### 80 Topics"
   ]
  },
  {
   "cell_type": "code",
   "execution_count": null,
   "metadata": {},
   "outputs": [],
   "source": [
    "end_topic_count = 80\n",
    "lda_models, coherence_scores = topic_model_coherence_generator(corpus = bow_corpus, texts = normalized_corpus_bigrams,\n",
    "                                                               dictionary = dictionary, start_topic_count = 1,\n",
    "                                                               end_topic_count = end_topic_count, step = 1, cpus = 8)"
   ]
  },
  {
   "cell_type": "code",
   "execution_count": null,
   "metadata": {},
   "outputs": [],
   "source": [
    "import pickle\n",
    "pickle.dump(lda_models, open('80_topics_lda_models.pkl', 'wb'))\n",
    "pickle.dump(coherence_scores, open('80_topics_coherence_scores.pkl', 'wb'))"
   ]
  },
  {
   "cell_type": "code",
   "execution_count": null,
   "metadata": {},
   "outputs": [],
   "source": [
    "import pickle\n",
    "lda_models = pickle.load(open('80_topics_lda_models.pkl','rb'))\n",
    "coherence_scores = pickle.load(open('80_topics_coherence_scores.pkl','rb'))"
   ]
  },
  {
   "cell_type": "markdown",
   "metadata": {},
   "source": [
    "### 160 Topics"
   ]
  },
  {
   "cell_type": "code",
   "execution_count": null,
   "metadata": {},
   "outputs": [],
   "source": [
    "end_topic_count = 160\n",
    "lda_models, coherence_scores = topic_model_coherence_generator(corpus = bow_corpus, texts = normalized_corpus_bigrams,\n",
    "                                                               dictionary = dictionary, start_topic_count = 1,\n",
    "                                                               end_topic_count = end_topic_count, step = 1, cpus = 8)"
   ]
  },
  {
   "cell_type": "code",
   "execution_count": null,
   "metadata": {},
   "outputs": [],
   "source": [
    "import pickle\n",
    "pickle.dump(lda_models, open('160_topics_lda_models.pkl', 'wb'))\n",
    "pickle.dump(coherence_scores, open('160_topics_coherence_scores.pkl', 'wb'))"
   ]
  },
  {
   "cell_type": "code",
   "execution_count": null,
   "metadata": {},
   "outputs": [],
   "source": [
    "import pickle\n",
    "lda_models = pickle.load(open('160_topics_lda_models.pkl','rb'))\n",
    "coherence_scores = pickle.load(open('160_topics_coherence_scores.pkl','rb'))"
   ]
  },
  {
   "cell_type": "markdown",
   "metadata": {},
   "source": [
    "### Analyze Model"
   ]
  },
  {
   "cell_type": "code",
   "execution_count": null,
   "metadata": {},
   "outputs": [],
   "source": [
    "import numpy as np\n",
    "import pandas as pd\n",
    "end_topic_count = 160\n",
    "coherence_df = pd.DataFrame({'Number of Topics': range(1, end_topic_count + 1, 1),\n",
    "                             'Coherence Score': np.round(coherence_scores, 4)})\n",
    "coherence_df = coherence_df.sort_values(by = 'Coherence Score', ascending = False).head(10)"
   ]
  },
  {
   "cell_type": "code",
   "execution_count": null,
   "metadata": {},
   "outputs": [],
   "source": [
    "import matplotlib.pyplot as plt\n",
    "plt.style.use('fivethirtyeight')\n",
    "%matplotlib inline\n",
    "\n",
    "x_ax = range(1, end_topic_count + 1, 1)\n",
    "y_ax = coherence_scores\n",
    "plt.figure(figsize=(12, 6))\n",
    "plt.plot(x_ax, y_ax, c = 'r')\n",
    "plt.rcParams['figure.facecolor'] = 'white'\n",
    "xl = plt.xlabel('Number of Topics')\n",
    "yl = plt.ylabel('Coherence Score')"
   ]
  },
  {
   "cell_type": "code",
   "execution_count": null,
   "metadata": {},
   "outputs": [],
   "source": [
    "best_model_idx = coherence_df['Number of Topics'].index[0]\n",
    "best_lda_model = lda_models[best_model_idx]\n",
    "best_lda_model.num_topics"
   ]
  },
  {
   "cell_type": "code",
   "execution_count": null,
   "metadata": {},
   "outputs": [],
   "source": [
    "topics = [[(term, round(wt, 3)) \n",
    "               for term, wt in best_lda_model.show_topic(n, topn=20)] \n",
    "                   for n in range(0, best_lda_model.num_topics)]"
   ]
  },
  {
   "cell_type": "code",
   "execution_count": null,
   "metadata": {},
   "outputs": [],
   "source": [
    "pd.set_option('display.max_colwidth', None)\n",
    "topics_df = pd.DataFrame([', '.join([term for term, wt in topic])  \n",
    "                              for topic in topics],\n",
    "                         columns = ['Topic Desc'],\n",
    "                         index = range(1, best_lda_model.num_topics + 1)\n",
    "                         )\n",
    "topics_df.head()"
   ]
  },
  {
   "cell_type": "code",
   "execution_count": null,
   "metadata": {},
   "outputs": [],
   "source": [
    "tm_results = best_lda_model[bow_corpus]"
   ]
  },
  {
   "cell_type": "code",
   "execution_count": null,
   "metadata": {},
   "outputs": [],
   "source": [
    "corpus_topics = [sorted(topics, key = lambda record: -record[1])[0] for topics in tm_results]"
   ]
  },
  {
   "cell_type": "code",
   "execution_count": null,
   "metadata": {},
   "outputs": [],
   "source": [
    "corpus_topic_df = pd.DataFrame()\n",
    "corpus_topic_df['Document'] = range(0, len(corpus))\n",
    "corpus_topic_df['Dominant Topic'] = [item[0] + 1 for item in corpus_topics]\n",
    "corpus_topic_df['Contribution %'] = [round(item[1] * 100, 2) for item in corpus_topics]\n",
    "corpus_topic_df['Topic Desc'] = [topics_df.iloc[t[0]]['Topic Desc'] for t in corpus_topics]\n",
    "corpus_topic_df['Description'] = corpus\n",
    "corpus_topic_df.head()"
   ]
  },
  {
   "cell_type": "code",
   "execution_count": null,
   "metadata": {},
   "outputs": [],
   "source": [
    "corpus_topic_df[corpus_topic_df['Dominant Topic'] == 36].head()"
   ]
  },
  {
   "cell_type": "code",
   "execution_count": null,
   "metadata": {},
   "outputs": [],
   "source": [
    "topic_stats_df = corpus_topic_df.groupby('Dominant Topic').count()\n",
    "topic_stats_df = topic_stats_df.drop(['Contribution %', 'Topic Desc', 'Description'], axis = 1)\n",
    "topic_stats_df.columns = ['# of Docs']\n",
    "topic_stats_df['% Total Docs'] = round(100 * topic_stats_df['# of Docs'] / sum(topic_stats_df['# of Docs']), 2)\n",
    "topic_stats_df['Topic Desc'] = topics_df['Topic Desc']\n",
    "topic_stats_df.sort_values('% Total Docs', ascending = False).head()"
   ]
  },
  {
   "cell_type": "code",
   "execution_count": null,
   "metadata": {},
   "outputs": [],
   "source": [
    "topic_stats_df.sort_values('% Total Docs', ascending = False).tail()"
   ]
  },
  {
   "cell_type": "code",
   "execution_count": null,
   "metadata": {},
   "outputs": [],
   "source": [
    "relevant_posts = corpus_topic_df.groupby('Dominant Topic') \\\n",
    ".apply(lambda topic_set: (topic_set.sort_values(by=['Contribution %'], ascending=False).iloc[0]))\n",
    "relevant_posts.sort_values('Contribution %', ascending = False).head()"
   ]
  }
 ],
 "metadata": {
  "kernelspec": {
   "display_name": "Python 3",
   "language": "python",
   "name": "python3"
  },
  "language_info": {
   "codemirror_mode": {
    "name": "ipython",
    "version": 3
   },
   "file_extension": ".py",
   "mimetype": "text/x-python",
   "name": "python",
   "nbconvert_exporter": "python",
   "pygments_lexer": "ipython3",
   "version": "3.8.8"
  }
 },
 "nbformat": 4,
 "nbformat_minor": 4
}
