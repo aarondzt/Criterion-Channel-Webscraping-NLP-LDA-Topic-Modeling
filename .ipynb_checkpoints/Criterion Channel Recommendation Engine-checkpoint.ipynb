{
 "cells": [
  {
   "cell_type": "markdown",
   "metadata": {},
   "source": [
    "### Webscraping"
   ]
  },
  {
   "cell_type": "code",
   "execution_count": null,
   "metadata": {},
   "outputs": [],
   "source": [
    "# Make soup\n",
    "import requests\n",
    "from bs4 import BeautifulSoup\n",
    "request = requests.get('https://films.criterionchannel.com/')\n",
    "soup = BeautifulSoup(request.content, 'html.parser')"
   ]
  },
  {
   "cell_type": "code",
   "execution_count": null,
   "metadata": {},
   "outputs": [],
   "source": [
    "# Scrape titles, get rid of tabs and new lines\n",
    "titles = []\n",
    "for title in soup.findAll(class_ = \"criterion-channel__td criterion-channel__td--title\"):\n",
    "    nt = title.get_text()\n",
    "    no_t = nt.replace('\\t', '')\n",
    "    no_nt = no_t.replace('\\n', '')\n",
    "    titles.append(no_nt)\n",
    "print(len(titles))"
   ]
  },
  {
   "cell_type": "code",
   "execution_count": null,
   "metadata": {},
   "outputs": [],
   "source": [
    "# Scrape urls\n",
    "urls = []\n",
    "for url in soup.findAll('a', href = True):\n",
    "    urls.append(url.get('href'))\n",
    "# Only keep urls that correspond to films\n",
    "urls = urls[3:]\n",
    "urls = urls[1:-21]\n",
    "print(len(urls))"
   ]
  },
  {
   "cell_type": "code",
   "execution_count": null,
   "metadata": {},
   "outputs": [],
   "source": [
    "# Scrape directors\n",
    "directors = []\n",
    "for director in soup.findAll(class_ = 'criterion-channel__td criterion-channel__td--director'):\n",
    "    nt = director.get_text()\n",
    "    no_t = nt.replace('\\t', '')\n",
    "    no_nt = no_t.replace('\\n', '')\n",
    "    directors.append(no_nt)\n",
    "print(len(directors))"
   ]
  },
  {
   "cell_type": "code",
   "execution_count": null,
   "metadata": {},
   "outputs": [],
   "source": [
    "# Scrape countries\n",
    "countries = []\n",
    "for country in soup.findAll(class_ = 'criterion-channel__td criterion-channel__td--country'):\n",
    "    nt = country.get_text()\n",
    "    no_t = nt.replace('\\t', '')\n",
    "    no_nt = no_t.replace('\\n', '')\n",
    "    no_comma = no_nt[:-1]\n",
    "    countries.append(no_comma)\n",
    "print(len(countries))"
   ]
  },
  {
   "cell_type": "code",
   "execution_count": null,
   "metadata": {},
   "outputs": [],
   "source": [
    "# Scrape years\n",
    "years = []\n",
    "for year in soup.findAll(class_ = 'criterion-channel__td criterion-channel__td--year'):\n",
    "    nt = year.get_text()\n",
    "    no_t = nt.replace('\\t', '')\n",
    "    no_nt = no_t.replace('\\n', '')\n",
    "    years.append(no_nt)\n",
    "print(len(years))"
   ]
  },
  {
   "cell_type": "code",
   "execution_count": null,
   "metadata": {},
   "outputs": [],
   "source": [
    "# Create dataframe\n",
    "import pandas as pd\n",
    "data = pd.DataFrame({'Title': titles, 'Director': directors, 'Country': countries, 'Year': years, 'Url': urls})\n",
    "# Remove rows without durations (parts > 1 of a film)\n",
    "data = data[~data['Url'].str.contains('/videos/')]\n",
    "# Remove two rows with urls that don't work\n",
    "# ....\n",
    "data = data.reset_index(drop = True)\n",
    "print(len(data))"
   ]
  },
  {
   "cell_type": "code",
   "execution_count": null,
   "metadata": {
    "scrolled": true
   },
   "outputs": [],
   "source": [
    "# # Check for broken links, do not run this, it takes a long time\n",
    "# fourohfour = []\n",
    "# for url in data['Url']:\n",
    "#     # 200 = working, 404 = broken\n",
    "#     fourohfour.append(requests.get(url))\n",
    "#     print(url)\n",
    "# print(len(fourohfour))\n",
    "# # Save as text file (Excel often incorrectly reformats csv files upon opening)\n",
    "# with open('data/Fourohfour.txt', 'w') as file:\n",
    "#     for line in fourohfour:\n",
    "#         file.write(\"%s\\n\" % line)\n",
    "# print(len(fourohfour))"
   ]
  },
  {
   "cell_type": "code",
   "execution_count": null,
   "metadata": {},
   "outputs": [],
   "source": [
    "# Open pre-scraped 404 file\n",
    "with open('data\\Fourohfour.txt') as file:\n",
    "    fourohfour = file.read().splitlines()\n",
    "# Insert 404 column\n",
    "data.insert(5, '404', fourohfour)\n",
    "# Convert from BeautifulSoup type to string\n",
    "data['404'] = data['404'].astype(str)\n",
    "# Remove 404 rows from data\n",
    "data = data[~data['404'].str.contains('404')]\n",
    "print(len(data)) # Removed 52 broken links"
   ]
  },
  {
   "cell_type": "code",
   "execution_count": null,
   "metadata": {},
   "outputs": [],
   "source": [
    "# Reset index after filtering out rows\n",
    "data = data.reset_index(drop = True)"
   ]
  },
  {
   "cell_type": "code",
   "execution_count": null,
   "metadata": {},
   "outputs": [],
   "source": [
    "data.head()"
   ]
  },
  {
   "cell_type": "code",
   "execution_count": null,
   "metadata": {
    "scrolled": true
   },
   "outputs": [],
   "source": [
    "# # Scrape durations, do not run this, it takes a long time\n",
    "# durations = []\n",
    "# for url in data['Url']:\n",
    "#     request = requests.get(url)\n",
    "#     soup = BeautifulSoup(request.content, 'html.parser')\n",
    "#     for duration in soup.findAll(class_ = 'duration-container')[:1]:\n",
    "#         durations.append(duration.get_text())\n",
    "#     print(url)\n",
    "# # Save as text file\n",
    "# with open('data/Durations.txt', 'w') as file:\n",
    "#     for line in durations:\n",
    "#         file.write(\"%s\\n\" % line)\n",
    "# print(len(durations))"
   ]
  },
  {
   "cell_type": "code",
   "execution_count": null,
   "metadata": {},
   "outputs": [],
   "source": [
    "# Open pre-scraped duration file\n",
    "with open('data\\Durations.txt') as file:\n",
    "    durations = file.read().splitlines()"
   ]
  },
  {
   "cell_type": "code",
   "execution_count": null,
   "metadata": {},
   "outputs": [],
   "source": [
    "# Clean durations\n",
    "durations = durations[1:]\n",
    "durations = durations[::3]\n",
    "durations = [x.strip(' ') for x in durations]"
   ]
  },
  {
   "cell_type": "code",
   "execution_count": null,
   "metadata": {},
   "outputs": [],
   "source": [
    "# Insert duration column\n",
    "try:\n",
    "    data.insert(4, 'Duration', durations)\n",
    "except:\n",
    "    pass"
   ]
  },
  {
   "cell_type": "code",
   "execution_count": null,
   "metadata": {},
   "outputs": [],
   "source": [
    "# Remove seconds, keep only hours and minutes\n",
    "data['Duration'] = data['Duration'].str[:-3]"
   ]
  },
  {
   "cell_type": "code",
   "execution_count": null,
   "metadata": {},
   "outputs": [],
   "source": [
    "# Append '0:' to beginning of duration to indicate 0 hours for all films < 1 hour\n",
    "# that are not formatted consistently with the rest of the data\n",
    "for i, duration in enumerate(data['Duration']):\n",
    "    if ':' not in duration:\n",
    "        data.loc[i, 'Duration'] = '0:' + duration"
   ]
  },
  {
   "cell_type": "code",
   "execution_count": null,
   "metadata": {},
   "outputs": [],
   "source": [
    "# Split duration by colon\n",
    "hours_minutes = data['Duration'].str.split(':', expand = True)"
   ]
  },
  {
   "cell_type": "code",
   "execution_count": null,
   "metadata": {},
   "outputs": [],
   "source": [
    "# Insert hours and minutes columns\n",
    "data.insert(5, 'Hours', hours_minutes[0])\n",
    "data['Hours'] = data['Hours'].astype(int)\n",
    "data.insert(6, 'Minutes', hours_minutes[1])\n",
    "data['Minutes'] = data['Minutes'].astype(int)"
   ]
  },
  {
   "cell_type": "code",
   "execution_count": null,
   "metadata": {},
   "outputs": [],
   "source": [
    "# Calculate and insert total hours\n",
    "total_hours = []\n",
    "for i in range(len(data)):\n",
    "    hours = (data.loc[i]['Hours'].astype(int) + data.loc[i]['Minutes'].astype(int)/60).round(2)\n",
    "    total_hours.append(hours)\n",
    "try:\n",
    "    data.insert(7, 'Total Hours', total_hours)\n",
    "except:\n",
    "    pass\n",
    "# Drop old columns\n",
    "try:\n",
    "    data = data.drop(['Minutes', 'Hours', '404'], axis = 1)\n",
    "except:\n",
    "    pass"
   ]
  },
  {
   "cell_type": "code",
   "execution_count": null,
   "metadata": {
    "scrolled": true
   },
   "outputs": [],
   "source": [
    "# # Scrape descriptions, do not run this, it takes a long time\n",
    "# descriptions = []\n",
    "# for url in data['Url']:\n",
    "#     request = requests.get(url)\n",
    "#     soup = BeautifulSoup(request.content, 'html.parser')\n",
    "#     paragraphs = soup.findAll('p')\n",
    "#     # Select paragraph containing the description\n",
    "#     paragraphs = paragraphs[1]\n",
    "#     string = []\n",
    "#     for x in paragraphs:\n",
    "#         string.append(str(x))\n",
    "#     descriptions.append(string[0])\n",
    "#     print(url)\n",
    "# # Save to csv (list is incorrectly loaded as text file)\n",
    "# descriptions = pd.DataFrame({'Description': descriptions})\n",
    "# descriptions.to_csv('data/Descriptions.csv', index = False)"
   ]
  },
  {
   "cell_type": "code",
   "execution_count": null,
   "metadata": {},
   "outputs": [],
   "source": [
    "# Open pre-scraped description file\n",
    "descriptions = pd.read_csv('data\\Descriptions.csv')"
   ]
  },
  {
   "cell_type": "code",
   "execution_count": null,
   "metadata": {},
   "outputs": [],
   "source": [
    "# Insert description column\n",
    "data.insert(5, 'Description', descriptions)"
   ]
  },
  {
   "cell_type": "code",
   "execution_count": null,
   "metadata": {},
   "outputs": [],
   "source": [
    "# Remove films < 1 hour, as these are mostly shorts, not films\n",
    "data = data[data['Total Hours'] > 1]"
   ]
  },
  {
   "cell_type": "code",
   "execution_count": null,
   "metadata": {},
   "outputs": [],
   "source": [
    "# Create decade column\n",
    "import numpy as np\n",
    "try:\n",
    "    data.insert(4, 'Decade', (data['Year'].astype(int)/10).apply(np.floor))\n",
    "except:\n",
    "    pass\n",
    "data['Decade'] = data['Decade'].astype(str)\n",
    "data['Decade'] = data['Decade'].str.replace('.', '')\n",
    "data['Decade'] = data['Decade'].astype(str) + 's'"
   ]
  },
  {
   "cell_type": "code",
   "execution_count": null,
   "metadata": {},
   "outputs": [],
   "source": [
    "# Replace NaN with 'None'\n",
    "data = data.replace(np.nan, 'None', regex = True)"
   ]
  },
  {
   "cell_type": "code",
   "execution_count": null,
   "metadata": {},
   "outputs": [],
   "source": [
    "# Save to csv\n",
    "data.to_csv('data\\Criterion.csv', index = False)"
   ]
  },
  {
   "cell_type": "markdown",
   "metadata": {},
   "source": [
    "### LDA Topic Modeling"
   ]
  },
  {
   "cell_type": "code",
   "execution_count": 18,
   "metadata": {},
   "outputs": [],
   "source": [
    "# Read csv\n",
    "import pandas as pd\n",
    "data = pd.read_csv('data\\Criterion.csv')"
   ]
  },
  {
   "cell_type": "code",
   "execution_count": 19,
   "metadata": {},
   "outputs": [
    {
     "data": {
      "text/html": [
       "<div>\n",
       "<style scoped>\n",
       "    .dataframe tbody tr th:only-of-type {\n",
       "        vertical-align: middle;\n",
       "    }\n",
       "\n",
       "    .dataframe tbody tr th {\n",
       "        vertical-align: top;\n",
       "    }\n",
       "\n",
       "    .dataframe thead th {\n",
       "        text-align: right;\n",
       "    }\n",
       "</style>\n",
       "<table border=\"1\" class=\"dataframe\">\n",
       "  <thead>\n",
       "    <tr style=\"text-align: right;\">\n",
       "      <th></th>\n",
       "      <th>Title</th>\n",
       "      <th>Director</th>\n",
       "      <th>Country</th>\n",
       "      <th>Year</th>\n",
       "      <th>Decade</th>\n",
       "      <th>Duration</th>\n",
       "      <th>Description</th>\n",
       "      <th>Total Hours</th>\n",
       "      <th>Url</th>\n",
       "    </tr>\n",
       "  </thead>\n",
       "  <tbody>\n",
       "    <tr>\n",
       "      <th>0</th>\n",
       "      <td>2 or 3 Things I Know About Her</td>\n",
       "      <td>Jean-Luc Godard</td>\n",
       "      <td>France</td>\n",
       "      <td>1967</td>\n",
       "      <td>1960s</td>\n",
       "      <td>1:27</td>\n",
       "      <td>In 2 OR 3 THINGS I KNOW ABOUT HER (2 OU 3 CHOSES QUE JE SAIS D’ELLE), Jean-Luc Godard beckons us ever closer, whispering in our ears as narrator. About what? Money, sex, fashion, the city, love, language, war: in a word, everything. Among the legendary French filmmaker’s finest achievements, the film takes as its ostensible subject the daily life of Juliette Janson (Marina Vlady), a housewife from the Paris suburbs who prostitutes herself for extra money. Yet this is only a template for Godard to spin off into provocative philosophical tangents and gorgeous images. 2 OR 3 THINGS I KNOW ABOUT HER is perhaps Godard’s most revelatory look at consumer culture, shot in ravishing widescreen color by Raoul Coutard.</td>\n",
       "      <td>1.45</td>\n",
       "      <td>https://www.criterionchannel.com/2-or-3-things-i-know-about-her</td>\n",
       "    </tr>\n",
       "    <tr>\n",
       "      <th>1</th>\n",
       "      <td>3 Faces</td>\n",
       "      <td>Jafar Panahi</td>\n",
       "      <td>Iran</td>\n",
       "      <td>2018</td>\n",
       "      <td>2010s</td>\n",
       "      <td>1:40</td>\n",
       "      <td>Iranian master Jafar Panahi’s fourth feature since he was officially banned from filmmaking is a courageous act of antipatriarchal defiance from an artist who has refused to be silenced. This playful docufiction road movie begins with a smartphone video sent to the director and real-life star actress Behnaz Jafari from a desperate young woman who, distraught at her family’s refusal to let her study drama, seemingly records her own suicide. Traveling to the woman’s rural hometown to investigate, Panahi and Jafari find themselves launched on a slyly comic, quietly revelatory journey that builds in narrative, thematic, and visual intricacy to put forth a grand expression of community and solidarity under the eye of oppression.</td>\n",
       "      <td>1.67</td>\n",
       "      <td>https://www.criterionchannel.com/3-faces</td>\n",
       "    </tr>\n",
       "    <tr>\n",
       "      <th>2</th>\n",
       "      <td>4 Months, 3 Weeks and 2 Days</td>\n",
       "      <td>Cristian Mungiu</td>\n",
       "      <td>Romania</td>\n",
       "      <td>2007</td>\n",
       "      <td>2000s</td>\n",
       "      <td>1:53</td>\n",
       "      <td>Romanian filmmaker Cristian Mungiu shot to international prominence with this rigorously realistic Palme d’Or–winning second feature. In 1987, during the dictatorship of Nicolae Ceaușescu, college roommates Otilia (Anamaria Marinca) and Găbița (Laura Vasiliu) seek an illegal abortion for Găbița. In unflinching but empathetic detail, the film recounts the events of twenty-four perilous hours in their lives, culminating in their encounter with a manipulative and menacing abortionist (Vlad Ivanov). With powerful performances that accentuate the characters’ flawed humanity, 4 MONTHS, 3 WEEKS AND 2 DAYS is a gutting account of the impossible choices women face when taking control of their bodies means breaking the law.</td>\n",
       "      <td>1.88</td>\n",
       "      <td>https://www.criterionchannel.com/4-months-3-weeks-and-2-days</td>\n",
       "    </tr>\n",
       "    <tr>\n",
       "      <th>3</th>\n",
       "      <td>The VI Olympic Winter Games, Oslo 1952</td>\n",
       "      <td>Tankred Ibsen</td>\n",
       "      <td>Norway</td>\n",
       "      <td>1952</td>\n",
       "      <td>1950s</td>\n",
       "      <td>1:43</td>\n",
       "      <td>Director Tancred Ibsen's penchant for depicting rustic life shines through in the bucolic scenes at the start of THE VI OLYMPIC WINTER GAMES, OSLO 1952. In addition to the exciting scenes of competition (Winter sports are followed with almost rabid fervor in Scandinavia), Ibsen records a sense of community spirit shared among the competitors.</td>\n",
       "      <td>1.72</td>\n",
       "      <td>https://www.criterionchannel.com/the-vi-olympic-winter-games-oslo-1952</td>\n",
       "    </tr>\n",
       "    <tr>\n",
       "      <th>4</th>\n",
       "      <td>8½</td>\n",
       "      <td>Federico Fellini</td>\n",
       "      <td>Italy</td>\n",
       "      <td>1963</td>\n",
       "      <td>1960s</td>\n",
       "      <td>2:19</td>\n",
       "      <td>Marcello Mastroianni plays Guido Anselmi, a director whose new project is collapsing around him, along with his life. One of the greatest films about film ever made, Federico Fellini’s 8½ (Otto e mezzo) turns one man’s artistic crisis into a grand epic of the cinema. An early working title for 8½ was THE BEAUTIFUL CONFUSION, and Fellini’s masterpiece is exactly that: a shimmering dream, a circus, and a magic act.</td>\n",
       "      <td>2.32</td>\n",
       "      <td>https://www.criterionchannel.com/81-2</td>\n",
       "    </tr>\n",
       "    <tr>\n",
       "      <th>5</th>\n",
       "      <td>The IX Olympiad at Amsterdam</td>\n",
       "      <td>NaN</td>\n",
       "      <td>Netherlands</td>\n",
       "      <td>1928</td>\n",
       "      <td>1920s</td>\n",
       "      <td>4:11</td>\n",
       "      <td>Made by Istituto Luce, the Italian film company controlled by Benito Mussolini since 1925, THE IX OLYMPIAD IN AMSTERDAM may, understandably, highlight Italian participants, but it is the first Olympic documentary that describes the techniques of certain events with useful particulars.</td>\n",
       "      <td>4.18</td>\n",
       "      <td>https://www.criterionchannel.com/the-ix-olympiad-in-amsterdam</td>\n",
       "    </tr>\n",
       "    <tr>\n",
       "      <th>6</th>\n",
       "      <td>IX Olympic Winter Games, Innsbruck 1964</td>\n",
       "      <td>Theo Hörmann</td>\n",
       "      <td>Austria</td>\n",
       "      <td>1964</td>\n",
       "      <td>1960s</td>\n",
       "      <td>1:30</td>\n",
       "      <td>Joy and good humor pervades Theo Hörmann's documentary record of the 1964 Games in Austria. Shot in Agfacolor, it nurtures a folkloric image of Tyrol, with its quaint mountain farms and obligatory yodeling. Hörmann deploys shots from a helicopter to present the landscape of Tyrol but also to show the skills of the athletes.</td>\n",
       "      <td>1.50</td>\n",
       "      <td>https://www.criterionchannel.com/ix-olympic-winter-games-innsbruck-1964</td>\n",
       "    </tr>\n",
       "    <tr>\n",
       "      <th>7</th>\n",
       "      <td>13 Days in France</td>\n",
       "      <td>François Reichenbach…</td>\n",
       "      <td>France</td>\n",
       "      <td>1968</td>\n",
       "      <td>1960s</td>\n",
       "      <td>1:52</td>\n",
       "      <td>13 DAYS IN FRANCE, a personal project for French filmmaker Claude Lelouch, approaches the X Olympic Winter Games in a radical way, ignoring certain disciplines and dwelling on others. This impressionistic kaleidoscope of a movie manages to be both freewheeling and intimate. Under the direction of Lelouch and François Reichenbach, 13 DAYS IN FRANCE pulses with the insouciant spirit of the sixties and the carefree cinematography and editing pioneered by the French New Wave.</td>\n",
       "      <td>1.87</td>\n",
       "      <td>https://www.criterionchannel.com/13-days-in-france</td>\n",
       "    </tr>\n",
       "    <tr>\n",
       "      <th>8</th>\n",
       "      <td>XIVth Olympiad: The Glory of Sport</td>\n",
       "      <td>Castleton Knight</td>\n",
       "      <td>United Kingdom</td>\n",
       "      <td>1948</td>\n",
       "      <td>1940s</td>\n",
       "      <td>2:18</td>\n",
       "      <td>The official film of the Games of the XIV Olympiad London 1948 is the first in color and seeks to comprise both the winter and summer events from that year. The coverage of the sports cannot be faulted, as cinematographer Stanley Sayer marshaled his team of cameramen with a keen eye and deft precision.</td>\n",
       "      <td>2.30</td>\n",
       "      <td>https://www.criterionchannel.com/xivth-olympiad-the-glory-of-sport</td>\n",
       "    </tr>\n",
       "    <tr>\n",
       "      <th>9</th>\n",
       "      <td>16 Days of Glory</td>\n",
       "      <td>Bud Greenspan</td>\n",
       "      <td>United States</td>\n",
       "      <td>1986</td>\n",
       "      <td>1980s</td>\n",
       "      <td>4:44</td>\n",
       "      <td>Director Bud Greenspan, whose career covering sporting events had begun some twenty years earlier, seized the opportunity to helm the official film of the 1984 Los Angeles Olympics with such gusto that he would become the IOC's go-to person for Olympic movies. And this 284-minute record of the 1984 Games set the tone for his nine Olympic films to come. 16 DAYS OF GLORY is audacious and fresh and springs from a fascination with the energy and ambition that drive the finest athletes.</td>\n",
       "      <td>4.73</td>\n",
       "      <td>https://www.criterionchannel.com/16-days-of-glory</td>\n",
       "    </tr>\n",
       "  </tbody>\n",
       "</table>\n",
       "</div>"
      ],
      "text/plain": [
       "                                     Title               Director  \\\n",
       "0           2 or 3 Things I Know About Her        Jean-Luc Godard   \n",
       "1                                  3 Faces           Jafar Panahi   \n",
       "2             4 Months, 3 Weeks and 2 Days        Cristian Mungiu   \n",
       "3   The VI Olympic Winter Games, Oslo 1952          Tankred Ibsen   \n",
       "4                                       8½       Federico Fellini   \n",
       "5             The IX Olympiad at Amsterdam                    NaN   \n",
       "6  IX Olympic Winter Games, Innsbruck 1964           Theo Hörmann   \n",
       "7                        13 Days in France  François Reichenbach…   \n",
       "8       XIVth Olympiad: The Glory of Sport       Castleton Knight   \n",
       "9                         16 Days of Glory          Bud Greenspan   \n",
       "\n",
       "          Country  Year Decade Duration  \\\n",
       "0          France  1967  1960s     1:27   \n",
       "1            Iran  2018  2010s     1:40   \n",
       "2         Romania  2007  2000s     1:53   \n",
       "3          Norway  1952  1950s     1:43   \n",
       "4           Italy  1963  1960s     2:19   \n",
       "5     Netherlands  1928  1920s     4:11   \n",
       "6         Austria  1964  1960s     1:30   \n",
       "7          France  1968  1960s     1:52   \n",
       "8  United Kingdom  1948  1940s     2:18   \n",
       "9   United States  1986  1980s     4:44   \n",
       "\n",
       "                                                                                                                                                                                                                                                                                                                                                                                                                                                                                                                                                                                                                                                                                                                                                     Description  \\\n",
       "0                  In 2 OR 3 THINGS I KNOW ABOUT HER (2 OU 3 CHOSES QUE JE SAIS D’ELLE), Jean-Luc Godard beckons us ever closer, whispering in our ears as narrator. About what? Money, sex, fashion, the city, love, language, war: in a word, everything. Among the legendary French filmmaker’s finest achievements, the film takes as its ostensible subject the daily life of Juliette Janson (Marina Vlady), a housewife from the Paris suburbs who prostitutes herself for extra money. Yet this is only a template for Godard to spin off into provocative philosophical tangents and gorgeous images. 2 OR 3 THINGS I KNOW ABOUT HER is perhaps Godard’s most revelatory look at consumer culture, shot in ravishing widescreen color by Raoul Coutard.   \n",
       "1  Iranian master Jafar Panahi’s fourth feature since he was officially banned from filmmaking is a courageous act of antipatriarchal defiance from an artist who has refused to be silenced. This playful docufiction road movie begins with a smartphone video sent to the director and real-life star actress Behnaz Jafari from a desperate young woman who, distraught at her family’s refusal to let her study drama, seemingly records her own suicide. Traveling to the woman’s rural hometown to investigate, Panahi and Jafari find themselves launched on a slyly comic, quietly revelatory journey that builds in narrative, thematic, and visual intricacy to put forth a grand expression of community and solidarity under the eye of oppression.   \n",
       "2            Romanian filmmaker Cristian Mungiu shot to international prominence with this rigorously realistic Palme d’Or–winning second feature. In 1987, during the dictatorship of Nicolae Ceaușescu, college roommates Otilia (Anamaria Marinca) and Găbița (Laura Vasiliu) seek an illegal abortion for Găbița. In unflinching but empathetic detail, the film recounts the events of twenty-four perilous hours in their lives, culminating in their encounter with a manipulative and menacing abortionist (Vlad Ivanov). With powerful performances that accentuate the characters’ flawed humanity, 4 MONTHS, 3 WEEKS AND 2 DAYS is a gutting account of the impossible choices women face when taking control of their bodies means breaking the law.   \n",
       "3                                                                                                                                                                                                                                                                                                                                                                                                       Director Tancred Ibsen's penchant for depicting rustic life shines through in the bucolic scenes at the start of THE VI OLYMPIC WINTER GAMES, OSLO 1952. In addition to the exciting scenes of competition (Winter sports are followed with almost rabid fervor in Scandinavia), Ibsen records a sense of community spirit shared among the competitors.   \n",
       "4                                                                                                                                                                                                                                                                                                                               Marcello Mastroianni plays Guido Anselmi, a director whose new project is collapsing around him, along with his life. One of the greatest films about film ever made, Federico Fellini’s 8½ (Otto e mezzo) turns one man’s artistic crisis into a grand epic of the cinema. An early working title for 8½ was THE BEAUTIFUL CONFUSION, and Fellini’s masterpiece is exactly that: a shimmering dream, a circus, and a magic act.   \n",
       "5                                                                                                                                                                                                                                                                                                                                                                                                                                                                  Made by Istituto Luce, the Italian film company controlled by Benito Mussolini since 1925, THE IX OLYMPIAD IN AMSTERDAM may, understandably, highlight Italian participants, but it is the first Olympic documentary that describes the techniques of certain events with useful particulars.   \n",
       "6                                                                                                                                                                                                                                                                                                                                                                                                                          Joy and good humor pervades Theo Hörmann's documentary record of the 1964 Games in Austria. Shot in Agfacolor, it nurtures a folkloric image of Tyrol, with its quaint mountain farms and obligatory yodeling. Hörmann deploys shots from a helicopter to present the landscape of Tyrol but also to show the skills of the athletes.   \n",
       "7                                                                                                                                                                                                                                                                   13 DAYS IN FRANCE, a personal project for French filmmaker Claude Lelouch, approaches the X Olympic Winter Games in a radical way, ignoring certain disciplines and dwelling on others. This impressionistic kaleidoscope of a movie manages to be both freewheeling and intimate. Under the direction of Lelouch and François Reichenbach, 13 DAYS IN FRANCE pulses with the insouciant spirit of the sixties and the carefree cinematography and editing pioneered by the French New Wave.   \n",
       "8                                                                                                                                                                                                                                                                                                                                                                                                                                                The official film of the Games of the XIV Olympiad London 1948 is the first in color and seeks to comprise both the winter and summer events from that year. The coverage of the sports cannot be faulted, as cinematographer Stanley Sayer marshaled his team of cameramen with a keen eye and deft precision.   \n",
       "9                                                                                                                                                                                                                                                         Director Bud Greenspan, whose career covering sporting events had begun some twenty years earlier, seized the opportunity to helm the official film of the 1984 Los Angeles Olympics with such gusto that he would become the IOC's go-to person for Olympic movies. And this 284-minute record of the 1984 Games set the tone for his nine Olympic films to come. 16 DAYS OF GLORY is audacious and fresh and springs from a fascination with the energy and ambition that drive the finest athletes.   \n",
       "\n",
       "   Total Hours  \\\n",
       "0         1.45   \n",
       "1         1.67   \n",
       "2         1.88   \n",
       "3         1.72   \n",
       "4         2.32   \n",
       "5         4.18   \n",
       "6         1.50   \n",
       "7         1.87   \n",
       "8         2.30   \n",
       "9         4.73   \n",
       "\n",
       "                                                                       Url  \n",
       "0          https://www.criterionchannel.com/2-or-3-things-i-know-about-her  \n",
       "1                                 https://www.criterionchannel.com/3-faces  \n",
       "2             https://www.criterionchannel.com/4-months-3-weeks-and-2-days  \n",
       "3   https://www.criterionchannel.com/the-vi-olympic-winter-games-oslo-1952  \n",
       "4                                    https://www.criterionchannel.com/81-2  \n",
       "5            https://www.criterionchannel.com/the-ix-olympiad-in-amsterdam  \n",
       "6  https://www.criterionchannel.com/ix-olympic-winter-games-innsbruck-1964  \n",
       "7                       https://www.criterionchannel.com/13-days-in-france  \n",
       "8       https://www.criterionchannel.com/xivth-olympiad-the-glory-of-sport  \n",
       "9                        https://www.criterionchannel.com/16-days-of-glory  "
      ]
     },
     "execution_count": 19,
     "metadata": {},
     "output_type": "execute_result"
    }
   ],
   "source": [
    "data.head(10)"
   ]
  },
  {
   "cell_type": "code",
   "execution_count": 20,
   "metadata": {},
   "outputs": [],
   "source": [
    "corpus = data['Description']"
   ]
  },
  {
   "cell_type": "code",
   "execution_count": 21,
   "metadata": {},
   "outputs": [
    {
     "data": {
      "text/plain": [
       "1620"
      ]
     },
     "execution_count": 21,
     "metadata": {},
     "output_type": "execute_result"
    }
   ],
   "source": [
    "len(corpus)"
   ]
  },
  {
   "cell_type": "code",
   "execution_count": 22,
   "metadata": {},
   "outputs": [],
   "source": [
    "import re\n",
    "f = open('C:/Users/HP/Documents/NLP/MySQL_stopwords.txt', 'r', encoding = 'utf-8')\n",
    "stop_words = f.read()\n",
    "stop_words = re.split(' \\t|\\n', stop_words)"
   ]
  },
  {
   "cell_type": "code",
   "execution_count": 23,
   "metadata": {},
   "outputs": [],
   "source": [
    "import nltk\n",
    "from nltk import TweetTokenizer\n",
    "# stop_words = nltk.corpus.stopwords.words('english')\n",
    "tokenizer = TweetTokenizer()\n",
    "lemmatizer = nltk.stem.wordnet.WordNetLemmatizer()\n",
    "def normalize_corpus(corpus):\n",
    "    normalized_corpus = []\n",
    "    for i, document in enumerate(corpus):\n",
    "        # Lowercase\n",
    "        document = document.lower()\n",
    "        # Replace \n",
    "        document = document.replace(\"/\", \" \")\n",
    "        document = document.replace(\"’\", \"'\")\n",
    "        document = document.replace(\"'s\", \"\")\n",
    "        # Remove numbers\n",
    "        document = re.sub('[^A-Za-z0-9\\']+', ' ', document)\n",
    "        # Strip spaces\n",
    "        document_tokens = tokenizer.tokenize(document)\n",
    "        # Remove stopwords\n",
    "        document_tokens = [token for token in document_tokens if token not in stop_words]\n",
    "        # Lemmatize\n",
    "        document_tokens = [lemmatizer.lemmatize(token) for token in document_tokens if not token.isnumeric()]\n",
    "        # Remove single characters\n",
    "        document_tokens = [token for token in document_tokens if len(token) > 1]\n",
    "        # Remove empty corpus\n",
    "        if document_tokens:\n",
    "            normalized_corpus.append(document_tokens)\n",
    "    return normalized_corpus\n",
    "normalized_corpus = normalize_corpus(corpus)"
   ]
  },
  {
   "cell_type": "code",
   "execution_count": 25,
   "metadata": {},
   "outputs": [],
   "source": [
    "import gensim\n",
    "bigram = gensim.models.Phrases(normalized_corpus, min_count = 5, threshold = 5, delimiter = b'_')\n",
    "bigram_model = gensim.models.phrases.Phraser(bigram)"
   ]
  },
  {
   "cell_type": "code",
   "execution_count": 28,
   "metadata": {},
   "outputs": [
    {
     "name": "stdout",
     "output_type": "stream",
     "text": [
      "Total Vocabulary Size: 15467\n"
     ]
    }
   ],
   "source": [
    "normalized_corpus_bigrams = [bigram_model[post] for post in normalized_corpus]\n",
    "# Create a dictionary representation of the documents.\n",
    "dictionary = gensim.corpora.Dictionary(normalized_corpus_bigrams)\n",
    "print('Total Vocabulary Size:', len(dictionary))"
   ]
  },
  {
   "cell_type": "code",
   "execution_count": 29,
   "metadata": {},
   "outputs": [
    {
     "name": "stdout",
     "output_type": "stream",
     "text": [
      "Total Vocabulary Size: 3277\n"
     ]
    }
   ],
   "source": [
    "# Filter out words that occur less than 20 documents, or more than 50% of the documents.\n",
    "dictionary.filter_extremes(no_below = 5, no_above = 0.5)\n",
    "print('Total Vocabulary Size:', len(dictionary))"
   ]
  },
  {
   "cell_type": "code",
   "execution_count": 30,
   "metadata": {},
   "outputs": [],
   "source": [
    "# Transforming corpus into bag of words vectors\n",
    "bow_corpus = [dictionary.doc2bow(text) for text in normalized_corpus_bigrams]"
   ]
  },
  {
   "cell_type": "code",
   "execution_count": 56,
   "metadata": {},
   "outputs": [],
   "source": [
    "MALLET_PATH = 'C:/mallet-2.0.8/bin/mallet'\n",
    "import os\n",
    "from gensim.models.wrappers import LdaMallet\n",
    "from tqdm import tqdm\n",
    "os.environ['MALLET_HOME'] = 'C:/mallet-2.0.8'\n",
    "\n",
    "def topic_model_coherence_generator(corpus, texts, dictionary, \n",
    "                                    start_topic_count = 1, end_topic_count = 10, step = 1,\n",
    "                                    cpus = 8):\n",
    "    models = []\n",
    "    coherence_scores = []\n",
    "    for topic_nums in tqdm(range(start_topic_count, end_topic_count + 1, step)):\n",
    "        mallet_lda_model = gensim.models.wrappers.LdaMallet(mallet_path = MALLET_PATH, corpus = corpus,\n",
    "                                                            num_topics = topic_nums, id2word = dictionary,\n",
    "                                                            iterations = 100, workers = cpus, random_seed = 20210224)\n",
    "        cv_coherence_model_mallet_lda = gensim.models.CoherenceModel(model = mallet_lda_model, corpus = corpus, \n",
    "                                                                     texts = texts, dictionary = dictionary, \n",
    "                                                                     coherence = 'c_v')\n",
    "        coherence_score = cv_coherence_model_mallet_lda.get_coherence()\n",
    "        coherence_scores.append(coherence_score)\n",
    "        models.append(mallet_lda_model)\n",
    "    return models, coherence_scores"
   ]
  },
  {
   "cell_type": "markdown",
   "metadata": {},
   "source": [
    "### 40 Topics"
   ]
  },
  {
   "cell_type": "code",
   "execution_count": null,
   "metadata": {},
   "outputs": [],
   "source": [
    "end_topic_count = 40\n",
    "lda_models, coherence_scores = topic_model_coherence_generator(corpus = bow_corpus, texts = normalized_corpus_bigrams,\n",
    "                                                               dictionary = dictionary, start_topic_count = 1,\n",
    "                                                               end_topic_count = end_topic_count, step = 1, cpus = 8)"
   ]
  },
  {
   "cell_type": "code",
   "execution_count": null,
   "metadata": {},
   "outputs": [],
   "source": [
    "import pickle\n",
    "pickle.dump(lda_models, open('40_topics_lda_models.pkl', 'wb'))\n",
    "pickle.dump(coherence_scores, open('40_topics_coherence_scores.pkl', 'wb'))"
   ]
  },
  {
   "cell_type": "code",
   "execution_count": 2,
   "metadata": {},
   "outputs": [],
   "source": [
    "import pickle\n",
    "lda_models = pickle.load(open('40_topics_lda_models.pkl','rb'))\n",
    "coherence_scores = pickle.load(open('40_topics_coherence_scores.pkl','rb'))"
   ]
  },
  {
   "cell_type": "markdown",
   "metadata": {},
   "source": [
    "### 80 Topics"
   ]
  },
  {
   "cell_type": "code",
   "execution_count": null,
   "metadata": {},
   "outputs": [],
   "source": [
    "end_topic_count = 80\n",
    "lda_models, coherence_scores = topic_model_coherence_generator(corpus = bow_corpus, texts = normalized_corpus_bigrams,\n",
    "                                                               dictionary = dictionary, start_topic_count = 1,\n",
    "                                                               end_topic_count = end_topic_count, step = 1, cpus = 8)"
   ]
  },
  {
   "cell_type": "code",
   "execution_count": null,
   "metadata": {},
   "outputs": [],
   "source": [
    "import pickle\n",
    "pickle.dump(lda_models, open('80_topics_lda_models.pkl', 'wb'))\n",
    "pickle.dump(coherence_scores, open('80_topics_coherence_scores.pkl', 'wb'))"
   ]
  },
  {
   "cell_type": "code",
   "execution_count": 42,
   "metadata": {},
   "outputs": [],
   "source": [
    "import pickle\n",
    "lda_models = pickle.load(open('80_topics_lda_models.pkl','rb'))\n",
    "coherence_scores = pickle.load(open('80_topics_coherence_scores.pkl','rb'))"
   ]
  },
  {
   "cell_type": "markdown",
   "metadata": {},
   "source": [
    "### 160 Topics"
   ]
  },
  {
   "cell_type": "code",
   "execution_count": null,
   "metadata": {},
   "outputs": [
    {
     "name": "stderr",
     "output_type": "stream",
     "text": [
      " 11%|█████████                                                                        | 18/160 [05:42<47:35, 20.11s/it]"
     ]
    }
   ],
   "source": [
    "end_topic_count = 160\n",
    "lda_models, coherence_scores = topic_model_coherence_generator(corpus = bow_corpus, texts = normalized_corpus_bigrams,\n",
    "                                                               dictionary = dictionary, start_topic_count = 1,\n",
    "                                                               end_topic_count = end_topic_count, step = 1, cpus = 8)"
   ]
  },
  {
   "cell_type": "code",
   "execution_count": null,
   "metadata": {},
   "outputs": [],
   "source": [
    "import pickle\n",
    "pickle.dump(lda_models, open('160_topics_lda_models.pkl', 'wb'))\n",
    "pickle.dump(coherence_scores, open('160_topics_coherence_scores.pkl', 'wb'))"
   ]
  },
  {
   "cell_type": "code",
   "execution_count": null,
   "metadata": {},
   "outputs": [],
   "source": [
    "import pickle\n",
    "lda_models = pickle.load(open('160_topics_lda_models.pkl','rb'))\n",
    "coherence_scores = pickle.load(open('160_topics_coherence_scores.pkl','rb'))"
   ]
  },
  {
   "cell_type": "markdown",
   "metadata": {},
   "source": [
    "### Analyze Model"
   ]
  },
  {
   "cell_type": "code",
   "execution_count": 43,
   "metadata": {},
   "outputs": [],
   "source": [
    "import numpy as np\n",
    "import pandas as pd\n",
    "end_topic_count = 160\n",
    "coherence_df = pd.DataFrame({'Number of Topics': range(1, end_topic_count + 1, 1),\n",
    "                             'Coherence Score': np.round(coherence_scores, 4)})\n",
    "coherence_df = coherence_df.sort_values(by = 'Coherence Score', ascending = False).head(10)"
   ]
  },
  {
   "cell_type": "code",
   "execution_count": 44,
   "metadata": {},
   "outputs": [
    {
     "data": {
      "image/png": "[encoded data removed]",
      "text/plain": [
       "<Figure size 864x432 with 1 Axes>"
      ]
     },
     "metadata": {
      "needs_background": "light"
     },
     "output_type": "display_data"
    }
   ],
   "source": [
    "import matplotlib.pyplot as plt\n",
    "plt.style.use('fivethirtyeight')\n",
    "%matplotlib inline\n",
    "\n",
    "x_ax = range(1, end_topic_count + 1, 1)\n",
    "y_ax = coherence_scores\n",
    "plt.figure(figsize=(12, 6))\n",
    "plt.plot(x_ax, y_ax, c = 'r')\n",
    "plt.rcParams['figure.facecolor'] = 'white'\n",
    "xl = plt.xlabel('Number of Topics')\n",
    "yl = plt.ylabel('Coherence Score')"
   ]
  },
  {
   "cell_type": "code",
   "execution_count": 45,
   "metadata": {},
   "outputs": [
    {
     "data": {
      "text/plain": [
       "80"
      ]
     },
     "execution_count": 45,
     "metadata": {},
     "output_type": "execute_result"
    }
   ],
   "source": [
    "best_model_idx = coherence_df['Number of Topics'].index[0]\n",
    "best_lda_model = lda_models[best_model_idx]\n",
    "best_lda_model.num_topics"
   ]
  },
  {
   "cell_type": "code",
   "execution_count": 46,
   "metadata": {},
   "outputs": [],
   "source": [
    "topics = [[(term, round(wt, 3)) \n",
    "               for term, wt in best_lda_model.show_topic(n, topn=20)] \n",
    "                   for n in range(0, best_lda_model.num_topics)]"
   ]
  },
  {
   "cell_type": "code",
   "execution_count": 47,
   "metadata": {},
   "outputs": [
    {
     "data": {
      "text/html": [
       "<div>\n",
       "<style scoped>\n",
       "    .dataframe tbody tr th:only-of-type {\n",
       "        vertical-align: middle;\n",
       "    }\n",
       "\n",
       "    .dataframe tbody tr th {\n",
       "        vertical-align: top;\n",
       "    }\n",
       "\n",
       "    .dataframe thead th {\n",
       "        text-align: right;\n",
       "    }\n",
       "</style>\n",
       "<table border=\"1\" class=\"dataframe\">\n",
       "  <thead>\n",
       "    <tr style=\"text-align: right;\">\n",
       "      <th></th>\n",
       "      <th>Topic Desc</th>\n",
       "    </tr>\n",
       "  </thead>\n",
       "  <tbody>\n",
       "    <tr>\n",
       "      <th>1</th>\n",
       "      <td>day, moment, home, police, kinoshita, domestic, directed_keisuke, performance, night, soundtrack, discover, document, account, wake, college, depth, beautifully, low, remains, company</td>\n",
       "    </tr>\n",
       "    <tr>\n",
       "      <th>2</th>\n",
       "      <td>french, france, le, la, paris, star, de, romantic, contemporary, jean_pierre, fascination, french_wave, fran_ois, andr, jacques, max, henri, raymond, alain, provincial</td>\n",
       "    </tr>\n",
       "    <tr>\n",
       "      <th>3</th>\n",
       "      <td>woman, love, romance, husband, marriage, relationship, seek, celebration, trial, delicate, delirious, loneliness, fall_love, changing, gradually, employ, pregnant, threatened, independence, accused</td>\n",
       "    </tr>\n",
       "    <tr>\n",
       "      <th>4</th>\n",
       "      <td>film, art, sound, back, remarkable, visionary, hilarious, brilliantly, score, production, lead, chinese, committed, inimitable, deftly, model, composition, call, shine, author</td>\n",
       "    </tr>\n",
       "    <tr>\n",
       "      <th>5</th>\n",
       "      <td>wife, masterpiece, played, auteur, stranger, celebrated, cousin, exploration, escape, catherine, character_study, reputation, home, lake, exquisitely, devil, male, adult, wing, criminal</td>\n",
       "    </tr>\n",
       "  </tbody>\n",
       "</table>\n",
       "</div>"
      ],
      "text/plain": [
       "                                                                                                                                                                                              Topic Desc\n",
       "1                day, moment, home, police, kinoshita, domestic, directed_keisuke, performance, night, soundtrack, discover, document, account, wake, college, depth, beautifully, low, remains, company\n",
       "2                                french, france, le, la, paris, star, de, romantic, contemporary, jean_pierre, fascination, french_wave, fran_ois, andr, jacques, max, henri, raymond, alain, provincial\n",
       "3  woman, love, romance, husband, marriage, relationship, seek, celebration, trial, delicate, delirious, loneliness, fall_love, changing, gradually, employ, pregnant, threatened, independence, accused\n",
       "4                        film, art, sound, back, remarkable, visionary, hilarious, brilliantly, score, production, lead, chinese, committed, inimitable, deftly, model, composition, call, shine, author\n",
       "5              wife, masterpiece, played, auteur, stranger, celebrated, cousin, exploration, escape, catherine, character_study, reputation, home, lake, exquisitely, devil, male, adult, wing, criminal"
      ]
     },
     "execution_count": 47,
     "metadata": {},
     "output_type": "execute_result"
    }
   ],
   "source": [
    "pd.set_option('display.max_colwidth', None)\n",
    "topics_df = pd.DataFrame([', '.join([term for term, wt in topic])  \n",
    "                              for topic in topics],\n",
    "                         columns = ['Topic Desc'],\n",
    "                         index = range(1, best_lda_model.num_topics + 1)\n",
    "                         )\n",
    "topics_df.head()"
   ]
  },
  {
   "cell_type": "code",
   "execution_count": 48,
   "metadata": {},
   "outputs": [],
   "source": [
    "tm_results = best_lda_model[bow_corpus]"
   ]
  },
  {
   "cell_type": "code",
   "execution_count": 49,
   "metadata": {},
   "outputs": [],
   "source": [
    "corpus_topics = [sorted(topics, key = lambda record: -record[1])[0] for topics in tm_results]"
   ]
  },
  {
   "cell_type": "code",
   "execution_count": 50,
   "metadata": {},
   "outputs": [
    {
     "data": {
      "text/html": [
       "<div>\n",
       "<style scoped>\n",
       "    .dataframe tbody tr th:only-of-type {\n",
       "        vertical-align: middle;\n",
       "    }\n",
       "\n",
       "    .dataframe tbody tr th {\n",
       "        vertical-align: top;\n",
       "    }\n",
       "\n",
       "    .dataframe thead th {\n",
       "        text-align: right;\n",
       "    }\n",
       "</style>\n",
       "<table border=\"1\" class=\"dataframe\">\n",
       "  <thead>\n",
       "    <tr style=\"text-align: right;\">\n",
       "      <th></th>\n",
       "      <th>Document</th>\n",
       "      <th>Dominant Topic</th>\n",
       "      <th>Contribution %</th>\n",
       "      <th>Topic Desc</th>\n",
       "      <th>Description</th>\n",
       "    </tr>\n",
       "  </thead>\n",
       "  <tbody>\n",
       "    <tr>\n",
       "      <th>0</th>\n",
       "      <td>0</td>\n",
       "      <td>30</td>\n",
       "      <td>6.72</td>\n",
       "      <td>order, money, husband, culture, emotional, rich, poor, female, language, space, alongside, wedding, buddy, revelation, director, exploit, written, upper, middle_class, ne</td>\n",
       "      <td>In 2 OR 3 THINGS I KNOW ABOUT HER (2 OU 3 CHOSES QUE JE SAIS D’ELLE), Jean-Luc Godard beckons us ever closer, whispering in our ears as narrator. About what? Money, sex, fashion, the city, love, language, war: in a word, everything. Among the legendary French filmmaker’s finest achievements, the film takes as its ostensible subject the daily life of Juliette Janson (Marina Vlady), a housewife from the Paris suburbs who prostitutes herself for extra money. Yet this is only a template for Godard to spin off into provocative philosophical tangents and gorgeous images. 2 OR 3 THINGS I KNOW ABOUT HER is perhaps Godard’s most revelatory look at consumer culture, shot in ravishing widescreen color by Raoul Coutard.</td>\n",
       "    </tr>\n",
       "    <tr>\n",
       "      <th>1</th>\n",
       "      <td>1</td>\n",
       "      <td>34</td>\n",
       "      <td>4.61</td>\n",
       "      <td>life, portrait, artist, free, tender, agn_varda, playful, image, vivid, varda, beach, painter, cinema, daily, icon, routine, jane, kind, lived, jacques_demy</td>\n",
       "      <td>Iranian master Jafar Panahi’s fourth feature since he was officially banned from filmmaking is a courageous act of antipatriarchal defiance from an artist who has refused to be silenced. This playful docufiction road movie begins with a smartphone video sent to the director and real-life star actress Behnaz Jafari from a desperate young woman who, distraught at her family’s refusal to let her study drama, seemingly records her own suicide. Traveling to the woman’s rural hometown to investigate, Panahi and Jafari find themselves launched on a slyly comic, quietly revelatory journey that builds in narrative, thematic, and visual intricacy to put forth a grand expression of community and solidarity under the eye of oppression.</td>\n",
       "    </tr>\n",
       "    <tr>\n",
       "      <th>2</th>\n",
       "      <td>2</td>\n",
       "      <td>1</td>\n",
       "      <td>6.23</td>\n",
       "      <td>day, moment, home, police, kinoshita, domestic, directed_keisuke, performance, night, soundtrack, discover, document, account, wake, college, depth, beautifully, low, remains, company</td>\n",
       "      <td>Romanian filmmaker Cristian Mungiu shot to international prominence with this rigorously realistic Palme d’Or–winning second feature. In 1987, during the dictatorship of Nicolae Ceaușescu, college roommates Otilia (Anamaria Marinca) and Găbița (Laura Vasiliu) seek an illegal abortion for Găbița. In unflinching but empathetic detail, the film recounts the events of twenty-four perilous hours in their lives, culminating in their encounter with a manipulative and menacing abortionist (Vlad Ivanov). With powerful performances that accentuate the characters’ flawed humanity, 4 MONTHS, 3 WEEKS AND 2 DAYS is a gutting account of the impossible choices women face when taking control of their bodies means breaking the law.</td>\n",
       "    </tr>\n",
       "    <tr>\n",
       "      <th>3</th>\n",
       "      <td>3</td>\n",
       "      <td>69</td>\n",
       "      <td>12.52</td>\n",
       "      <td>game, event, opening, sport, record, individual, olympiad, olympic, official, olympic_game, feel, olympic_winter, day, editing, glory, approach, bud_greenspan, make, athlete, earlier</td>\n",
       "      <td>Director Tancred Ibsen's penchant for depicting rustic life shines through in the bucolic scenes at the start of THE VI OLYMPIC WINTER GAMES, OSLO 1952. In addition to the exciting scenes of competition (Winter sports are followed with almost rabid fervor in Scandinavia), Ibsen records a sense of community spirit shared among the competitors.</td>\n",
       "    </tr>\n",
       "    <tr>\n",
       "      <th>4</th>\n",
       "      <td>4</td>\n",
       "      <td>7</td>\n",
       "      <td>4.50</td>\n",
       "      <td>comedy, star, fantasy, plan, slapstick, discovers, put, spirit, chan, sly, hit, peter, student, smash, martial_art, rome, marcello_mastroianni, legend, seemingly, box_office</td>\n",
       "      <td>Marcello Mastroianni plays Guido Anselmi, a director whose new project is collapsing around him, along with his life. One of the greatest films about film ever made, Federico Fellini’s 8½ (Otto e mezzo) turns one man’s artistic crisis into a grand epic of the cinema. An early working title for 8½ was THE BEAUTIFUL CONFUSION, and Fellini’s masterpiece is exactly that: a shimmering dream, a circus, and a magic act.</td>\n",
       "    </tr>\n",
       "  </tbody>\n",
       "</table>\n",
       "</div>"
      ],
      "text/plain": [
       "   Document  Dominant Topic  Contribution %  \\\n",
       "0         0              30            6.72   \n",
       "1         1              34            4.61   \n",
       "2         2               1            6.23   \n",
       "3         3              69           12.52   \n",
       "4         4               7            4.50   \n",
       "\n",
       "                                                                                                                                                                                Topic Desc  \\\n",
       "0               order, money, husband, culture, emotional, rich, poor, female, language, space, alongside, wedding, buddy, revelation, director, exploit, written, upper, middle_class, ne   \n",
       "1                             life, portrait, artist, free, tender, agn_varda, playful, image, vivid, varda, beach, painter, cinema, daily, icon, routine, jane, kind, lived, jacques_demy   \n",
       "2  day, moment, home, police, kinoshita, domestic, directed_keisuke, performance, night, soundtrack, discover, document, account, wake, college, depth, beautifully, low, remains, company   \n",
       "3   game, event, opening, sport, record, individual, olympiad, olympic, official, olympic_game, feel, olympic_winter, day, editing, glory, approach, bud_greenspan, make, athlete, earlier   \n",
       "4            comedy, star, fantasy, plan, slapstick, discovers, put, spirit, chan, sly, hit, peter, student, smash, martial_art, rome, marcello_mastroianni, legend, seemingly, box_office   \n",
       "\n",
       "                                                                                                                                                                                                                                                                                                                                                                                                                                                                                                                                                                                                                                                                                                                                                     Description  \n",
       "0                  In 2 OR 3 THINGS I KNOW ABOUT HER (2 OU 3 CHOSES QUE JE SAIS D’ELLE), Jean-Luc Godard beckons us ever closer, whispering in our ears as narrator. About what? Money, sex, fashion, the city, love, language, war: in a word, everything. Among the legendary French filmmaker’s finest achievements, the film takes as its ostensible subject the daily life of Juliette Janson (Marina Vlady), a housewife from the Paris suburbs who prostitutes herself for extra money. Yet this is only a template for Godard to spin off into provocative philosophical tangents and gorgeous images. 2 OR 3 THINGS I KNOW ABOUT HER is perhaps Godard’s most revelatory look at consumer culture, shot in ravishing widescreen color by Raoul Coutard.  \n",
       "1  Iranian master Jafar Panahi’s fourth feature since he was officially banned from filmmaking is a courageous act of antipatriarchal defiance from an artist who has refused to be silenced. This playful docufiction road movie begins with a smartphone video sent to the director and real-life star actress Behnaz Jafari from a desperate young woman who, distraught at her family’s refusal to let her study drama, seemingly records her own suicide. Traveling to the woman’s rural hometown to investigate, Panahi and Jafari find themselves launched on a slyly comic, quietly revelatory journey that builds in narrative, thematic, and visual intricacy to put forth a grand expression of community and solidarity under the eye of oppression.  \n",
       "2            Romanian filmmaker Cristian Mungiu shot to international prominence with this rigorously realistic Palme d’Or–winning second feature. In 1987, during the dictatorship of Nicolae Ceaușescu, college roommates Otilia (Anamaria Marinca) and Găbița (Laura Vasiliu) seek an illegal abortion for Găbița. In unflinching but empathetic detail, the film recounts the events of twenty-four perilous hours in their lives, culminating in their encounter with a manipulative and menacing abortionist (Vlad Ivanov). With powerful performances that accentuate the characters’ flawed humanity, 4 MONTHS, 3 WEEKS AND 2 DAYS is a gutting account of the impossible choices women face when taking control of their bodies means breaking the law.  \n",
       "3                                                                                                                                                                                                                                                                                                                                                                                                       Director Tancred Ibsen's penchant for depicting rustic life shines through in the bucolic scenes at the start of THE VI OLYMPIC WINTER GAMES, OSLO 1952. In addition to the exciting scenes of competition (Winter sports are followed with almost rabid fervor in Scandinavia), Ibsen records a sense of community spirit shared among the competitors.  \n",
       "4                                                                                                                                                                                                                                                                                                                               Marcello Mastroianni plays Guido Anselmi, a director whose new project is collapsing around him, along with his life. One of the greatest films about film ever made, Federico Fellini’s 8½ (Otto e mezzo) turns one man’s artistic crisis into a grand epic of the cinema. An early working title for 8½ was THE BEAUTIFUL CONFUSION, and Fellini’s masterpiece is exactly that: a shimmering dream, a circus, and a magic act.  "
      ]
     },
     "execution_count": 50,
     "metadata": {},
     "output_type": "execute_result"
    }
   ],
   "source": [
    "corpus_topic_df = pd.DataFrame()\n",
    "corpus_topic_df['Document'] = range(0, len(corpus))\n",
    "corpus_topic_df['Dominant Topic'] = [item[0] + 1 for item in corpus_topics]\n",
    "corpus_topic_df['Contribution %'] = [round(item[1] * 100, 2) for item in corpus_topics]\n",
    "corpus_topic_df['Topic Desc'] = [topics_df.iloc[t[0]]['Topic Desc'] for t in corpus_topics]\n",
    "corpus_topic_df['Description'] = corpus\n",
    "corpus_topic_df.head()"
   ]
  },
  {
   "cell_type": "code",
   "execution_count": 51,
   "metadata": {},
   "outputs": [
    {
     "data": {
      "text/html": [
       "<div>\n",
       "<style scoped>\n",
       "    .dataframe tbody tr th:only-of-type {\n",
       "        vertical-align: middle;\n",
       "    }\n",
       "\n",
       "    .dataframe tbody tr th {\n",
       "        vertical-align: top;\n",
       "    }\n",
       "\n",
       "    .dataframe thead th {\n",
       "        text-align: right;\n",
       "    }\n",
       "</style>\n",
       "<table border=\"1\" class=\"dataframe\">\n",
       "  <thead>\n",
       "    <tr style=\"text-align: right;\">\n",
       "      <th></th>\n",
       "      <th>Document</th>\n",
       "      <th>Dominant Topic</th>\n",
       "      <th>Contribution %</th>\n",
       "      <th>Topic Desc</th>\n",
       "      <th>Description</th>\n",
       "    </tr>\n",
       "  </thead>\n",
       "  <tbody>\n",
       "    <tr>\n",
       "      <th>48</th>\n",
       "      <td>48</td>\n",
       "      <td>36</td>\n",
       "      <td>6.17</td>\n",
       "      <td>film, result, viewer, history, remains, real, story, place, setting, astonishing, piece, present, filmed, louis_malle, project, russell, maurice, filled, malle, coward</td>\n",
       "      <td>In 1986, Louis Malle, himself a transplant to the United States, set out to investigate the ever-widening range of immigrant experience in America. Interviewing a variety of newcomers (from teachers to astronauts to doctors) in middle- and working-class communities from coast to coast, Malle paints a generous, humane portrait of their individual struggles in an increasingly polyglot nation.</td>\n",
       "    </tr>\n",
       "    <tr>\n",
       "      <th>204</th>\n",
       "      <td>204</td>\n",
       "      <td>36</td>\n",
       "      <td>4.26</td>\n",
       "      <td>film, result, viewer, history, remains, real, story, place, setting, astonishing, piece, present, filmed, louis_malle, project, russell, maurice, filled, malle, coward</td>\n",
       "      <td>When he was cutting Phantom India, Louis Malle found that the footage shot in Calcutta was so diverse, intense, and unforgettable that it deserved its own film. The result, released theatrically, is at times shocking--a chaotic portrait of a city engulfed in social and political turmoil, edging ever closer to oblivion.</td>\n",
       "    </tr>\n",
       "    <tr>\n",
       "      <th>262</th>\n",
       "      <td>262</td>\n",
       "      <td>36</td>\n",
       "      <td>5.62</td>\n",
       "      <td>film, result, viewer, history, remains, real, story, place, setting, astonishing, piece, present, filmed, louis_malle, project, russell, maurice, filled, malle, coward</td>\n",
       "      <td>Few films can claim as much influence on the course of cinema history as CHRONICLE OF A SUMMER. The fascinating result of a collaboration between filmmaker-anthropologist Jean Rouch and sociologist Edgar Morin, this vanguard work of what Morin termed cinéma- vérité is a brilliantly conceived and realized sociopolitical diagnosis of the early sixties in France. Simply by interviewing a group of Paris residents in the summer of 1960—beginning with the provocative and eternal question “Are you happy?” and expanding to political issues, including the ongoing Algerian War—Rouch and Morin reveal the hopes and dreams of a wide array of people, from artists to factory workers, from an Italian émigré to an African student. CHRONICLE OF A SUMMER’s penetrative approach gives us a document of a time and place with extraordinary emotional depth.</td>\n",
       "    </tr>\n",
       "    <tr>\n",
       "      <th>422</th>\n",
       "      <td>422</td>\n",
       "      <td>36</td>\n",
       "      <td>9.79</td>\n",
       "      <td>film, result, viewer, history, remains, real, story, place, setting, astonishing, piece, present, filmed, louis_malle, project, russell, maurice, filled, malle, coward</td>\n",
       "      <td>For his feature debut, twenty-four-year-old Louis Malle brought together a mesmerizing performance by Jeanne Moreau, evocative cinematography by Henri Decaë, and a now legendary jazz score by Miles Davis. Taking place over the course of one restless Paris night, Malle’s richly atmospheric crime thriller stars Moreau and Maurice Ronet as lovers whose plan to murder her husband (his boss) goes awry, setting off a chain of events that seals their fate. A career touchstone for its director and female star, ELEVATOR TO THE GALLOWS was an astonishing beginning to Malle’s eclectic body of work, and it established Moreau as one of the most captivating actors ever to grace the screen.</td>\n",
       "    </tr>\n",
       "    <tr>\n",
       "      <th>423</th>\n",
       "      <td>423</td>\n",
       "      <td>36</td>\n",
       "      <td>7.88</td>\n",
       "      <td>film, result, viewer, history, remains, real, story, place, setting, astonishing, piece, present, filmed, louis_malle, project, russell, maurice, filled, malle, coward</td>\n",
       "      <td>Produced in Detroit, Michigan by little-known African American filmmaker Richard Maurice, ELEVEN P.M. is a surreal melodrama in which a poor violinist named Sundaisy (Maurice) tries to protect an orphaned girl (Wanda Maurice) from a small-time hoodlum. The story, which may or may not be a dream concocted by a struggling newspaperman, has one of the most bizarre endings in film history, when the spirit of the deceased Sundaisy possesses the body of a dog in order to take vengeance upon the crook.</td>\n",
       "    </tr>\n",
       "  </tbody>\n",
       "</table>\n",
       "</div>"
      ],
      "text/plain": [
       "     Document  Dominant Topic  Contribution %  \\\n",
       "48         48              36            6.17   \n",
       "204       204              36            4.26   \n",
       "262       262              36            5.62   \n",
       "422       422              36            9.79   \n",
       "423       423              36            7.88   \n",
       "\n",
       "                                                                                                                                                                  Topic Desc  \\\n",
       "48   film, result, viewer, history, remains, real, story, place, setting, astonishing, piece, present, filmed, louis_malle, project, russell, maurice, filled, malle, coward   \n",
       "204  film, result, viewer, history, remains, real, story, place, setting, astonishing, piece, present, filmed, louis_malle, project, russell, maurice, filled, malle, coward   \n",
       "262  film, result, viewer, history, remains, real, story, place, setting, astonishing, piece, present, filmed, louis_malle, project, russell, maurice, filled, malle, coward   \n",
       "422  film, result, viewer, history, remains, real, story, place, setting, astonishing, piece, present, filmed, louis_malle, project, russell, maurice, filled, malle, coward   \n",
       "423  film, result, viewer, history, remains, real, story, place, setting, astonishing, piece, present, filmed, louis_malle, project, russell, maurice, filled, malle, coward   \n",
       "\n",
       "                                                                                                                                                                                                                                                                                                                                                                                                                                                                                                                                                                                                                                                                                                                                                                                                                                                                      Description  \n",
       "48                                                                                                                                                                                                                                                                                                                                                                                                                                                                      In 1986, Louis Malle, himself a transplant to the United States, set out to investigate the ever-widening range of immigrant experience in America. Interviewing a variety of newcomers (from teachers to astronauts to doctors) in middle- and working-class communities from coast to coast, Malle paints a generous, humane portrait of their individual struggles in an increasingly polyglot nation.  \n",
       "204                                                                                                                                                                                                                                                                                                                                                                                                                                                                                                                                              When he was cutting Phantom India, Louis Malle found that the footage shot in Calcutta was so diverse, intense, and unforgettable that it deserved its own film. The result, released theatrically, is at times shocking--a chaotic portrait of a city engulfed in social and political turmoil, edging ever closer to oblivion.  \n",
       "262  Few films can claim as much influence on the course of cinema history as CHRONICLE OF A SUMMER. The fascinating result of a collaboration between filmmaker-anthropologist Jean Rouch and sociologist Edgar Morin, this vanguard work of what Morin termed cinéma- vérité is a brilliantly conceived and realized sociopolitical diagnosis of the early sixties in France. Simply by interviewing a group of Paris residents in the summer of 1960—beginning with the provocative and eternal question “Are you happy?” and expanding to political issues, including the ongoing Algerian War—Rouch and Morin reveal the hopes and dreams of a wide array of people, from artists to factory workers, from an Italian émigré to an African student. CHRONICLE OF A SUMMER’s penetrative approach gives us a document of a time and place with extraordinary emotional depth.  \n",
       "422                                                                                                                                                                  For his feature debut, twenty-four-year-old Louis Malle brought together a mesmerizing performance by Jeanne Moreau, evocative cinematography by Henri Decaë, and a now legendary jazz score by Miles Davis. Taking place over the course of one restless Paris night, Malle’s richly atmospheric crime thriller stars Moreau and Maurice Ronet as lovers whose plan to murder her husband (his boss) goes awry, setting off a chain of events that seals their fate. A career touchstone for its director and female star, ELEVATOR TO THE GALLOWS was an astonishing beginning to Malle’s eclectic body of work, and it established Moreau as one of the most captivating actors ever to grace the screen.  \n",
       "423                                                                                                                                                                                                                                                                                                                                                          Produced in Detroit, Michigan by little-known African American filmmaker Richard Maurice, ELEVEN P.M. is a surreal melodrama in which a poor violinist named Sundaisy (Maurice) tries to protect an orphaned girl (Wanda Maurice) from a small-time hoodlum. The story, which may or may not be a dream concocted by a struggling newspaperman, has one of the most bizarre endings in film history, when the spirit of the deceased Sundaisy possesses the body of a dog in order to take vengeance upon the crook.  "
      ]
     },
     "execution_count": 51,
     "metadata": {},
     "output_type": "execute_result"
    }
   ],
   "source": [
    "corpus_topic_df[corpus_topic_df['Dominant Topic'] == 36].head()"
   ]
  },
  {
   "cell_type": "code",
   "execution_count": 52,
   "metadata": {},
   "outputs": [
    {
     "data": {
      "text/html": [
       "<div>\n",
       "<style scoped>\n",
       "    .dataframe tbody tr th:only-of-type {\n",
       "        vertical-align: middle;\n",
       "    }\n",
       "\n",
       "    .dataframe tbody tr th {\n",
       "        vertical-align: top;\n",
       "    }\n",
       "\n",
       "    .dataframe thead th {\n",
       "        text-align: right;\n",
       "    }\n",
       "</style>\n",
       "<table border=\"1\" class=\"dataframe\">\n",
       "  <thead>\n",
       "    <tr style=\"text-align: right;\">\n",
       "      <th></th>\n",
       "      <th># of Docs</th>\n",
       "      <th>% Total Docs</th>\n",
       "      <th>Topic Desc</th>\n",
       "    </tr>\n",
       "    <tr>\n",
       "      <th>Dominant Topic</th>\n",
       "      <th></th>\n",
       "      <th></th>\n",
       "      <th></th>\n",
       "    </tr>\n",
       "  </thead>\n",
       "  <tbody>\n",
       "    <tr>\n",
       "      <th>18</th>\n",
       "      <td>44</td>\n",
       "      <td>2.72</td>\n",
       "      <td>family, father, daughter, ozu, story, law, yasujiro_ozu, mistress, return, japan, marry, tell_story, postwar_japan, mikio_naruse, regular, trapped, unique, widowed, evolution, kinuyo_tanaka</td>\n",
       "    </tr>\n",
       "    <tr>\n",
       "      <th>1</th>\n",
       "      <td>43</td>\n",
       "      <td>2.65</td>\n",
       "      <td>day, moment, home, police, kinoshita, domestic, directed_keisuke, performance, night, soundtrack, discover, document, account, wake, college, depth, beautifully, low, remains, company</td>\n",
       "    </tr>\n",
       "    <tr>\n",
       "      <th>69</th>\n",
       "      <td>42</td>\n",
       "      <td>2.59</td>\n",
       "      <td>game, event, opening, sport, record, individual, olympiad, olympic, official, olympic_game, feel, olympic_winter, day, editing, glory, approach, bud_greenspan, make, athlete, earlier</td>\n",
       "    </tr>\n",
       "    <tr>\n",
       "      <th>42</th>\n",
       "      <td>40</td>\n",
       "      <td>2.47</td>\n",
       "      <td>film, series, battle, godzilla, godard, final, monster, studio, movie, earth, sixty, quest, alien, jean_luc, sci_fi, king, giant, american, human, entry</td>\n",
       "    </tr>\n",
       "    <tr>\n",
       "      <th>2</th>\n",
       "      <td>38</td>\n",
       "      <td>2.35</td>\n",
       "      <td>french, france, le, la, paris, star, de, romantic, contemporary, jean_pierre, fascination, french_wave, fran_ois, andr, jacques, max, henri, raymond, alain, provincial</td>\n",
       "    </tr>\n",
       "  </tbody>\n",
       "</table>\n",
       "</div>"
      ],
      "text/plain": [
       "                # of Docs  % Total Docs  \\\n",
       "Dominant Topic                            \n",
       "18                     44          2.72   \n",
       "1                      43          2.65   \n",
       "69                     42          2.59   \n",
       "42                     40          2.47   \n",
       "2                      38          2.35   \n",
       "\n",
       "                                                                                                                                                                                                   Topic Desc  \n",
       "Dominant Topic                                                                                                                                                                                                 \n",
       "18              family, father, daughter, ozu, story, law, yasujiro_ozu, mistress, return, japan, marry, tell_story, postwar_japan, mikio_naruse, regular, trapped, unique, widowed, evolution, kinuyo_tanaka  \n",
       "1                     day, moment, home, police, kinoshita, domestic, directed_keisuke, performance, night, soundtrack, discover, document, account, wake, college, depth, beautifully, low, remains, company  \n",
       "69                     game, event, opening, sport, record, individual, olympiad, olympic, official, olympic_game, feel, olympic_winter, day, editing, glory, approach, bud_greenspan, make, athlete, earlier  \n",
       "42                                                   film, series, battle, godzilla, godard, final, monster, studio, movie, earth, sixty, quest, alien, jean_luc, sci_fi, king, giant, american, human, entry  \n",
       "2                                     french, france, le, la, paris, star, de, romantic, contemporary, jean_pierre, fascination, french_wave, fran_ois, andr, jacques, max, henri, raymond, alain, provincial  "
      ]
     },
     "execution_count": 52,
     "metadata": {},
     "output_type": "execute_result"
    }
   ],
   "source": [
    "topic_stats_df = corpus_topic_df.groupby('Dominant Topic').count()\n",
    "topic_stats_df = topic_stats_df.drop(['Contribution %', 'Topic Desc', 'Description'], axis = 1)\n",
    "topic_stats_df.columns = ['# of Docs']\n",
    "topic_stats_df['% Total Docs'] = round(100 * topic_stats_df['# of Docs'] / sum(topic_stats_df['# of Docs']), 2)\n",
    "topic_stats_df['Topic Desc'] = topics_df['Topic Desc']\n",
    "topic_stats_df.sort_values('% Total Docs', ascending = False).head()"
   ]
  },
  {
   "cell_type": "code",
   "execution_count": 53,
   "metadata": {},
   "outputs": [
    {
     "data": {
      "text/html": [
       "<div>\n",
       "<style scoped>\n",
       "    .dataframe tbody tr th:only-of-type {\n",
       "        vertical-align: middle;\n",
       "    }\n",
       "\n",
       "    .dataframe tbody tr th {\n",
       "        vertical-align: top;\n",
       "    }\n",
       "\n",
       "    .dataframe thead th {\n",
       "        text-align: right;\n",
       "    }\n",
       "</style>\n",
       "<table border=\"1\" class=\"dataframe\">\n",
       "  <thead>\n",
       "    <tr style=\"text-align: right;\">\n",
       "      <th></th>\n",
       "      <th># of Docs</th>\n",
       "      <th>% Total Docs</th>\n",
       "      <th>Topic Desc</th>\n",
       "    </tr>\n",
       "    <tr>\n",
       "      <th>Dominant Topic</th>\n",
       "      <th></th>\n",
       "      <th></th>\n",
       "      <th></th>\n",
       "    </tr>\n",
       "  </thead>\n",
       "  <tbody>\n",
       "    <tr>\n",
       "      <th>80</th>\n",
       "      <td>12</td>\n",
       "      <td>0.74</td>\n",
       "      <td>film, community, working_class, rural, feature, title, award, great, city, matter, concern, school, factory, fate, polish, flying, everyday, picture, winner_academy, bengali</td>\n",
       "    </tr>\n",
       "    <tr>\n",
       "      <th>62</th>\n",
       "      <td>11</td>\n",
       "      <td>0.68</td>\n",
       "      <td>cinema, movie, visually, image, soul, soviet, creative, witness, science_fiction, felt, bear, inventive, presented, foreign, fight, young_man, concern, europe, william, alexander</td>\n",
       "    </tr>\n",
       "    <tr>\n",
       "      <th>33</th>\n",
       "      <td>11</td>\n",
       "      <td>0.68</td>\n",
       "      <td>man, film, writer, taking, played, hit, study, performance, hour, hero, true, masterpiece, charming, socially, tale, china, lead, love, confront, award_winning</td>\n",
       "    </tr>\n",
       "    <tr>\n",
       "      <th>71</th>\n",
       "      <td>10</td>\n",
       "      <td>0.62</td>\n",
       "      <td>country, richard, house, left, artist, poignant, son, world, meet, offer, future, sublime, 1960s, beloved, post, directed, anxiety, revolutionary, cult, dream</td>\n",
       "    </tr>\n",
       "    <tr>\n",
       "      <th>75</th>\n",
       "      <td>6</td>\n",
       "      <td>0.37</td>\n",
       "      <td>film, japanese, portrait, society, important, journey, rise, trace, oshima, audience, emotional, hiroshi, maker, protagonist, powerfully, descent, period, eisenstein, promptly, lesson</td>\n",
       "    </tr>\n",
       "  </tbody>\n",
       "</table>\n",
       "</div>"
      ],
      "text/plain": [
       "                # of Docs  % Total Docs  \\\n",
       "Dominant Topic                            \n",
       "80                     12          0.74   \n",
       "62                     11          0.68   \n",
       "33                     11          0.68   \n",
       "71                     10          0.62   \n",
       "75                      6          0.37   \n",
       "\n",
       "                                                                                                                                                                                             Topic Desc  \n",
       "Dominant Topic                                                                                                                                                                                           \n",
       "80                        film, community, working_class, rural, feature, title, award, great, city, matter, concern, school, factory, fate, polish, flying, everyday, picture, winner_academy, bengali  \n",
       "62                   cinema, movie, visually, image, soul, soviet, creative, witness, science_fiction, felt, bear, inventive, presented, foreign, fight, young_man, concern, europe, william, alexander  \n",
       "33                                      man, film, writer, taking, played, hit, study, performance, hour, hero, true, masterpiece, charming, socially, tale, china, lead, love, confront, award_winning  \n",
       "71                                       country, richard, house, left, artist, poignant, son, world, meet, offer, future, sublime, 1960s, beloved, post, directed, anxiety, revolutionary, cult, dream  \n",
       "75              film, japanese, portrait, society, important, journey, rise, trace, oshima, audience, emotional, hiroshi, maker, protagonist, powerfully, descent, period, eisenstein, promptly, lesson  "
      ]
     },
     "execution_count": 53,
     "metadata": {},
     "output_type": "execute_result"
    }
   ],
   "source": [
    "topic_stats_df.sort_values('% Total Docs', ascending = False).tail()"
   ]
  },
  {
   "cell_type": "code",
   "execution_count": 54,
   "metadata": {},
   "outputs": [
    {
     "data": {
      "text/html": [
       "<div>\n",
       "<style scoped>\n",
       "    .dataframe tbody tr th:only-of-type {\n",
       "        vertical-align: middle;\n",
       "    }\n",
       "\n",
       "    .dataframe tbody tr th {\n",
       "        vertical-align: top;\n",
       "    }\n",
       "\n",
       "    .dataframe thead th {\n",
       "        text-align: right;\n",
       "    }\n",
       "</style>\n",
       "<table border=\"1\" class=\"dataframe\">\n",
       "  <thead>\n",
       "    <tr style=\"text-align: right;\">\n",
       "      <th></th>\n",
       "      <th>Document</th>\n",
       "      <th>Dominant Topic</th>\n",
       "      <th>Contribution %</th>\n",
       "      <th>Topic Desc</th>\n",
       "      <th>Description</th>\n",
       "    </tr>\n",
       "    <tr>\n",
       "      <th>Dominant Topic</th>\n",
       "      <th></th>\n",
       "      <th></th>\n",
       "      <th></th>\n",
       "      <th></th>\n",
       "      <th></th>\n",
       "    </tr>\n",
       "  </thead>\n",
       "  <tbody>\n",
       "    <tr>\n",
       "      <th>22</th>\n",
       "      <td>650</td>\n",
       "      <td>22</td>\n",
       "      <td>46.99</td>\n",
       "      <td>world_war, ii, drama, soldier, tragedy, filmed, adapted, find, camp, moral, wartime, system, raw, corrupt, nation, personal, released, japanese_cinema, army, masaki_kobayashi</td>\n",
       "      <td>Masaki Kobayashi’s mammoth humanist drama is one of the most staggering achievements of Japanese cinema. Originally filmed and released in three parts, the nine-and-a-half-hour THE HUMAN CONDITION (NINGEN NO JOKEN), adapted from Junpei Gomikawa’s six-volume novel, tells of the journey of the well-intentioned yet naive Kaji (handsome Japanese superstar Tatsuya Nakadai) from labor camp supervisor to Imperial Army soldier to Soviet POW. Constantly trying to rise above a corrupt system, Kaji time and again finds his morals an impediment rather than an advantage. A raw indictment of its nation’s wartime mentality as well as a personal existential tragedy, Kobayashi’s riveting, gorgeously filmed epic is novelistic cinema at its best.</td>\n",
       "    </tr>\n",
       "    <tr>\n",
       "      <th>57</th>\n",
       "      <td>266</td>\n",
       "      <td>57</td>\n",
       "      <td>29.63</td>\n",
       "      <td>director, time, silent, star, comic, comedy, showcase, memorable, chaplin, iconic, great, fortune, lost, timeless, search, charlie_chaplin, gag, set_piece, audacious, peak</td>\n",
       "      <td>In the last film he made during the silent era, Charlie Chaplin revels in the art of the circus, paying tribute to the acrobats and pantomimists who inspired his virtuoso pratfalls. After being mistaken for a pickpocket, Chaplin’s Tramp flees into the ring of a traveling circus and soon becomes the star of the show, falling for the troupe’s bareback rider along the way. Despite its famously troubled production, this gag-packed comedy ranks among Chaplin’s finest, thanks to some of the most audacious set pieces of the director-performer’s career, including a close brush with a lion and a climactic tightrope walk with a barrelful of monkeys. THE CIRCUS, which was rereleased in 1969 with a new score by Chaplin, is an uproarious high-wire act that showcases silent cinema’s most popular entertainer at the peak of his comic powers.</td>\n",
       "    </tr>\n",
       "    <tr>\n",
       "      <th>34</th>\n",
       "      <td>108</td>\n",
       "      <td>34</td>\n",
       "      <td>23.71</td>\n",
       "      <td>life, portrait, artist, free, tender, agn_varda, playful, image, vivid, varda, beach, painter, cinema, daily, icon, routine, jane, kind, lived, jacques_demy</td>\n",
       "      <td>“If we opened people up, we’d find landscapes. If we opened me up, we’d find beaches.” Originally intended to be Agnès Varda’s farewell to filmmaking, this enchanting auto-portrait, made in her eightieth year, is a freewheeling journey through her life, career, and artistic philosophy. Revisiting the places that shaped her—from the North Sea beaches of Belgium where she spent her childhood to the Mediterranean village where she shot her first film to the boardwalks of Los Angeles where she lived with her husband, Jacques Demy—Varda reflects on a lifetime of creation and inspiration, successes and setbacks, heartbreak and joy. Replete with images of wonder and whimsy—the ocean reflected in a kaleidoscope of mirrors, the streets of Paris transformed into a sandy beach, the filmmaker herself ensconced in the belly of a whale—The Beaches of Agnès is a playful and poignant record of a life lived fully and passionately in the name of cinema.</td>\n",
       "    </tr>\n",
       "    <tr>\n",
       "      <th>40</th>\n",
       "      <td>1151</td>\n",
       "      <td>40</td>\n",
       "      <td>20.50</td>\n",
       "      <td>young, close, york, lady, comedy, olivier, brutal, english, life, critic, naturalistic, experience, delightful, production, bernard, couple, cold, divorce, casting, inspiration</td>\n",
       "      <td>Cranky Professor Henry Higgins (Leslie Howard) takes a bet that he can turn Cockney guttersnipe Eliza Doolittle (Wendy Hiller) into a “proper lady” in a mere six months in this delightful comedy of bad manners, based on the play by George Bernard Shaw. This Academy Award-winning inspiration for Lerner and Loewe’s “My Fair Lady” was directed by Anthony Asquith and star Howard, edited by David Lean, and scripted by Shaw himself.</td>\n",
       "    </tr>\n",
       "    <tr>\n",
       "      <th>12</th>\n",
       "      <td>709</td>\n",
       "      <td>12</td>\n",
       "      <td>19.11</td>\n",
       "      <td>film, part, power, epic, death, future, trilogy, passion, century, innovative, conceived, complete, secret, shooting, offer, installment, acted, terrible, banned, packed</td>\n",
       "      <td>Navigating the deadly waters of Stalinist politics, Eisenstein was able to film two parts of his planned trilogy about the troubled sixteenth-century tsar who united Russia. Visually stunning and powerfully acted, IVAN THE TERRIBLE charts the rise to power and descent into terror of this veritable dictator. Though pleased with the first installment, Stalin detected the portrait in the second film, with its summary executions and secret police, and promptly banned it.</td>\n",
       "    </tr>\n",
       "  </tbody>\n",
       "</table>\n",
       "</div>"
      ],
      "text/plain": [
       "                Document  Dominant Topic  Contribution %  \\\n",
       "Dominant Topic                                             \n",
       "22                   650              22           46.99   \n",
       "57                   266              57           29.63   \n",
       "34                   108              34           23.71   \n",
       "40                  1151              40           20.50   \n",
       "12                   709              12           19.11   \n",
       "\n",
       "                                                                                                                                                                                      Topic Desc  \\\n",
       "Dominant Topic                                                                                                                                                                                     \n",
       "22                world_war, ii, drama, soldier, tragedy, filmed, adapted, find, camp, moral, wartime, system, raw, corrupt, nation, personal, released, japanese_cinema, army, masaki_kobayashi   \n",
       "57                   director, time, silent, star, comic, comedy, showcase, memorable, chaplin, iconic, great, fortune, lost, timeless, search, charlie_chaplin, gag, set_piece, audacious, peak   \n",
       "34                                  life, portrait, artist, free, tender, agn_varda, playful, image, vivid, varda, beach, painter, cinema, daily, icon, routine, jane, kind, lived, jacques_demy   \n",
       "40              young, close, york, lady, comedy, olivier, brutal, english, life, critic, naturalistic, experience, delightful, production, bernard, couple, cold, divorce, casting, inspiration   \n",
       "12                     film, part, power, epic, death, future, trilogy, passion, century, innovative, conceived, complete, secret, shooting, offer, installment, acted, terrible, banned, packed   \n",
       "\n",
       "                                                                                                                                                                                                                                                                                                                                                                                                                                                                                                                                                                                                                                                                                                                                                                                                                                                                                                                                                                                          Description  \n",
       "Dominant Topic                                                                                                                                                                                                                                                                                                                                                                                                                                                                                                                                                                                                                                                                                                                                                                                                                                                                                                                                                                                         \n",
       "22                                                                                                                                                                                                                                  Masaki Kobayashi’s mammoth humanist drama is one of the most staggering achievements of Japanese cinema. Originally filmed and released in three parts, the nine-and-a-half-hour THE HUMAN CONDITION (NINGEN NO JOKEN), adapted from Junpei Gomikawa’s six-volume novel, tells of the journey of the well-intentioned yet naive Kaji (handsome Japanese superstar Tatsuya Nakadai) from labor camp supervisor to Imperial Army soldier to Soviet POW. Constantly trying to rise above a corrupt system, Kaji time and again finds his morals an impediment rather than an advantage. A raw indictment of its nation’s wartime mentality as well as a personal existential tragedy, Kobayashi’s riveting, gorgeously filmed epic is novelistic cinema at its best.  \n",
       "57                                                                                                                              In the last film he made during the silent era, Charlie Chaplin revels in the art of the circus, paying tribute to the acrobats and pantomimists who inspired his virtuoso pratfalls. After being mistaken for a pickpocket, Chaplin’s Tramp flees into the ring of a traveling circus and soon becomes the star of the show, falling for the troupe’s bareback rider along the way. Despite its famously troubled production, this gag-packed comedy ranks among Chaplin’s finest, thanks to some of the most audacious set pieces of the director-performer’s career, including a close brush with a lion and a climactic tightrope walk with a barrelful of monkeys. THE CIRCUS, which was rereleased in 1969 with a new score by Chaplin, is an uproarious high-wire act that showcases silent cinema’s most popular entertainer at the peak of his comic powers.  \n",
       "34              “If we opened people up, we’d find landscapes. If we opened me up, we’d find beaches.” Originally intended to be Agnès Varda’s farewell to filmmaking, this enchanting auto-portrait, made in her eightieth year, is a freewheeling journey through her life, career, and artistic philosophy. Revisiting the places that shaped her—from the North Sea beaches of Belgium where she spent her childhood to the Mediterranean village where she shot her first film to the boardwalks of Los Angeles where she lived with her husband, Jacques Demy—Varda reflects on a lifetime of creation and inspiration, successes and setbacks, heartbreak and joy. Replete with images of wonder and whimsy—the ocean reflected in a kaleidoscope of mirrors, the streets of Paris transformed into a sandy beach, the filmmaker herself ensconced in the belly of a whale—The Beaches of Agnès is a playful and poignant record of a life lived fully and passionately in the name of cinema.  \n",
       "40                                                                                                                                                                                                                                                                                                                                                                                                                                                                                                                                                     Cranky Professor Henry Higgins (Leslie Howard) takes a bet that he can turn Cockney guttersnipe Eliza Doolittle (Wendy Hiller) into a “proper lady” in a mere six months in this delightful comedy of bad manners, based on the play by George Bernard Shaw. This Academy Award-winning inspiration for Lerner and Loewe’s “My Fair Lady” was directed by Anthony Asquith and star Howard, edited by David Lean, and scripted by Shaw himself.  \n",
       "12                                                                                                                                                                                                                                                                                                                                                                                                                                                                                                            Navigating the deadly waters of Stalinist politics, Eisenstein was able to film two parts of his planned trilogy about the troubled sixteenth-century tsar who united Russia. Visually stunning and powerfully acted, IVAN THE TERRIBLE charts the rise to power and descent into terror of this veritable dictator. Though pleased with the first installment, Stalin detected the portrait in the second film, with its summary executions and secret police, and promptly banned it.  "
      ]
     },
     "execution_count": 54,
     "metadata": {},
     "output_type": "execute_result"
    }
   ],
   "source": [
    "relevant_posts = corpus_topic_df.groupby('Dominant Topic') \\\n",
    ".apply(lambda topic_set: (topic_set.sort_values(by=['Contribution %'], ascending=False).iloc[0]))\n",
    "relevant_posts.sort_values('Contribution %', ascending = False).head()"
   ]
  }
 ],
 "metadata": {
  "kernelspec": {
   "display_name": "Python 3",
   "language": "python",
   "name": "python3"
  },
  "language_info": {
   "codemirror_mode": {
    "name": "ipython",
    "version": 3
   },
   "file_extension": ".py",
   "mimetype": "text/x-python",
   "name": "python",
   "nbconvert_exporter": "python",
   "pygments_lexer": "ipython3",
   "version": "3.8.8"
  }
 },
 "nbformat": 4,
 "nbformat_minor": 4
}
